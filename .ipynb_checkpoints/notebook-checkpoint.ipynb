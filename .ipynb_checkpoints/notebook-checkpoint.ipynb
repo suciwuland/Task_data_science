{
 "cells": [
  {
   "cell_type": "markdown",
   "id": "3fa1f963-629d-42cf-803a-a3a55aeb6944",
   "metadata": {},
   "source": [
    "# Proyek Analisis Data: [E-Commerce Public Dataset]\n",
    "- **Nama:** [Suci Wulan Dari]\n",
    "- **Email:** [suciwd3@gmail.com]\n",
    "- **ID Dicoding:** [suciwd3]"
   ]
  },
  {
   "cell_type": "markdown",
   "id": "2a30293f-de56-4ec0-9403-deaec00e3b43",
   "metadata": {},
   "source": [
    "## Menentukan Pertanyaan Bisnis"
   ]
  },
  {
   "cell_type": "markdown",
   "id": "81a910df-d445-4fb9-b076-130d90fadebe",
   "metadata": {},
   "source": [
    "1. Kategori produk mana yang paling laris atau paling banyak diminati pelanggan?\n",
    "2. Kategori produk mana yang sangat kurang diminati pelanggan?\n",
    "3. Apakah deskripsi produk dan jumlah foto berpengaruh pada tingkat penjualan?\n",
    "4. Berapa banyak pesanan yang terlambat dari perkiraan waktu pengiriman?\n",
    "5. Apakah ada hubungan antara keterlambatan pengiriman dengan review negatif?\n",
    "6. Metode pembayaran mana yang paling sering digunakan pelanggan?\n",
    "7. Apakah penggunaan metode pembayaran kredit atau cicilan memengaruhi nilai transaksi?\n",
    "8. Bagaimana distribusi skor ulasan?\n",
    "9. Apakah harga produk dan biaya pengiriman memengaruhi keputusan pembelian pelanggan?\n",
    "10. Apakah terdapat pola pembelian khusus di wilayah tertentu yang dapat memengaruhi strategi pemasaran regional?\n",
    "11. Bagaimana tren penjualan dari waktu ke waktu?"
   ]
  },
  {
   "cell_type": "markdown",
   "id": "e298ffc5-0278-4421-9f26-7f2cccfe5a37",
   "metadata": {},
   "source": [
    "## Import Package yang akan digunakan"
   ]
  },
  {
   "cell_type": "code",
   "execution_count": 2,
   "id": "68b9b3a5-c1a4-4268-ae3e-2e387564d2b2",
   "metadata": {},
   "outputs": [],
   "source": [
    "import pandas as pd\n",
    "import numpy as np\n",
    "import matplotlib.pyplot as plt\n",
    "import seaborn as sns"
   ]
  },
  {
   "cell_type": "markdown",
   "id": "1bac0ce6-db9a-46b9-bf3b-f67d2c821a17",
   "metadata": {},
   "source": [
    "## Data Wragling"
   ]
  },
  {
   "cell_type": "markdown",
   "id": "835a0f2a-5ea2-49b7-b91f-758e9f19be25",
   "metadata": {},
   "source": [
    "### - Gathering Data"
   ]
  },
  {
   "cell_type": "markdown",
   "id": "56ef5db5-9b03-4654-8558-29005069eadd",
   "metadata": {},
   "source": [
    "**1. Orders**"
   ]
  },
  {
   "cell_type": "code",
   "execution_count": 3,
   "id": "8d60f627-22fa-4618-b543-7d0cd2146e67",
   "metadata": {},
   "outputs": [
    {
     "data": {
      "text/html": [
       "<div>\n",
       "<style scoped>\n",
       "    .dataframe tbody tr th:only-of-type {\n",
       "        vertical-align: middle;\n",
       "    }\n",
       "\n",
       "    .dataframe tbody tr th {\n",
       "        vertical-align: top;\n",
       "    }\n",
       "\n",
       "    .dataframe thead th {\n",
       "        text-align: right;\n",
       "    }\n",
       "</style>\n",
       "<table border=\"1\" class=\"dataframe\">\n",
       "  <thead>\n",
       "    <tr style=\"text-align: right;\">\n",
       "      <th></th>\n",
       "      <th>order_id</th>\n",
       "      <th>customer_id</th>\n",
       "      <th>order_status</th>\n",
       "      <th>order_purchase_timestamp</th>\n",
       "      <th>order_approved_at</th>\n",
       "      <th>order_delivered_carrier_date</th>\n",
       "      <th>order_delivered_customer_date</th>\n",
       "      <th>order_estimated_delivery_date</th>\n",
       "    </tr>\n",
       "  </thead>\n",
       "  <tbody>\n",
       "    <tr>\n",
       "      <th>0</th>\n",
       "      <td>e481f51cbdc54678b7cc49136f2d6af7</td>\n",
       "      <td>9ef432eb6251297304e76186b10a928d</td>\n",
       "      <td>delivered</td>\n",
       "      <td>2017-10-02 10:56:33</td>\n",
       "      <td>2017-10-02 11:07:15</td>\n",
       "      <td>2017-10-04 19:55:00</td>\n",
       "      <td>2017-10-10 21:25:13</td>\n",
       "      <td>2017-10-18 00:00:00</td>\n",
       "    </tr>\n",
       "    <tr>\n",
       "      <th>1</th>\n",
       "      <td>53cdb2fc8bc7dce0b6741e2150273451</td>\n",
       "      <td>b0830fb4747a6c6d20dea0b8c802d7ef</td>\n",
       "      <td>delivered</td>\n",
       "      <td>2018-07-24 20:41:37</td>\n",
       "      <td>2018-07-26 03:24:27</td>\n",
       "      <td>2018-07-26 14:31:00</td>\n",
       "      <td>2018-08-07 15:27:45</td>\n",
       "      <td>2018-08-13 00:00:00</td>\n",
       "    </tr>\n",
       "    <tr>\n",
       "      <th>2</th>\n",
       "      <td>47770eb9100c2d0c44946d9cf07ec65d</td>\n",
       "      <td>41ce2a54c0b03bf3443c3d931a367089</td>\n",
       "      <td>delivered</td>\n",
       "      <td>2018-08-08 08:38:49</td>\n",
       "      <td>2018-08-08 08:55:23</td>\n",
       "      <td>2018-08-08 13:50:00</td>\n",
       "      <td>2018-08-17 18:06:29</td>\n",
       "      <td>2018-09-04 00:00:00</td>\n",
       "    </tr>\n",
       "    <tr>\n",
       "      <th>3</th>\n",
       "      <td>949d5b44dbf5de918fe9c16f97b45f8a</td>\n",
       "      <td>f88197465ea7920adcdbec7375364d82</td>\n",
       "      <td>delivered</td>\n",
       "      <td>2017-11-18 19:28:06</td>\n",
       "      <td>2017-11-18 19:45:59</td>\n",
       "      <td>2017-11-22 13:39:59</td>\n",
       "      <td>2017-12-02 00:28:42</td>\n",
       "      <td>2017-12-15 00:00:00</td>\n",
       "    </tr>\n",
       "    <tr>\n",
       "      <th>4</th>\n",
       "      <td>ad21c59c0840e6cb83a9ceb5573f8159</td>\n",
       "      <td>8ab97904e6daea8866dbdbc4fb7aad2c</td>\n",
       "      <td>delivered</td>\n",
       "      <td>2018-02-13 21:18:39</td>\n",
       "      <td>2018-02-13 22:20:29</td>\n",
       "      <td>2018-02-14 19:46:34</td>\n",
       "      <td>2018-02-16 18:17:02</td>\n",
       "      <td>2018-02-26 00:00:00</td>\n",
       "    </tr>\n",
       "  </tbody>\n",
       "</table>\n",
       "</div>"
      ],
      "text/plain": [
       "                           order_id                       customer_id  \\\n",
       "0  e481f51cbdc54678b7cc49136f2d6af7  9ef432eb6251297304e76186b10a928d   \n",
       "1  53cdb2fc8bc7dce0b6741e2150273451  b0830fb4747a6c6d20dea0b8c802d7ef   \n",
       "2  47770eb9100c2d0c44946d9cf07ec65d  41ce2a54c0b03bf3443c3d931a367089   \n",
       "3  949d5b44dbf5de918fe9c16f97b45f8a  f88197465ea7920adcdbec7375364d82   \n",
       "4  ad21c59c0840e6cb83a9ceb5573f8159  8ab97904e6daea8866dbdbc4fb7aad2c   \n",
       "\n",
       "  order_status order_purchase_timestamp    order_approved_at  \\\n",
       "0    delivered      2017-10-02 10:56:33  2017-10-02 11:07:15   \n",
       "1    delivered      2018-07-24 20:41:37  2018-07-26 03:24:27   \n",
       "2    delivered      2018-08-08 08:38:49  2018-08-08 08:55:23   \n",
       "3    delivered      2017-11-18 19:28:06  2017-11-18 19:45:59   \n",
       "4    delivered      2018-02-13 21:18:39  2018-02-13 22:20:29   \n",
       "\n",
       "  order_delivered_carrier_date order_delivered_customer_date  \\\n",
       "0          2017-10-04 19:55:00           2017-10-10 21:25:13   \n",
       "1          2018-07-26 14:31:00           2018-08-07 15:27:45   \n",
       "2          2018-08-08 13:50:00           2018-08-17 18:06:29   \n",
       "3          2017-11-22 13:39:59           2017-12-02 00:28:42   \n",
       "4          2018-02-14 19:46:34           2018-02-16 18:17:02   \n",
       "\n",
       "  order_estimated_delivery_date  \n",
       "0           2017-10-18 00:00:00  \n",
       "1           2018-08-13 00:00:00  \n",
       "2           2018-09-04 00:00:00  \n",
       "3           2017-12-15 00:00:00  \n",
       "4           2018-02-26 00:00:00  "
      ]
     },
     "execution_count": 3,
     "metadata": {},
     "output_type": "execute_result"
    }
   ],
   "source": [
    "# Load dataset\n",
    "orders = pd.read_csv('data/orders_dataset.csv')\n",
    "\n",
    "# Tampilkan beberapa baris pertama data\n",
    "orders.head()"
   ]
  },
  {
   "cell_type": "markdown",
   "id": "774936d4-a892-4f2d-aa36-b27df0454e67",
   "metadata": {},
   "source": [
    "**Insight:**\n",
    "\n",
    "**1. Rangkaian Waktu Pesanan:**\n",
    "Data ini menyediakan waktu untuk beberapa tahapan proses pesanan, dari *order_purchase_timestamp (waktu pesanan dibuat)*, *order_approved_at (waktu pesanan disetujui)*, *order_delivered_carrier_date (waktu pesanan dikirim oleh kurir)*, *order_delivered_customer_date (waktu pesanan diterima pelanggan)*, hingga *order_estimated_delivery_date (perkiraan waktu pengiriman)*. \n",
    "\n",
    "**2. Status Pesanan:**\n",
    "Kolom *order_status* menunjukkan status akhir dari setiap pesanan, di mana semua data dalam sampel ini memiliki status “delivered”. Ini menunjukkan bahwa data ini mencakup hanya pesanan yang berhasil diselesaikan.\n",
    "\n",
    "**3. Estimasi Waktu Pengiriman vs. Waktu Pengiriman Sebenarnya:**\n",
    "Kolom *order_estimated_delivery_date* dan *order_delivered_customer_date* memungkinkan perbandingan antara estimasi pengiriman dan pengiriman aktual.\n",
    "\n",
    "**4. Metrik Pelanggan Berulang:**\n",
    "Dengan *customer_id*, kita dapat mengidentifikasi apakah ada pelanggan yang melakukan beberapa pesanan. Analisis ini bisa membantu menemukan pelanggan setia atau menganalisis pola pesanan pelanggan."
   ]
  },
  {
   "cell_type": "markdown",
   "id": "246a599f-e519-4ff1-b1a2-811a4d4b055b",
   "metadata": {},
   "source": [
    "**2. Order Items**"
   ]
  },
  {
   "cell_type": "code",
   "execution_count": 4,
   "id": "319bd5af-de8e-414f-b360-877c4c9a73d6",
   "metadata": {},
   "outputs": [
    {
     "data": {
      "text/html": [
       "<div>\n",
       "<style scoped>\n",
       "    .dataframe tbody tr th:only-of-type {\n",
       "        vertical-align: middle;\n",
       "    }\n",
       "\n",
       "    .dataframe tbody tr th {\n",
       "        vertical-align: top;\n",
       "    }\n",
       "\n",
       "    .dataframe thead th {\n",
       "        text-align: right;\n",
       "    }\n",
       "</style>\n",
       "<table border=\"1\" class=\"dataframe\">\n",
       "  <thead>\n",
       "    <tr style=\"text-align: right;\">\n",
       "      <th></th>\n",
       "      <th>order_id</th>\n",
       "      <th>order_item_id</th>\n",
       "      <th>product_id</th>\n",
       "      <th>seller_id</th>\n",
       "      <th>shipping_limit_date</th>\n",
       "      <th>price</th>\n",
       "      <th>freight_value</th>\n",
       "    </tr>\n",
       "  </thead>\n",
       "  <tbody>\n",
       "    <tr>\n",
       "      <th>0</th>\n",
       "      <td>00010242fe8c5a6d1ba2dd792cb16214</td>\n",
       "      <td>1</td>\n",
       "      <td>4244733e06e7ecb4970a6e2683c13e61</td>\n",
       "      <td>48436dade18ac8b2bce089ec2a041202</td>\n",
       "      <td>2017-09-19 09:45:35</td>\n",
       "      <td>58.90</td>\n",
       "      <td>13.29</td>\n",
       "    </tr>\n",
       "    <tr>\n",
       "      <th>1</th>\n",
       "      <td>00018f77f2f0320c557190d7a144bdd3</td>\n",
       "      <td>1</td>\n",
       "      <td>e5f2d52b802189ee658865ca93d83a8f</td>\n",
       "      <td>dd7ddc04e1b6c2c614352b383efe2d36</td>\n",
       "      <td>2017-05-03 11:05:13</td>\n",
       "      <td>239.90</td>\n",
       "      <td>19.93</td>\n",
       "    </tr>\n",
       "    <tr>\n",
       "      <th>2</th>\n",
       "      <td>000229ec398224ef6ca0657da4fc703e</td>\n",
       "      <td>1</td>\n",
       "      <td>c777355d18b72b67abbeef9df44fd0fd</td>\n",
       "      <td>5b51032eddd242adc84c38acab88f23d</td>\n",
       "      <td>2018-01-18 14:48:30</td>\n",
       "      <td>199.00</td>\n",
       "      <td>17.87</td>\n",
       "    </tr>\n",
       "    <tr>\n",
       "      <th>3</th>\n",
       "      <td>00024acbcdf0a6daa1e931b038114c75</td>\n",
       "      <td>1</td>\n",
       "      <td>7634da152a4610f1595efa32f14722fc</td>\n",
       "      <td>9d7a1d34a5052409006425275ba1c2b4</td>\n",
       "      <td>2018-08-15 10:10:18</td>\n",
       "      <td>12.99</td>\n",
       "      <td>12.79</td>\n",
       "    </tr>\n",
       "    <tr>\n",
       "      <th>4</th>\n",
       "      <td>00042b26cf59d7ce69dfabb4e55b4fd9</td>\n",
       "      <td>1</td>\n",
       "      <td>ac6c3623068f30de03045865e4e10089</td>\n",
       "      <td>df560393f3a51e74553ab94004ba5c87</td>\n",
       "      <td>2017-02-13 13:57:51</td>\n",
       "      <td>199.90</td>\n",
       "      <td>18.14</td>\n",
       "    </tr>\n",
       "  </tbody>\n",
       "</table>\n",
       "</div>"
      ],
      "text/plain": [
       "                           order_id  order_item_id  \\\n",
       "0  00010242fe8c5a6d1ba2dd792cb16214              1   \n",
       "1  00018f77f2f0320c557190d7a144bdd3              1   \n",
       "2  000229ec398224ef6ca0657da4fc703e              1   \n",
       "3  00024acbcdf0a6daa1e931b038114c75              1   \n",
       "4  00042b26cf59d7ce69dfabb4e55b4fd9              1   \n",
       "\n",
       "                         product_id                         seller_id  \\\n",
       "0  4244733e06e7ecb4970a6e2683c13e61  48436dade18ac8b2bce089ec2a041202   \n",
       "1  e5f2d52b802189ee658865ca93d83a8f  dd7ddc04e1b6c2c614352b383efe2d36   \n",
       "2  c777355d18b72b67abbeef9df44fd0fd  5b51032eddd242adc84c38acab88f23d   \n",
       "3  7634da152a4610f1595efa32f14722fc  9d7a1d34a5052409006425275ba1c2b4   \n",
       "4  ac6c3623068f30de03045865e4e10089  df560393f3a51e74553ab94004ba5c87   \n",
       "\n",
       "   shipping_limit_date   price  freight_value  \n",
       "0  2017-09-19 09:45:35   58.90          13.29  \n",
       "1  2017-05-03 11:05:13  239.90          19.93  \n",
       "2  2018-01-18 14:48:30  199.00          17.87  \n",
       "3  2018-08-15 10:10:18   12.99          12.79  \n",
       "4  2017-02-13 13:57:51  199.90          18.14  "
      ]
     },
     "execution_count": 4,
     "metadata": {},
     "output_type": "execute_result"
    }
   ],
   "source": [
    "# Load dataset\n",
    "order_items = pd.read_csv('data/order_items_dataset.csv')\n",
    "\n",
    "# Tampilkan beberapa baris pertama data\n",
    "order_items.head()"
   ]
  },
  {
   "cell_type": "markdown",
   "id": "45b4d2fb-56e3-4c43-aaf9-bde8289f465b",
   "metadata": {},
   "source": [
    "**Insight:**\n",
    "\n",
    "**1. Harga produk dan biaya pengiriman:**\n",
    "Data ini mencakup informasi mengenai price (harga produk) dan freight_value (biaya pengiriman) untuk setiap item pesanan.\n",
    "\n",
    "**2. Batas Waktu Pengiriman Kurir (Shipping Limit Date):**\n",
    "Kolom shipping_limit_date menunjukkan batas waktu bagi kurir untuk mengirimkan pesanan dari seller (penjual).\n",
    "\n",
    "**3. Variasi Harga Produk:**\n",
    "Melalui kolom price, kita bisa melihat variasi harga dari berbagai produk yang dibeli. Dalam sampel ini, harga produk bervariasi dari 12.99 hingga 239.90.\n",
    "\n",
    "**4. Freight Value Terhadap Produk dengan Nilai Rendah:**\n",
    "Dari data sampel, terlihat bahwa ada produk dengan harga rendah yang masih memiliki biaya pengiriman cukup besar, seperti pada item dengan price 12.99 dan freight_value 12.79.\n",
    "\n",
    "**5. Identifikasi Produk dan Penjual (Product ID dan Seller ID):**\n",
    "Kolom product_id dan seller_id memungkinkan kita untuk mengidentifikasi produk dan penjual spesifik untuk setiap pesanan\n",
    "\n",
    "**6. Jumlah Item per order:**\n",
    "Kolom order_item_id memberikan informasi jumlah item dalam setiap order_id."
   ]
  },
  {
   "cell_type": "markdown",
   "id": "80f750d1-cf20-4a46-ada8-97d8c0efd15d",
   "metadata": {},
   "source": [
    "**3. Order Payments**"
   ]
  },
  {
   "cell_type": "code",
   "execution_count": 5,
   "id": "3d73499b-291c-4315-9382-4a888e3004d0",
   "metadata": {},
   "outputs": [
    {
     "data": {
      "text/html": [
       "<div>\n",
       "<style scoped>\n",
       "    .dataframe tbody tr th:only-of-type {\n",
       "        vertical-align: middle;\n",
       "    }\n",
       "\n",
       "    .dataframe tbody tr th {\n",
       "        vertical-align: top;\n",
       "    }\n",
       "\n",
       "    .dataframe thead th {\n",
       "        text-align: right;\n",
       "    }\n",
       "</style>\n",
       "<table border=\"1\" class=\"dataframe\">\n",
       "  <thead>\n",
       "    <tr style=\"text-align: right;\">\n",
       "      <th></th>\n",
       "      <th>order_id</th>\n",
       "      <th>payment_sequential</th>\n",
       "      <th>payment_type</th>\n",
       "      <th>payment_installments</th>\n",
       "      <th>payment_value</th>\n",
       "    </tr>\n",
       "  </thead>\n",
       "  <tbody>\n",
       "    <tr>\n",
       "      <th>0</th>\n",
       "      <td>b81ef226f3fe1789b1e8b2acac839d17</td>\n",
       "      <td>1</td>\n",
       "      <td>credit_card</td>\n",
       "      <td>8</td>\n",
       "      <td>99.33</td>\n",
       "    </tr>\n",
       "    <tr>\n",
       "      <th>1</th>\n",
       "      <td>a9810da82917af2d9aefd1278f1dcfa0</td>\n",
       "      <td>1</td>\n",
       "      <td>credit_card</td>\n",
       "      <td>1</td>\n",
       "      <td>24.39</td>\n",
       "    </tr>\n",
       "    <tr>\n",
       "      <th>2</th>\n",
       "      <td>25e8ea4e93396b6fa0d3dd708e76c1bd</td>\n",
       "      <td>1</td>\n",
       "      <td>credit_card</td>\n",
       "      <td>1</td>\n",
       "      <td>65.71</td>\n",
       "    </tr>\n",
       "    <tr>\n",
       "      <th>3</th>\n",
       "      <td>ba78997921bbcdc1373bb41e913ab953</td>\n",
       "      <td>1</td>\n",
       "      <td>credit_card</td>\n",
       "      <td>8</td>\n",
       "      <td>107.78</td>\n",
       "    </tr>\n",
       "    <tr>\n",
       "      <th>4</th>\n",
       "      <td>42fdf880ba16b47b59251dd489d4441a</td>\n",
       "      <td>1</td>\n",
       "      <td>credit_card</td>\n",
       "      <td>2</td>\n",
       "      <td>128.45</td>\n",
       "    </tr>\n",
       "  </tbody>\n",
       "</table>\n",
       "</div>"
      ],
      "text/plain": [
       "                           order_id  payment_sequential payment_type  \\\n",
       "0  b81ef226f3fe1789b1e8b2acac839d17                   1  credit_card   \n",
       "1  a9810da82917af2d9aefd1278f1dcfa0                   1  credit_card   \n",
       "2  25e8ea4e93396b6fa0d3dd708e76c1bd                   1  credit_card   \n",
       "3  ba78997921bbcdc1373bb41e913ab953                   1  credit_card   \n",
       "4  42fdf880ba16b47b59251dd489d4441a                   1  credit_card   \n",
       "\n",
       "   payment_installments  payment_value  \n",
       "0                     8          99.33  \n",
       "1                     1          24.39  \n",
       "2                     1          65.71  \n",
       "3                     8         107.78  \n",
       "4                     2         128.45  "
      ]
     },
     "execution_count": 5,
     "metadata": {},
     "output_type": "execute_result"
    }
   ],
   "source": [
    "# Load dataset\n",
    "order_payments = pd.read_csv('data/order_payments_dataset.csv')\n",
    "\n",
    "# Tampilkan beberapa baris pertama data\n",
    "order_payments.head()"
   ]
  },
  {
   "cell_type": "markdown",
   "id": "87197029-4718-4677-abe0-07157370d8b3",
   "metadata": {},
   "source": [
    "**Insight:**\n",
    "\n",
    "**1. Metode Pembayaran Dominan:**\n",
    "Data ini mencakup informasi mengenai price (harga produk) dan freight_value Kolom payment_type menunjukkan jenis pembayaran yang digunakan, dan di sampel ini hanya terdapat metode pembayaran credit_card.\n",
    "\n",
    "**2. Pembayaran Angsuran:**\n",
    "Kolom payment_installments menunjukkan jumlah cicilan yang dipilih pelanggan untuk setiap transaksi. Seperti, beberapa transaksi menggunakan angsuran hingga 8 kali, sedangkan lainnya hanya sekali bayar.\n",
    "\n",
    "**3. Nilai Pembayaran (Payment Value):**\n",
    "Kolom payment_value menunjukkan jumlah yang dibayarkan untuk setiap transaksi. Dari contoh ini, jumlah pembayaran berkisar dari sekitar 24 dollar hingga 128 dollar.\n",
    "\n",
    "**4. Pembayaran Bertahap pada Transaksi yang Sama:**\n",
    "Kolom payment_sequential menunjukkan urutan pembayaran untuk suatu pesanan, yang dalam data ini semuanya bernilai 1, menunjukkan bahwa setiap transaksi memiliki satu pembayaran."
   ]
  },
  {
   "cell_type": "markdown",
   "id": "aa11e507-2b80-4b45-a66a-7657858bfdeb",
   "metadata": {},
   "source": [
    "**4. Order Reviews**"
   ]
  },
  {
   "cell_type": "code",
   "execution_count": 6,
   "id": "587644a1-3678-4231-b7fe-e4f8930681a3",
   "metadata": {},
   "outputs": [
    {
     "data": {
      "text/html": [
       "<div>\n",
       "<style scoped>\n",
       "    .dataframe tbody tr th:only-of-type {\n",
       "        vertical-align: middle;\n",
       "    }\n",
       "\n",
       "    .dataframe tbody tr th {\n",
       "        vertical-align: top;\n",
       "    }\n",
       "\n",
       "    .dataframe thead th {\n",
       "        text-align: right;\n",
       "    }\n",
       "</style>\n",
       "<table border=\"1\" class=\"dataframe\">\n",
       "  <thead>\n",
       "    <tr style=\"text-align: right;\">\n",
       "      <th></th>\n",
       "      <th>review_id</th>\n",
       "      <th>order_id</th>\n",
       "      <th>review_score</th>\n",
       "      <th>review_comment_title</th>\n",
       "      <th>review_comment_message</th>\n",
       "      <th>review_creation_date</th>\n",
       "      <th>review_answer_timestamp</th>\n",
       "    </tr>\n",
       "  </thead>\n",
       "  <tbody>\n",
       "    <tr>\n",
       "      <th>0</th>\n",
       "      <td>7bc2406110b926393aa56f80a40eba40</td>\n",
       "      <td>73fc7af87114b39712e6da79b0a377eb</td>\n",
       "      <td>4</td>\n",
       "      <td>NaN</td>\n",
       "      <td>NaN</td>\n",
       "      <td>2018-01-18 00:00:00</td>\n",
       "      <td>2018-01-18 21:46:59</td>\n",
       "    </tr>\n",
       "    <tr>\n",
       "      <th>1</th>\n",
       "      <td>80e641a11e56f04c1ad469d5645fdfde</td>\n",
       "      <td>a548910a1c6147796b98fdf73dbeba33</td>\n",
       "      <td>5</td>\n",
       "      <td>NaN</td>\n",
       "      <td>NaN</td>\n",
       "      <td>2018-03-10 00:00:00</td>\n",
       "      <td>2018-03-11 03:05:13</td>\n",
       "    </tr>\n",
       "    <tr>\n",
       "      <th>2</th>\n",
       "      <td>228ce5500dc1d8e020d8d1322874b6f0</td>\n",
       "      <td>f9e4b658b201a9f2ecdecbb34bed034b</td>\n",
       "      <td>5</td>\n",
       "      <td>NaN</td>\n",
       "      <td>NaN</td>\n",
       "      <td>2018-02-17 00:00:00</td>\n",
       "      <td>2018-02-18 14:36:24</td>\n",
       "    </tr>\n",
       "    <tr>\n",
       "      <th>3</th>\n",
       "      <td>e64fb393e7b32834bb789ff8bb30750e</td>\n",
       "      <td>658677c97b385a9be170737859d3511b</td>\n",
       "      <td>5</td>\n",
       "      <td>NaN</td>\n",
       "      <td>Recebi bem antes do prazo estipulado.</td>\n",
       "      <td>2017-04-21 00:00:00</td>\n",
       "      <td>2017-04-21 22:02:06</td>\n",
       "    </tr>\n",
       "    <tr>\n",
       "      <th>4</th>\n",
       "      <td>f7c4243c7fe1938f181bec41a392bdeb</td>\n",
       "      <td>8e6bfb81e283fa7e4f11123a3fb894f1</td>\n",
       "      <td>5</td>\n",
       "      <td>NaN</td>\n",
       "      <td>Parabéns lojas lannister adorei comprar pela I...</td>\n",
       "      <td>2018-03-01 00:00:00</td>\n",
       "      <td>2018-03-02 10:26:53</td>\n",
       "    </tr>\n",
       "  </tbody>\n",
       "</table>\n",
       "</div>"
      ],
      "text/plain": [
       "                          review_id                          order_id  \\\n",
       "0  7bc2406110b926393aa56f80a40eba40  73fc7af87114b39712e6da79b0a377eb   \n",
       "1  80e641a11e56f04c1ad469d5645fdfde  a548910a1c6147796b98fdf73dbeba33   \n",
       "2  228ce5500dc1d8e020d8d1322874b6f0  f9e4b658b201a9f2ecdecbb34bed034b   \n",
       "3  e64fb393e7b32834bb789ff8bb30750e  658677c97b385a9be170737859d3511b   \n",
       "4  f7c4243c7fe1938f181bec41a392bdeb  8e6bfb81e283fa7e4f11123a3fb894f1   \n",
       "\n",
       "   review_score review_comment_title  \\\n",
       "0             4                  NaN   \n",
       "1             5                  NaN   \n",
       "2             5                  NaN   \n",
       "3             5                  NaN   \n",
       "4             5                  NaN   \n",
       "\n",
       "                              review_comment_message review_creation_date  \\\n",
       "0                                                NaN  2018-01-18 00:00:00   \n",
       "1                                                NaN  2018-03-10 00:00:00   \n",
       "2                                                NaN  2018-02-17 00:00:00   \n",
       "3              Recebi bem antes do prazo estipulado.  2017-04-21 00:00:00   \n",
       "4  Parabéns lojas lannister adorei comprar pela I...  2018-03-01 00:00:00   \n",
       "\n",
       "  review_answer_timestamp  \n",
       "0     2018-01-18 21:46:59  \n",
       "1     2018-03-11 03:05:13  \n",
       "2     2018-02-18 14:36:24  \n",
       "3     2017-04-21 22:02:06  \n",
       "4     2018-03-02 10:26:53  "
      ]
     },
     "execution_count": 6,
     "metadata": {},
     "output_type": "execute_result"
    }
   ],
   "source": [
    "# Load dataset\n",
    "order_reviews = pd.read_csv('data/order_reviews_dataset.csv')\n",
    "\n",
    "# Tampilkan beberapa baris pertama data\n",
    "order_reviews.head()"
   ]
  },
  {
   "cell_type": "markdown",
   "id": "fd5fd07c-7fae-41d0-8816-1d5deb8af64e",
   "metadata": {},
   "source": [
    "**Insight:**\n",
    "**1. Skor Ulasan (Review Score):**\n",
    "Kolom *review_score* menunjukkan skor ulasan yang diberikan oleh pelanggan, berkisar dari 1 hingga 5 (dalam contoh ini, semua memiliki nilai 4 atau 5).\n",
    "\n",
    "**2. Komentar Ulasan:**\n",
    "Kolom *review_comment_title* dan *review_comment_message* menyimpan judul dan isi komentar ulasan. Dari sampel ini, beberapa ulasan kosong, sedangkan yang lainnya berisi pesan positif.\n",
    "\n",
    "**3. Waktu Pembuatan dan Tanggapan Ulasan:**\n",
    "Kolom review_creation_date dan review_answer_timestamp menunjukkan kapan ulasan dibuat dan kapan perusahaan menanggapi ulasan tersebut.\n",
    "\n",
    "**4. Ulasan yang Tidak Mengandung Komentar:**\n",
    "Banyak ulasan dalam sampel ini yang tidak memiliki komentar (judul dan pesan berisi NaN).\n"
   ]
  },
  {
   "cell_type": "markdown",
   "id": "5598512e-cb02-45b5-9a69-283f5c658abd",
   "metadata": {},
   "source": [
    "**5. Products**"
   ]
  },
  {
   "cell_type": "code",
   "execution_count": 7,
   "id": "2ad5dfec-34be-4da8-afee-f06de004b32a",
   "metadata": {},
   "outputs": [
    {
     "data": {
      "text/html": [
       "<div>\n",
       "<style scoped>\n",
       "    .dataframe tbody tr th:only-of-type {\n",
       "        vertical-align: middle;\n",
       "    }\n",
       "\n",
       "    .dataframe tbody tr th {\n",
       "        vertical-align: top;\n",
       "    }\n",
       "\n",
       "    .dataframe thead th {\n",
       "        text-align: right;\n",
       "    }\n",
       "</style>\n",
       "<table border=\"1\" class=\"dataframe\">\n",
       "  <thead>\n",
       "    <tr style=\"text-align: right;\">\n",
       "      <th></th>\n",
       "      <th>product_id</th>\n",
       "      <th>product_category_name</th>\n",
       "      <th>product_name_lenght</th>\n",
       "      <th>product_description_lenght</th>\n",
       "      <th>product_photos_qty</th>\n",
       "      <th>product_weight_g</th>\n",
       "      <th>product_length_cm</th>\n",
       "      <th>product_height_cm</th>\n",
       "      <th>product_width_cm</th>\n",
       "    </tr>\n",
       "  </thead>\n",
       "  <tbody>\n",
       "    <tr>\n",
       "      <th>0</th>\n",
       "      <td>1e9e8ef04dbcff4541ed26657ea517e5</td>\n",
       "      <td>perfumaria</td>\n",
       "      <td>40.0</td>\n",
       "      <td>287.0</td>\n",
       "      <td>1.0</td>\n",
       "      <td>225.0</td>\n",
       "      <td>16.0</td>\n",
       "      <td>10.0</td>\n",
       "      <td>14.0</td>\n",
       "    </tr>\n",
       "    <tr>\n",
       "      <th>1</th>\n",
       "      <td>3aa071139cb16b67ca9e5dea641aaa2f</td>\n",
       "      <td>artes</td>\n",
       "      <td>44.0</td>\n",
       "      <td>276.0</td>\n",
       "      <td>1.0</td>\n",
       "      <td>1000.0</td>\n",
       "      <td>30.0</td>\n",
       "      <td>18.0</td>\n",
       "      <td>20.0</td>\n",
       "    </tr>\n",
       "    <tr>\n",
       "      <th>2</th>\n",
       "      <td>96bd76ec8810374ed1b65e291975717f</td>\n",
       "      <td>esporte_lazer</td>\n",
       "      <td>46.0</td>\n",
       "      <td>250.0</td>\n",
       "      <td>1.0</td>\n",
       "      <td>154.0</td>\n",
       "      <td>18.0</td>\n",
       "      <td>9.0</td>\n",
       "      <td>15.0</td>\n",
       "    </tr>\n",
       "    <tr>\n",
       "      <th>3</th>\n",
       "      <td>cef67bcfe19066a932b7673e239eb23d</td>\n",
       "      <td>bebes</td>\n",
       "      <td>27.0</td>\n",
       "      <td>261.0</td>\n",
       "      <td>1.0</td>\n",
       "      <td>371.0</td>\n",
       "      <td>26.0</td>\n",
       "      <td>4.0</td>\n",
       "      <td>26.0</td>\n",
       "    </tr>\n",
       "    <tr>\n",
       "      <th>4</th>\n",
       "      <td>9dc1a7de274444849c219cff195d0b71</td>\n",
       "      <td>utilidades_domesticas</td>\n",
       "      <td>37.0</td>\n",
       "      <td>402.0</td>\n",
       "      <td>4.0</td>\n",
       "      <td>625.0</td>\n",
       "      <td>20.0</td>\n",
       "      <td>17.0</td>\n",
       "      <td>13.0</td>\n",
       "    </tr>\n",
       "  </tbody>\n",
       "</table>\n",
       "</div>"
      ],
      "text/plain": [
       "                         product_id  product_category_name  \\\n",
       "0  1e9e8ef04dbcff4541ed26657ea517e5             perfumaria   \n",
       "1  3aa071139cb16b67ca9e5dea641aaa2f                  artes   \n",
       "2  96bd76ec8810374ed1b65e291975717f          esporte_lazer   \n",
       "3  cef67bcfe19066a932b7673e239eb23d                  bebes   \n",
       "4  9dc1a7de274444849c219cff195d0b71  utilidades_domesticas   \n",
       "\n",
       "   product_name_lenght  product_description_lenght  product_photos_qty  \\\n",
       "0                 40.0                       287.0                 1.0   \n",
       "1                 44.0                       276.0                 1.0   \n",
       "2                 46.0                       250.0                 1.0   \n",
       "3                 27.0                       261.0                 1.0   \n",
       "4                 37.0                       402.0                 4.0   \n",
       "\n",
       "   product_weight_g  product_length_cm  product_height_cm  product_width_cm  \n",
       "0             225.0               16.0               10.0              14.0  \n",
       "1            1000.0               30.0               18.0              20.0  \n",
       "2             154.0               18.0                9.0              15.0  \n",
       "3             371.0               26.0                4.0              26.0  \n",
       "4             625.0               20.0               17.0              13.0  "
      ]
     },
     "execution_count": 7,
     "metadata": {},
     "output_type": "execute_result"
    }
   ],
   "source": [
    "# Load dataset\n",
    "products= pd.read_csv('data/products_dataset.csv')\n",
    "\n",
    "# Tampilkan beberapa baris pertama data\n",
    "products.head()"
   ]
  },
  {
   "cell_type": "markdown",
   "id": "7bc5cb8c-379b-47b8-894d-f8357273560d",
   "metadata": {},
   "source": [
    "**Insight:**\n",
    "\n",
    "**1. Kategori Produk:**\n",
    "Kolom product_category_name menunjukkan kategori produk, dan di sampel ini terdapat kategori seperti perfumaria, artes, esporte_lazer, bebes, dan utilidades_domesticas.\n",
    "\n",
    "**2. Panjang Deskripsi dan Nama Produk:**\n",
    "Kolom product_name_lenght dan product_description_lenght menunjukkan panjang karakter dalam nama produk dan deskripsi produk.\n",
    "\n",
    "**3. Jumlah Foto Produk:**\n",
    "Kolom product_photos_qty menunjukkan jumlah foto yang disediakan untuk setiap produk. Di sampel ini, beberapa produk memiliki satu foto, sementara satu produk memiliki empat foto.\n",
    "\n",
    "**4. Berat dan Dimensi Produk:**\n",
    "Kolom product_weight_g, product_length_cm, product_height_cm, dan product_width_cm memberikan informasi terkait berat dan dimensi produk.\n",
    "\n"
   ]
  },
  {
   "cell_type": "markdown",
   "id": "6685cb51-dcb2-4ffc-a58b-60e02af668be",
   "metadata": {},
   "source": [
    "**6. Product category**"
   ]
  },
  {
   "cell_type": "code",
   "execution_count": 8,
   "id": "4ffac35c-f3e9-40da-92a3-ec2d3a7a7329",
   "metadata": {},
   "outputs": [
    {
     "data": {
      "text/html": [
       "<div>\n",
       "<style scoped>\n",
       "    .dataframe tbody tr th:only-of-type {\n",
       "        vertical-align: middle;\n",
       "    }\n",
       "\n",
       "    .dataframe tbody tr th {\n",
       "        vertical-align: top;\n",
       "    }\n",
       "\n",
       "    .dataframe thead th {\n",
       "        text-align: right;\n",
       "    }\n",
       "</style>\n",
       "<table border=\"1\" class=\"dataframe\">\n",
       "  <thead>\n",
       "    <tr style=\"text-align: right;\">\n",
       "      <th></th>\n",
       "      <th>product_category_name</th>\n",
       "      <th>product_category_name_english</th>\n",
       "    </tr>\n",
       "  </thead>\n",
       "  <tbody>\n",
       "    <tr>\n",
       "      <th>0</th>\n",
       "      <td>beleza_saude</td>\n",
       "      <td>health_beauty</td>\n",
       "    </tr>\n",
       "    <tr>\n",
       "      <th>1</th>\n",
       "      <td>informatica_acessorios</td>\n",
       "      <td>computers_accessories</td>\n",
       "    </tr>\n",
       "    <tr>\n",
       "      <th>2</th>\n",
       "      <td>automotivo</td>\n",
       "      <td>auto</td>\n",
       "    </tr>\n",
       "    <tr>\n",
       "      <th>3</th>\n",
       "      <td>cama_mesa_banho</td>\n",
       "      <td>bed_bath_table</td>\n",
       "    </tr>\n",
       "    <tr>\n",
       "      <th>4</th>\n",
       "      <td>moveis_decoracao</td>\n",
       "      <td>furniture_decor</td>\n",
       "    </tr>\n",
       "  </tbody>\n",
       "</table>\n",
       "</div>"
      ],
      "text/plain": [
       "    product_category_name product_category_name_english\n",
       "0            beleza_saude                 health_beauty\n",
       "1  informatica_acessorios         computers_accessories\n",
       "2              automotivo                          auto\n",
       "3         cama_mesa_banho                bed_bath_table\n",
       "4        moveis_decoracao               furniture_decor"
      ]
     },
     "execution_count": 8,
     "metadata": {},
     "output_type": "execute_result"
    }
   ],
   "source": [
    "# Load dataset\n",
    "product_category = pd.read_csv('data/product_category_name_translation.csv')\n",
    "\n",
    "# Tampilkan beberapa baris pertama data\n",
    "product_category.head()"
   ]
  },
  {
   "cell_type": "markdown",
   "id": "a2aaaa7d-e58e-4027-8622-596a05acff71",
   "metadata": {},
   "source": [
    "**Insight:**\n",
    "**1. Ketersediaan Kategori Produk dalam Bahasa Inggris:**\n",
    "Kolom product_category_name menunjukkan kategori produk dalam bahasa asli (portugis), sementara kolom product_category_name_english menyajikan terjemahan kategori tersebut ke dalam bahasa Inggris.\n",
    "\n",
    "**2. Kemudahan Pencarian Produk:**\n",
    "Dengan adanya kategori produk dalam dua bahasa (asli dan terjemahan), produk lebih mudah ditemukan oleh konsumen yang berbicara bahasa Portugis dan juga mereka yang berbicara bahasa Inggris.\n",
    "\n",
    "**3. Peluang untuk Ekspansi Pasar Global:**\n",
    "Terjemahan kategori produk mencerminkan kesiapan platform e-commerce untuk menjangkau pasar internasional."
   ]
  },
  {
   "cell_type": "markdown",
   "id": "e4de5784-5b46-488c-bae8-a5be2f1a014f",
   "metadata": {},
   "source": [
    "**7. Customers**"
   ]
  },
  {
   "cell_type": "code",
   "execution_count": 9,
   "id": "eaa1e2bd-9874-4622-957a-1b5fb023e51d",
   "metadata": {},
   "outputs": [
    {
     "data": {
      "text/html": [
       "<div>\n",
       "<style scoped>\n",
       "    .dataframe tbody tr th:only-of-type {\n",
       "        vertical-align: middle;\n",
       "    }\n",
       "\n",
       "    .dataframe tbody tr th {\n",
       "        vertical-align: top;\n",
       "    }\n",
       "\n",
       "    .dataframe thead th {\n",
       "        text-align: right;\n",
       "    }\n",
       "</style>\n",
       "<table border=\"1\" class=\"dataframe\">\n",
       "  <thead>\n",
       "    <tr style=\"text-align: right;\">\n",
       "      <th></th>\n",
       "      <th>customer_id</th>\n",
       "      <th>customer_unique_id</th>\n",
       "      <th>customer_zip_code_prefix</th>\n",
       "      <th>customer_city</th>\n",
       "      <th>customer_state</th>\n",
       "    </tr>\n",
       "  </thead>\n",
       "  <tbody>\n",
       "    <tr>\n",
       "      <th>0</th>\n",
       "      <td>06b8999e2fba1a1fbc88172c00ba8bc7</td>\n",
       "      <td>861eff4711a542e4b93843c6dd7febb0</td>\n",
       "      <td>14409</td>\n",
       "      <td>franca</td>\n",
       "      <td>SP</td>\n",
       "    </tr>\n",
       "    <tr>\n",
       "      <th>1</th>\n",
       "      <td>18955e83d337fd6b2def6b18a428ac77</td>\n",
       "      <td>290c77bc529b7ac935b93aa66c333dc3</td>\n",
       "      <td>9790</td>\n",
       "      <td>sao bernardo do campo</td>\n",
       "      <td>SP</td>\n",
       "    </tr>\n",
       "    <tr>\n",
       "      <th>2</th>\n",
       "      <td>4e7b3e00288586ebd08712fdd0374a03</td>\n",
       "      <td>060e732b5b29e8181a18229c7b0b2b5e</td>\n",
       "      <td>1151</td>\n",
       "      <td>sao paulo</td>\n",
       "      <td>SP</td>\n",
       "    </tr>\n",
       "    <tr>\n",
       "      <th>3</th>\n",
       "      <td>b2b6027bc5c5109e529d4dc6358b12c3</td>\n",
       "      <td>259dac757896d24d7702b9acbbff3f3c</td>\n",
       "      <td>8775</td>\n",
       "      <td>mogi das cruzes</td>\n",
       "      <td>SP</td>\n",
       "    </tr>\n",
       "    <tr>\n",
       "      <th>4</th>\n",
       "      <td>4f2d8ab171c80ec8364f7c12e35b23ad</td>\n",
       "      <td>345ecd01c38d18a9036ed96c73b8d066</td>\n",
       "      <td>13056</td>\n",
       "      <td>campinas</td>\n",
       "      <td>SP</td>\n",
       "    </tr>\n",
       "  </tbody>\n",
       "</table>\n",
       "</div>"
      ],
      "text/plain": [
       "                        customer_id                customer_unique_id  \\\n",
       "0  06b8999e2fba1a1fbc88172c00ba8bc7  861eff4711a542e4b93843c6dd7febb0   \n",
       "1  18955e83d337fd6b2def6b18a428ac77  290c77bc529b7ac935b93aa66c333dc3   \n",
       "2  4e7b3e00288586ebd08712fdd0374a03  060e732b5b29e8181a18229c7b0b2b5e   \n",
       "3  b2b6027bc5c5109e529d4dc6358b12c3  259dac757896d24d7702b9acbbff3f3c   \n",
       "4  4f2d8ab171c80ec8364f7c12e35b23ad  345ecd01c38d18a9036ed96c73b8d066   \n",
       "\n",
       "   customer_zip_code_prefix          customer_city customer_state  \n",
       "0                     14409                 franca             SP  \n",
       "1                      9790  sao bernardo do campo             SP  \n",
       "2                      1151              sao paulo             SP  \n",
       "3                      8775        mogi das cruzes             SP  \n",
       "4                     13056               campinas             SP  "
      ]
     },
     "execution_count": 9,
     "metadata": {},
     "output_type": "execute_result"
    }
   ],
   "source": [
    "# Load dataset\n",
    "customers = pd.read_csv('data/customers_dataset.csv')\n",
    "\n",
    "# Tampilkan beberapa baris pertama data\n",
    "customers.head()"
   ]
  },
  {
   "cell_type": "markdown",
   "id": "33293b6b-78b5-44ff-aec1-80cedb4360b0",
   "metadata": {},
   "source": [
    "**Insight:**\n",
    "\n",
    "**1. Informasi Identitas Pelanggan:**\n",
    "Kolom customer_id dan customer_unique_id menunjukkan dua jenis identifikasi pelanggan yang berbeda. customer_id bisa jadi ID yang digunakan dalam sistem internal untuk melacak transaksi atau akun pelanggan, sementara customer_unique_id mungkin lebih global atau permanen, digunakan untuk identifikasi pelanggan di berbagai platform atau aplikasi.\n",
    "\n",
    "**2. Distribusi Pelanggan Berdasarkan Lokasi:**\n",
    "Kolom customer_zip_code_prefix, customer_city, dan customer_state memberikan informasi mengenai lokasi geografis pelanggan.\n",
    "\n",
    "**3. Pelayanan Berdasarkan Lokasi Geografis:**\n",
    "Data kode pos (customer_zip_code_prefix) memberikan petunjuk lebih lanjut tentang layanan logistik dan pengiriman yang dapat disesuaikan dengan lokasi pelanggan.\n",
    "\n",
    "**4. Potensi Analisis Clustering Berdasarkan Lokasi:**\n",
    "Dengan data yang ada pada kolom customer_city dan customer_state, perusahaan bisa melakukan analisis klaster (clustering) untuk mengelompokkan pelanggan berdasarkan lokasi geografis mereka."
   ]
  },
  {
   "cell_type": "markdown",
   "id": "97c16a81-fb0b-43c7-a9d2-e0ed4febcd9f",
   "metadata": {},
   "source": [
    "**8. Sellers**"
   ]
  },
  {
   "cell_type": "code",
   "execution_count": 10,
   "id": "7f19278a-cb75-4a64-9539-d55d9fdfd2b4",
   "metadata": {},
   "outputs": [
    {
     "data": {
      "text/html": [
       "<div>\n",
       "<style scoped>\n",
       "    .dataframe tbody tr th:only-of-type {\n",
       "        vertical-align: middle;\n",
       "    }\n",
       "\n",
       "    .dataframe tbody tr th {\n",
       "        vertical-align: top;\n",
       "    }\n",
       "\n",
       "    .dataframe thead th {\n",
       "        text-align: right;\n",
       "    }\n",
       "</style>\n",
       "<table border=\"1\" class=\"dataframe\">\n",
       "  <thead>\n",
       "    <tr style=\"text-align: right;\">\n",
       "      <th></th>\n",
       "      <th>seller_id</th>\n",
       "      <th>seller_zip_code_prefix</th>\n",
       "      <th>seller_city</th>\n",
       "      <th>seller_state</th>\n",
       "    </tr>\n",
       "  </thead>\n",
       "  <tbody>\n",
       "    <tr>\n",
       "      <th>0</th>\n",
       "      <td>3442f8959a84dea7ee197c632cb2df15</td>\n",
       "      <td>13023</td>\n",
       "      <td>campinas</td>\n",
       "      <td>SP</td>\n",
       "    </tr>\n",
       "    <tr>\n",
       "      <th>1</th>\n",
       "      <td>d1b65fc7debc3361ea86b5f14c68d2e2</td>\n",
       "      <td>13844</td>\n",
       "      <td>mogi guacu</td>\n",
       "      <td>SP</td>\n",
       "    </tr>\n",
       "    <tr>\n",
       "      <th>2</th>\n",
       "      <td>ce3ad9de960102d0677a81f5d0bb7b2d</td>\n",
       "      <td>20031</td>\n",
       "      <td>rio de janeiro</td>\n",
       "      <td>RJ</td>\n",
       "    </tr>\n",
       "    <tr>\n",
       "      <th>3</th>\n",
       "      <td>c0f3eea2e14555b6faeea3dd58c1b1c3</td>\n",
       "      <td>4195</td>\n",
       "      <td>sao paulo</td>\n",
       "      <td>SP</td>\n",
       "    </tr>\n",
       "    <tr>\n",
       "      <th>4</th>\n",
       "      <td>51a04a8a6bdcb23deccc82b0b80742cf</td>\n",
       "      <td>12914</td>\n",
       "      <td>braganca paulista</td>\n",
       "      <td>SP</td>\n",
       "    </tr>\n",
       "  </tbody>\n",
       "</table>\n",
       "</div>"
      ],
      "text/plain": [
       "                          seller_id  seller_zip_code_prefix  \\\n",
       "0  3442f8959a84dea7ee197c632cb2df15                   13023   \n",
       "1  d1b65fc7debc3361ea86b5f14c68d2e2                   13844   \n",
       "2  ce3ad9de960102d0677a81f5d0bb7b2d                   20031   \n",
       "3  c0f3eea2e14555b6faeea3dd58c1b1c3                    4195   \n",
       "4  51a04a8a6bdcb23deccc82b0b80742cf                   12914   \n",
       "\n",
       "         seller_city seller_state  \n",
       "0           campinas           SP  \n",
       "1         mogi guacu           SP  \n",
       "2     rio de janeiro           RJ  \n",
       "3          sao paulo           SP  \n",
       "4  braganca paulista           SP  "
      ]
     },
     "execution_count": 10,
     "metadata": {},
     "output_type": "execute_result"
    }
   ],
   "source": [
    "# Load dataset\n",
    "sellers = pd.read_csv('data/sellers_dataset.csv')\n",
    "\n",
    "# Tampilkan beberapa baris pertama data\n",
    "sellers.head()"
   ]
  },
  {
   "cell_type": "markdown",
   "id": "04bdf89c-b6e4-4089-bb34-33a859f145bd",
   "metadata": {},
   "source": [
    "**Insight:**\n",
    "\n",
    "**1. Lokasi Geografis Penjual:**\n",
    "Kolom seller_zip_code_prefix, seller_city, dan seller_state menunjukkan data mengenai lokasi penjual, termasuk kode pos, kota, dan negara bagian mereka.\n",
    "\n",
    "**2. Konsentrasi Penjual di Wilayah Tertentu:**\n",
    "Melihat kota mana yang memiliki konsentrasi penjual yang tinggi dan bandingkan dengan kota lainnya.\n",
    "\n",
    "**3. Pelayanan Berdasarkan Lokasi Geografis:**\n",
    "Data kode pos (customer_zip_code_prefix) memberikan petunjuk lebih lanjut tentang layanan logistik dan pengiriman yang dapat disesuaikan dengan lokasi pelanggan.\n",
    "\n",
    "**4. Peluang untuk Kolaborasi dengan Pusat Distribusi atau Gudang:**\n",
    "Dengan mengetahui lokasi geografis penjual, perusahaan dapat mempertimbangkan untuk membuka pusat distribusi atau gudang di kota atau area yang memiliki banyak penjual. Ini dapat meningkatkan efisiensi dalam hal pengiriman dan mengurangi biaya pengiriman untuk pelanggan.\n",
    "\n",
    "**5. Pengelompokan Penjual Berdasarkan Kota:**\n",
    "Menyusun penjual berdasarkan kota dan negara bagian mereka dapat membantu dalam mengidentifikasi area dengan lebih banyak aktivitas penjualan.\n",
    "\n",
    "**6. Peluang Pemasaran Berdasarkan Lokasi Penjual:**\n",
    "Data lokasi penjual ini dapat digunakan untuk merancang kampanye pemasaran yang lebih terfokus berdasarkan kota atau negara bagian penjual.\n"
   ]
  },
  {
   "cell_type": "markdown",
   "id": "31b40799-18fb-4aa2-9519-db5aa09b78d1",
   "metadata": {},
   "source": [
    "### - Assessing Data"
   ]
  },
  {
   "cell_type": "markdown",
   "id": "b268f81b-c19b-4a16-965e-6308c4d8127c",
   "metadata": {},
   "source": [
    "**1. Menilai Data Orders**"
   ]
  },
  {
   "cell_type": "code",
   "execution_count": 11,
   "id": "6414ea08-bd99-4c2e-8e10-54b1f9ab2e19",
   "metadata": {},
   "outputs": [
    {
     "name": "stdout",
     "output_type": "stream",
     "text": [
      "<class 'pandas.core.frame.DataFrame'>\n",
      "RangeIndex: 99441 entries, 0 to 99440\n",
      "Data columns (total 8 columns):\n",
      " #   Column                         Non-Null Count  Dtype \n",
      "---  ------                         --------------  ----- \n",
      " 0   order_id                       99441 non-null  object\n",
      " 1   customer_id                    99441 non-null  object\n",
      " 2   order_status                   99441 non-null  object\n",
      " 3   order_purchase_timestamp       99441 non-null  object\n",
      " 4   order_approved_at              99281 non-null  object\n",
      " 5   order_delivered_carrier_date   97658 non-null  object\n",
      " 6   order_delivered_customer_date  96476 non-null  object\n",
      " 7   order_estimated_delivery_date  99441 non-null  object\n",
      "dtypes: object(8)\n",
      "memory usage: 6.1+ MB\n"
     ]
    },
    {
     "data": {
      "text/plain": [
       "order_id                            0\n",
       "customer_id                         0\n",
       "order_status                        0\n",
       "order_purchase_timestamp            0\n",
       "order_approved_at                 160\n",
       "order_delivered_carrier_date     1783\n",
       "order_delivered_customer_date    2965\n",
       "order_estimated_delivery_date       0\n",
       "dtype: int64"
      ]
     },
     "execution_count": 11,
     "metadata": {},
     "output_type": "execute_result"
    }
   ],
   "source": [
    "orders.info()\n",
    "orders.isna().sum()"
   ]
  },
  {
   "cell_type": "code",
   "execution_count": 12,
   "id": "167bed3b-76d2-413d-afaf-b53a94f780ae",
   "metadata": {},
   "outputs": [
    {
     "name": "stdout",
     "output_type": "stream",
     "text": [
      "Jumlah duplikasi:  0\n"
     ]
    }
   ],
   "source": [
    "print(\"Jumlah duplikasi: \", orders.duplicated().sum())"
   ]
  },
  {
   "cell_type": "markdown",
   "id": "1ec5ab4e-9895-45b1-8509-a479a89e19ab",
   "metadata": {},
   "source": [
    "**Insight:**\n",
    "\n",
    "**1. Missing Values:**\n",
    "Terdapat beberapa kolom yang memiliki nilai missing, antara lain:\n",
    "- order_approved_at, menunjukkan bahwa terdapat sejumlah pesana yang mungkin belum disetujui secara resmi, mungkin saja transaksi dibatalkan.\n",
    "- order_delivered_carrier_date, missing values dapat mengindikasikan bahwa beberapa pesanan mungkin tidak pernah dikirim. \n",
    "- order_delivered_customer_date, dapat mengindikasikan bahwa beberapa pesanan belum sampai ke pelanggan atau mungkin tidak pernah dikirim. Ini bisa menjadi indikator dari masalah operasional seperti kendala logistik atau pengiriman yang terhenti.\n",
    "\n",
    "**2. Tipe Data Tidak Tepat pada Kolom Waktu:**\n",
    "Semua kolom tanggal dan waktu (order_purchase_timestamp, order_approved_at, order_delivered_carrier_date, order_delivered_customer_date, dan order_estimated_delivery_date) saat ini disimpan dalam bentuk string atau object dan perlu dikonversi ke tipe datetime untuk dapat di analisis.\n",
    "\n",
    "**3. Data Duplikasi:**\n",
    "Pemeriksaan menunjukkan bahwa tidak ada baris duplikat dalam tabel ini (Jumlah duplikasi: 0)."
   ]
  },
  {
   "cell_type": "markdown",
   "id": "2103a39f-3426-4e34-8f14-b84a221cd1c0",
   "metadata": {},
   "source": [
    "**2. Menilai Data Order Items**"
   ]
  },
  {
   "cell_type": "code",
   "execution_count": 13,
   "id": "eb7f6e89-9631-4df8-a005-5a44ae579706",
   "metadata": {},
   "outputs": [
    {
     "name": "stdout",
     "output_type": "stream",
     "text": [
      "<class 'pandas.core.frame.DataFrame'>\n",
      "RangeIndex: 112650 entries, 0 to 112649\n",
      "Data columns (total 7 columns):\n",
      " #   Column               Non-Null Count   Dtype  \n",
      "---  ------               --------------   -----  \n",
      " 0   order_id             112650 non-null  object \n",
      " 1   order_item_id        112650 non-null  int64  \n",
      " 2   product_id           112650 non-null  object \n",
      " 3   seller_id            112650 non-null  object \n",
      " 4   shipping_limit_date  112650 non-null  object \n",
      " 5   price                112650 non-null  float64\n",
      " 6   freight_value        112650 non-null  float64\n",
      "dtypes: float64(2), int64(1), object(4)\n",
      "memory usage: 6.0+ MB\n"
     ]
    },
    {
     "data": {
      "text/plain": [
       "order_id               0\n",
       "order_item_id          0\n",
       "product_id             0\n",
       "seller_id              0\n",
       "shipping_limit_date    0\n",
       "price                  0\n",
       "freight_value          0\n",
       "dtype: int64"
      ]
     },
     "execution_count": 13,
     "metadata": {},
     "output_type": "execute_result"
    }
   ],
   "source": [
    "order_items.info()\n",
    "order_items.isna().sum()"
   ]
  },
  {
   "cell_type": "code",
   "execution_count": 14,
   "id": "0073ee55-5b76-43d6-8240-19c1a5dddc0a",
   "metadata": {},
   "outputs": [
    {
     "name": "stdout",
     "output_type": "stream",
     "text": [
      "Jumlah duplikasi:  0\n"
     ]
    },
    {
     "data": {
      "text/html": [
       "<div>\n",
       "<style scoped>\n",
       "    .dataframe tbody tr th:only-of-type {\n",
       "        vertical-align: middle;\n",
       "    }\n",
       "\n",
       "    .dataframe tbody tr th {\n",
       "        vertical-align: top;\n",
       "    }\n",
       "\n",
       "    .dataframe thead th {\n",
       "        text-align: right;\n",
       "    }\n",
       "</style>\n",
       "<table border=\"1\" class=\"dataframe\">\n",
       "  <thead>\n",
       "    <tr style=\"text-align: right;\">\n",
       "      <th></th>\n",
       "      <th>order_item_id</th>\n",
       "      <th>price</th>\n",
       "      <th>freight_value</th>\n",
       "    </tr>\n",
       "  </thead>\n",
       "  <tbody>\n",
       "    <tr>\n",
       "      <th>count</th>\n",
       "      <td>112650.000000</td>\n",
       "      <td>112650.000000</td>\n",
       "      <td>112650.000000</td>\n",
       "    </tr>\n",
       "    <tr>\n",
       "      <th>mean</th>\n",
       "      <td>1.197834</td>\n",
       "      <td>120.653739</td>\n",
       "      <td>19.990320</td>\n",
       "    </tr>\n",
       "    <tr>\n",
       "      <th>std</th>\n",
       "      <td>0.705124</td>\n",
       "      <td>183.633928</td>\n",
       "      <td>15.806405</td>\n",
       "    </tr>\n",
       "    <tr>\n",
       "      <th>min</th>\n",
       "      <td>1.000000</td>\n",
       "      <td>0.850000</td>\n",
       "      <td>0.000000</td>\n",
       "    </tr>\n",
       "    <tr>\n",
       "      <th>25%</th>\n",
       "      <td>1.000000</td>\n",
       "      <td>39.900000</td>\n",
       "      <td>13.080000</td>\n",
       "    </tr>\n",
       "    <tr>\n",
       "      <th>50%</th>\n",
       "      <td>1.000000</td>\n",
       "      <td>74.990000</td>\n",
       "      <td>16.260000</td>\n",
       "    </tr>\n",
       "    <tr>\n",
       "      <th>75%</th>\n",
       "      <td>1.000000</td>\n",
       "      <td>134.900000</td>\n",
       "      <td>21.150000</td>\n",
       "    </tr>\n",
       "    <tr>\n",
       "      <th>max</th>\n",
       "      <td>21.000000</td>\n",
       "      <td>6735.000000</td>\n",
       "      <td>409.680000</td>\n",
       "    </tr>\n",
       "  </tbody>\n",
       "</table>\n",
       "</div>"
      ],
      "text/plain": [
       "       order_item_id          price  freight_value\n",
       "count  112650.000000  112650.000000  112650.000000\n",
       "mean        1.197834     120.653739      19.990320\n",
       "std         0.705124     183.633928      15.806405\n",
       "min         1.000000       0.850000       0.000000\n",
       "25%         1.000000      39.900000      13.080000\n",
       "50%         1.000000      74.990000      16.260000\n",
       "75%         1.000000     134.900000      21.150000\n",
       "max        21.000000    6735.000000     409.680000"
      ]
     },
     "execution_count": 14,
     "metadata": {},
     "output_type": "execute_result"
    }
   ],
   "source": [
    "print(\"Jumlah duplikasi: \", order_items.duplicated().sum())\n",
    "order_items.describe()"
   ]
  },
  {
   "cell_type": "markdown",
   "id": "f7877689-f999-4f36-9b82-0878a9f64323",
   "metadata": {},
   "source": [
    "**Insight:**\n",
    "\n",
    "**1. Missing Values:**\n",
    "Tidak ada data yang hilang, semua kolom dalam dataset ini memiliki nilai yang lengkap (non-null).\n",
    "\n",
    "**2. Tipe data yang tidak tepat:**\n",
    "Kolom shipping_limit_date berisi tanggal batas waktu pengiriman dan masih dalam bentuk string (object), yang memerlukan konversi ke tipe data datetime.\n",
    "\n",
    "**3. Data Duplikasi:**\n",
    "Tidak terdapat data duplikasi. Pemeriksaan duplikasi menunjukkan bahwa tidak ada baris yang terduplikasi dalam dataset ini (Jumlah duplikasi: 0).\n",
    "\n",
    "**4. Distribusi Harga (price):**\n",
    "- Rata-rata harga produk sekitar 120,65, dengan standar deviasi 183,63.\n",
    "- Nilai harga berkisar dari 0,85 (minimum) hingga 6.735 (maksimum).\n",
    "\n",
    "Kisaran harga yang lebar mengindikasikan variasi besar dalam jenis produk, dari barang murah hingga premium.\n",
    "\n",
    "**5. Distribusi Pengiriman (freight_value):**\n",
    "- Rata-rata nilai pengiriman sekitar 19,99, dengan standar deviasi 15,81.\n",
    "- Biaya pengiriman minimum adalah 0, dan maksimum mencapai 409,68.\n",
    "  \n",
    "Akan dilakukan pemeriksaan selanjutnya untuk:\n",
    "- Biaya pengiriman nol dapat menunjukkan promosi pengiriman gratis atau kesalahan data.\n"
   ]
  },
  {
   "cell_type": "markdown",
   "id": "35bee6f0-ed98-4056-9197-fc1ba9eaa389",
   "metadata": {},
   "source": [
    "**3. Menilai Data Order Payments**"
   ]
  },
  {
   "cell_type": "code",
   "execution_count": 15,
   "id": "4c53f280-08ce-4c4b-9509-a3b2ca57f4ce",
   "metadata": {},
   "outputs": [
    {
     "name": "stdout",
     "output_type": "stream",
     "text": [
      "<class 'pandas.core.frame.DataFrame'>\n",
      "RangeIndex: 103886 entries, 0 to 103885\n",
      "Data columns (total 5 columns):\n",
      " #   Column                Non-Null Count   Dtype  \n",
      "---  ------                --------------   -----  \n",
      " 0   order_id              103886 non-null  object \n",
      " 1   payment_sequential    103886 non-null  int64  \n",
      " 2   payment_type          103886 non-null  object \n",
      " 3   payment_installments  103886 non-null  int64  \n",
      " 4   payment_value         103886 non-null  float64\n",
      "dtypes: float64(1), int64(2), object(2)\n",
      "memory usage: 4.0+ MB\n"
     ]
    },
    {
     "data": {
      "text/plain": [
       "order_id                0\n",
       "payment_sequential      0\n",
       "payment_type            0\n",
       "payment_installments    0\n",
       "payment_value           0\n",
       "dtype: int64"
      ]
     },
     "execution_count": 15,
     "metadata": {},
     "output_type": "execute_result"
    }
   ],
   "source": [
    "order_payments.info()\n",
    "order_payments.isna().sum()"
   ]
  },
  {
   "cell_type": "code",
   "execution_count": 16,
   "id": "ea5f2116-7dc7-46ed-9f7b-ce5d1d13992b",
   "metadata": {},
   "outputs": [
    {
     "name": "stdout",
     "output_type": "stream",
     "text": [
      "Jumlah duplikasi:  0\n"
     ]
    },
    {
     "data": {
      "text/html": [
       "<div>\n",
       "<style scoped>\n",
       "    .dataframe tbody tr th:only-of-type {\n",
       "        vertical-align: middle;\n",
       "    }\n",
       "\n",
       "    .dataframe tbody tr th {\n",
       "        vertical-align: top;\n",
       "    }\n",
       "\n",
       "    .dataframe thead th {\n",
       "        text-align: right;\n",
       "    }\n",
       "</style>\n",
       "<table border=\"1\" class=\"dataframe\">\n",
       "  <thead>\n",
       "    <tr style=\"text-align: right;\">\n",
       "      <th></th>\n",
       "      <th>payment_sequential</th>\n",
       "      <th>payment_installments</th>\n",
       "      <th>payment_value</th>\n",
       "    </tr>\n",
       "  </thead>\n",
       "  <tbody>\n",
       "    <tr>\n",
       "      <th>count</th>\n",
       "      <td>103886.000000</td>\n",
       "      <td>103886.000000</td>\n",
       "      <td>103886.000000</td>\n",
       "    </tr>\n",
       "    <tr>\n",
       "      <th>mean</th>\n",
       "      <td>1.092679</td>\n",
       "      <td>2.853349</td>\n",
       "      <td>154.100380</td>\n",
       "    </tr>\n",
       "    <tr>\n",
       "      <th>std</th>\n",
       "      <td>0.706584</td>\n",
       "      <td>2.687051</td>\n",
       "      <td>217.494064</td>\n",
       "    </tr>\n",
       "    <tr>\n",
       "      <th>min</th>\n",
       "      <td>1.000000</td>\n",
       "      <td>0.000000</td>\n",
       "      <td>0.000000</td>\n",
       "    </tr>\n",
       "    <tr>\n",
       "      <th>25%</th>\n",
       "      <td>1.000000</td>\n",
       "      <td>1.000000</td>\n",
       "      <td>56.790000</td>\n",
       "    </tr>\n",
       "    <tr>\n",
       "      <th>50%</th>\n",
       "      <td>1.000000</td>\n",
       "      <td>1.000000</td>\n",
       "      <td>100.000000</td>\n",
       "    </tr>\n",
       "    <tr>\n",
       "      <th>75%</th>\n",
       "      <td>1.000000</td>\n",
       "      <td>4.000000</td>\n",
       "      <td>171.837500</td>\n",
       "    </tr>\n",
       "    <tr>\n",
       "      <th>max</th>\n",
       "      <td>29.000000</td>\n",
       "      <td>24.000000</td>\n",
       "      <td>13664.080000</td>\n",
       "    </tr>\n",
       "  </tbody>\n",
       "</table>\n",
       "</div>"
      ],
      "text/plain": [
       "       payment_sequential  payment_installments  payment_value\n",
       "count       103886.000000         103886.000000  103886.000000\n",
       "mean             1.092679              2.853349     154.100380\n",
       "std              0.706584              2.687051     217.494064\n",
       "min              1.000000              0.000000       0.000000\n",
       "25%              1.000000              1.000000      56.790000\n",
       "50%              1.000000              1.000000     100.000000\n",
       "75%              1.000000              4.000000     171.837500\n",
       "max             29.000000             24.000000   13664.080000"
      ]
     },
     "execution_count": 16,
     "metadata": {},
     "output_type": "execute_result"
    }
   ],
   "source": [
    "print(\"Jumlah duplikasi: \", order_payments.duplicated().sum())\n",
    "order_payments.describe()"
   ]
  },
  {
   "cell_type": "markdown",
   "id": "6ae86382-a137-42fe-98bd-573e853af377",
   "metadata": {},
   "source": [
    "**Insight:**\n",
    "\n",
    "**1. Missing Values:**\n",
    "Tidak ada data yang hilang, semua kolom dalam dataset ini memiliki nilai yang lengkap (non-null).\n",
    "\n",
    "**2. Tipe data yang tidak tepat:**\n",
    "Semua kolom sudah memiliki tipe data yang sesuai untuk analisis.\n",
    "\n",
    "**3. Data Duplikasi:**\n",
    "Tidak terdapat data duplikasi. Pemeriksaan duplikasi menunjukkan bahwa tidak ada baris yang terduplikasi dalam dataset ini (Jumlah duplikasi: 0).\n",
    "\n",
    "**4. Distribusi payment_sequential:**\n",
    "Kolom ini menunjukkan nomor urutan pembayaran untuk setiap pesanan. Semua pesanan memiliki nilai minimum 1, mencapai hingga urutan ke-29.Nilai maksimum yang mencapai 29 mengindikasikan adanya pesanan yang mungkin mengalami beberapa pembayaran\n",
    "\n",
    "**5. Distribusi payment_installments:**\n",
    "Nilai cicilan berkisar dari 0 hingga 24 kali, dengan rata-rata cicilan sekitar 2,85. Cicilan 0 mungkin menunjukkan pembayaran penuh di muka, sedangkan cicilan tertinggi mencapai 24, menunjukkan opsi pembayaran panjang untuk barang-barang mahal.\n",
    "\n",
    "**6. Distribusi payment_value:**\n",
    "Nilai pembayaran per transaksi sangat bervariasi, dari 0 hingga 13.664,08 dengan rata-rata sekitar 154,10 dan standar deviasi 217,49. Pembayaran minimum 0 mungkin mencakup kasus-kasus pembayaran promosi, kesalahan transaksi, atau pembayaran dengan metode alternatif yang tidak tercatat di sini. Untuk itu akan diperiksa kembali di tahap berikutnya. Sedangkan, nilai maksimum yang sangat tinggi (13.664,08) menunjukkan adanya produk dengan harga tinggi."
   ]
  },
  {
   "cell_type": "markdown",
   "id": "2fa0f3ad-6a59-480b-a48e-4badcde8270d",
   "metadata": {},
   "source": [
    "**4. Order Reviews**"
   ]
  },
  {
   "cell_type": "code",
   "execution_count": 17,
   "id": "04ee450e-57a0-4cd4-9974-872ef9c7ea83",
   "metadata": {},
   "outputs": [
    {
     "name": "stdout",
     "output_type": "stream",
     "text": [
      "<class 'pandas.core.frame.DataFrame'>\n",
      "RangeIndex: 99224 entries, 0 to 99223\n",
      "Data columns (total 7 columns):\n",
      " #   Column                   Non-Null Count  Dtype \n",
      "---  ------                   --------------  ----- \n",
      " 0   review_id                99224 non-null  object\n",
      " 1   order_id                 99224 non-null  object\n",
      " 2   review_score             99224 non-null  int64 \n",
      " 3   review_comment_title     11568 non-null  object\n",
      " 4   review_comment_message   40977 non-null  object\n",
      " 5   review_creation_date     99224 non-null  object\n",
      " 6   review_answer_timestamp  99224 non-null  object\n",
      "dtypes: int64(1), object(6)\n",
      "memory usage: 5.3+ MB\n"
     ]
    },
    {
     "data": {
      "text/plain": [
       "review_id                      0\n",
       "order_id                       0\n",
       "review_score                   0\n",
       "review_comment_title       87656\n",
       "review_comment_message     58247\n",
       "review_creation_date           0\n",
       "review_answer_timestamp        0\n",
       "dtype: int64"
      ]
     },
     "execution_count": 17,
     "metadata": {},
     "output_type": "execute_result"
    }
   ],
   "source": [
    "order_reviews.info()\n",
    "order_reviews.isna().sum()"
   ]
  },
  {
   "cell_type": "code",
   "execution_count": 18,
   "id": "e1ded9c0-33e5-4203-bdaf-517a7eb55cb0",
   "metadata": {},
   "outputs": [
    {
     "name": "stdout",
     "output_type": "stream",
     "text": [
      "Jumlah duplikasi:  0\n"
     ]
    },
    {
     "data": {
      "text/html": [
       "<div>\n",
       "<style scoped>\n",
       "    .dataframe tbody tr th:only-of-type {\n",
       "        vertical-align: middle;\n",
       "    }\n",
       "\n",
       "    .dataframe tbody tr th {\n",
       "        vertical-align: top;\n",
       "    }\n",
       "\n",
       "    .dataframe thead th {\n",
       "        text-align: right;\n",
       "    }\n",
       "</style>\n",
       "<table border=\"1\" class=\"dataframe\">\n",
       "  <thead>\n",
       "    <tr style=\"text-align: right;\">\n",
       "      <th></th>\n",
       "      <th>review_score</th>\n",
       "    </tr>\n",
       "  </thead>\n",
       "  <tbody>\n",
       "    <tr>\n",
       "      <th>count</th>\n",
       "      <td>99224.000000</td>\n",
       "    </tr>\n",
       "    <tr>\n",
       "      <th>mean</th>\n",
       "      <td>4.086421</td>\n",
       "    </tr>\n",
       "    <tr>\n",
       "      <th>std</th>\n",
       "      <td>1.347579</td>\n",
       "    </tr>\n",
       "    <tr>\n",
       "      <th>min</th>\n",
       "      <td>1.000000</td>\n",
       "    </tr>\n",
       "    <tr>\n",
       "      <th>25%</th>\n",
       "      <td>4.000000</td>\n",
       "    </tr>\n",
       "    <tr>\n",
       "      <th>50%</th>\n",
       "      <td>5.000000</td>\n",
       "    </tr>\n",
       "    <tr>\n",
       "      <th>75%</th>\n",
       "      <td>5.000000</td>\n",
       "    </tr>\n",
       "    <tr>\n",
       "      <th>max</th>\n",
       "      <td>5.000000</td>\n",
       "    </tr>\n",
       "  </tbody>\n",
       "</table>\n",
       "</div>"
      ],
      "text/plain": [
       "       review_score\n",
       "count  99224.000000\n",
       "mean       4.086421\n",
       "std        1.347579\n",
       "min        1.000000\n",
       "25%        4.000000\n",
       "50%        5.000000\n",
       "75%        5.000000\n",
       "max        5.000000"
      ]
     },
     "execution_count": 18,
     "metadata": {},
     "output_type": "execute_result"
    }
   ],
   "source": [
    "print(\"Jumlah duplikasi: \", order_reviews.duplicated().sum())\n",
    "order_reviews.describe()"
   ]
  },
  {
   "cell_type": "markdown",
   "id": "ec6d7d4f-9ab8-46f1-8c52-28565acffa3c",
   "metadata": {},
   "source": [
    "**Insight:**\n",
    "\n",
    "**1. Missing Values:**\n",
    "Terdapat dua kolom yang memiliki jumlah missing values yang cukup besar:\n",
    "- review_comment_title memiliki 87,656 nilai kosong dari total 99,224 data.\n",
    "- review_comment_message memiliki 58,247 nilai kosong dari total 99,224 data.\n",
    "\n",
    "Sebagian besar ulasan tidak menyertakan comment title atau comment message. Hal ini menunjukkan bahwa banyak pelanggan yang hanya memberikan review score tanpa komentar tambahan.\n",
    "\n",
    "**2. Tipe data yang tidak tepat:**\n",
    "Kolom tanggal, seperti review_creation_date dan review_answer_timestamp, bertipe object tetapi dapat diubah ke tipe datetime \n",
    "\n",
    "**3. Data Duplikasi:**\n",
    "Tidak terdapat data duplikasi. Pemeriksaan duplikasi menunjukkan bahwa tidak ada baris yang terduplikasi dalam dataset ini (Jumlah duplikasi: 0)."
   ]
  },
  {
   "cell_type": "markdown",
   "id": "b9adf046-ed14-4c25-86e8-80ba5d29ca1e",
   "metadata": {},
   "source": [
    "**5. Menilai data Products**"
   ]
  },
  {
   "cell_type": "code",
   "execution_count": 19,
   "id": "828e634c-4b31-4513-92ac-5f959af5e1d7",
   "metadata": {},
   "outputs": [
    {
     "name": "stdout",
     "output_type": "stream",
     "text": [
      "<class 'pandas.core.frame.DataFrame'>\n",
      "RangeIndex: 32951 entries, 0 to 32950\n",
      "Data columns (total 9 columns):\n",
      " #   Column                      Non-Null Count  Dtype  \n",
      "---  ------                      --------------  -----  \n",
      " 0   product_id                  32951 non-null  object \n",
      " 1   product_category_name       32341 non-null  object \n",
      " 2   product_name_lenght         32341 non-null  float64\n",
      " 3   product_description_lenght  32341 non-null  float64\n",
      " 4   product_photos_qty          32341 non-null  float64\n",
      " 5   product_weight_g            32949 non-null  float64\n",
      " 6   product_length_cm           32949 non-null  float64\n",
      " 7   product_height_cm           32949 non-null  float64\n",
      " 8   product_width_cm            32949 non-null  float64\n",
      "dtypes: float64(7), object(2)\n",
      "memory usage: 2.3+ MB\n"
     ]
    },
    {
     "data": {
      "text/plain": [
       "product_id                      0\n",
       "product_category_name         610\n",
       "product_name_lenght           610\n",
       "product_description_lenght    610\n",
       "product_photos_qty            610\n",
       "product_weight_g                2\n",
       "product_length_cm               2\n",
       "product_height_cm               2\n",
       "product_width_cm                2\n",
       "dtype: int64"
      ]
     },
     "execution_count": 19,
     "metadata": {},
     "output_type": "execute_result"
    }
   ],
   "source": [
    "products.info()\n",
    "products.isna().sum()"
   ]
  },
  {
   "cell_type": "code",
   "execution_count": 20,
   "id": "f9ac5d2d-82f9-40a8-9afd-f19acbcb241a",
   "metadata": {},
   "outputs": [
    {
     "name": "stdout",
     "output_type": "stream",
     "text": [
      "Jumlah duplikasi:  0\n"
     ]
    },
    {
     "data": {
      "text/html": [
       "<div>\n",
       "<style scoped>\n",
       "    .dataframe tbody tr th:only-of-type {\n",
       "        vertical-align: middle;\n",
       "    }\n",
       "\n",
       "    .dataframe tbody tr th {\n",
       "        vertical-align: top;\n",
       "    }\n",
       "\n",
       "    .dataframe thead th {\n",
       "        text-align: right;\n",
       "    }\n",
       "</style>\n",
       "<table border=\"1\" class=\"dataframe\">\n",
       "  <thead>\n",
       "    <tr style=\"text-align: right;\">\n",
       "      <th></th>\n",
       "      <th>product_name_lenght</th>\n",
       "      <th>product_description_lenght</th>\n",
       "      <th>product_photos_qty</th>\n",
       "      <th>product_weight_g</th>\n",
       "      <th>product_length_cm</th>\n",
       "      <th>product_height_cm</th>\n",
       "      <th>product_width_cm</th>\n",
       "    </tr>\n",
       "  </thead>\n",
       "  <tbody>\n",
       "    <tr>\n",
       "      <th>count</th>\n",
       "      <td>32341.000000</td>\n",
       "      <td>32341.000000</td>\n",
       "      <td>32341.000000</td>\n",
       "      <td>32949.000000</td>\n",
       "      <td>32949.000000</td>\n",
       "      <td>32949.000000</td>\n",
       "      <td>32949.000000</td>\n",
       "    </tr>\n",
       "    <tr>\n",
       "      <th>mean</th>\n",
       "      <td>48.476949</td>\n",
       "      <td>771.495285</td>\n",
       "      <td>2.188986</td>\n",
       "      <td>2276.472488</td>\n",
       "      <td>30.815078</td>\n",
       "      <td>16.937661</td>\n",
       "      <td>23.196728</td>\n",
       "    </tr>\n",
       "    <tr>\n",
       "      <th>std</th>\n",
       "      <td>10.245741</td>\n",
       "      <td>635.115225</td>\n",
       "      <td>1.736766</td>\n",
       "      <td>4282.038731</td>\n",
       "      <td>16.914458</td>\n",
       "      <td>13.637554</td>\n",
       "      <td>12.079047</td>\n",
       "    </tr>\n",
       "    <tr>\n",
       "      <th>min</th>\n",
       "      <td>5.000000</td>\n",
       "      <td>4.000000</td>\n",
       "      <td>1.000000</td>\n",
       "      <td>0.000000</td>\n",
       "      <td>7.000000</td>\n",
       "      <td>2.000000</td>\n",
       "      <td>6.000000</td>\n",
       "    </tr>\n",
       "    <tr>\n",
       "      <th>25%</th>\n",
       "      <td>42.000000</td>\n",
       "      <td>339.000000</td>\n",
       "      <td>1.000000</td>\n",
       "      <td>300.000000</td>\n",
       "      <td>18.000000</td>\n",
       "      <td>8.000000</td>\n",
       "      <td>15.000000</td>\n",
       "    </tr>\n",
       "    <tr>\n",
       "      <th>50%</th>\n",
       "      <td>51.000000</td>\n",
       "      <td>595.000000</td>\n",
       "      <td>1.000000</td>\n",
       "      <td>700.000000</td>\n",
       "      <td>25.000000</td>\n",
       "      <td>13.000000</td>\n",
       "      <td>20.000000</td>\n",
       "    </tr>\n",
       "    <tr>\n",
       "      <th>75%</th>\n",
       "      <td>57.000000</td>\n",
       "      <td>972.000000</td>\n",
       "      <td>3.000000</td>\n",
       "      <td>1900.000000</td>\n",
       "      <td>38.000000</td>\n",
       "      <td>21.000000</td>\n",
       "      <td>30.000000</td>\n",
       "    </tr>\n",
       "    <tr>\n",
       "      <th>max</th>\n",
       "      <td>76.000000</td>\n",
       "      <td>3992.000000</td>\n",
       "      <td>20.000000</td>\n",
       "      <td>40425.000000</td>\n",
       "      <td>105.000000</td>\n",
       "      <td>105.000000</td>\n",
       "      <td>118.000000</td>\n",
       "    </tr>\n",
       "  </tbody>\n",
       "</table>\n",
       "</div>"
      ],
      "text/plain": [
       "       product_name_lenght  product_description_lenght  product_photos_qty  \\\n",
       "count         32341.000000                32341.000000        32341.000000   \n",
       "mean             48.476949                  771.495285            2.188986   \n",
       "std              10.245741                  635.115225            1.736766   \n",
       "min               5.000000                    4.000000            1.000000   \n",
       "25%              42.000000                  339.000000            1.000000   \n",
       "50%              51.000000                  595.000000            1.000000   \n",
       "75%              57.000000                  972.000000            3.000000   \n",
       "max              76.000000                 3992.000000           20.000000   \n",
       "\n",
       "       product_weight_g  product_length_cm  product_height_cm  \\\n",
       "count      32949.000000       32949.000000       32949.000000   \n",
       "mean        2276.472488          30.815078          16.937661   \n",
       "std         4282.038731          16.914458          13.637554   \n",
       "min            0.000000           7.000000           2.000000   \n",
       "25%          300.000000          18.000000           8.000000   \n",
       "50%          700.000000          25.000000          13.000000   \n",
       "75%         1900.000000          38.000000          21.000000   \n",
       "max        40425.000000         105.000000         105.000000   \n",
       "\n",
       "       product_width_cm  \n",
       "count      32949.000000  \n",
       "mean          23.196728  \n",
       "std           12.079047  \n",
       "min            6.000000  \n",
       "25%           15.000000  \n",
       "50%           20.000000  \n",
       "75%           30.000000  \n",
       "max          118.000000  "
      ]
     },
     "execution_count": 20,
     "metadata": {},
     "output_type": "execute_result"
    }
   ],
   "source": [
    "print(\"Jumlah duplikasi: \", products.duplicated().sum())\n",
    "products.describe()"
   ]
  },
  {
   "cell_type": "markdown",
   "id": "fc61bdc2-677a-4fa2-bd2c-979a742e2b38",
   "metadata": {},
   "source": [
    "**Insight:**\n",
    "\n",
    "**1. Missing Values:**\n",
    "Terdapat 5 kolom yang memiliki jumlah missing values yaitu:\n",
    "- product_category_name, product_name_lenght, product_description_lenght sebanyak 610.\n",
    "- product_weight_g, product_length_cm, product_height_cm, dan product_width_cm masing-masing memiliki 2 nilai kosong.\n",
    "Kolom terkait panjang nama produk, deskripsi, dan jumlah foto berpotensi memengaruhi kelengkapan informasi produk. \n",
    "Nilai kosong dalam kategori produk atau atribut dimensi fisik bisa mempersulit analisis yang memerlukan kategori produk atau pengukuran fisik. \n",
    "Akan tetapi, dalam analisis ini tidak membutuhkan atribut tersebut untuk itu tidak apa apa dibiarkan kosong.\n",
    "\n",
    "**2. Tipe data yang tidak tepat:**\n",
    "Semua kolom sudah memiliki tipe data yang sesuai untuk analisis.\n",
    "\n",
    "**3. Data Duplikasi:**\n",
    "Tidak terdapat data duplikasi. Pemeriksaan duplikasi menunjukkan bahwa tidak ada baris yang terduplikasi dalam dataset ini (Jumlah duplikasi: 0)."
   ]
  },
  {
   "cell_type": "markdown",
   "id": "4e4aa5a9-ac5b-4219-821f-7c0ef5549d3d",
   "metadata": {},
   "source": [
    "**6. Product Category**"
   ]
  },
  {
   "cell_type": "code",
   "execution_count": 21,
   "id": "45410465-0280-4888-bafd-4bdebae44021",
   "metadata": {},
   "outputs": [
    {
     "name": "stdout",
     "output_type": "stream",
     "text": [
      "<class 'pandas.core.frame.DataFrame'>\n",
      "RangeIndex: 71 entries, 0 to 70\n",
      "Data columns (total 2 columns):\n",
      " #   Column                         Non-Null Count  Dtype \n",
      "---  ------                         --------------  ----- \n",
      " 0   product_category_name          71 non-null     object\n",
      " 1   product_category_name_english  71 non-null     object\n",
      "dtypes: object(2)\n",
      "memory usage: 1.2+ KB\n"
     ]
    },
    {
     "data": {
      "text/plain": [
       "product_category_name            0\n",
       "product_category_name_english    0\n",
       "dtype: int64"
      ]
     },
     "execution_count": 21,
     "metadata": {},
     "output_type": "execute_result"
    }
   ],
   "source": [
    "product_category.info()\n",
    "product_category.isna().sum()"
   ]
  },
  {
   "cell_type": "code",
   "execution_count": 22,
   "id": "3020bf16-5589-4002-bd46-d680016712fc",
   "metadata": {},
   "outputs": [
    {
     "name": "stdout",
     "output_type": "stream",
     "text": [
      "Jumlah duplikasi:  0\n"
     ]
    }
   ],
   "source": [
    "print(\"Jumlah duplikasi: \", product_category.duplicated().sum())"
   ]
  },
  {
   "cell_type": "markdown",
   "id": "ee0fecf3-1467-4616-958e-62b7c4a4668c",
   "metadata": {},
   "source": [
    "**Insight:**\n",
    "\n",
    "**1. Missing Values:**\n",
    "Tidak ada data yang hilang, semua kolom dalam dataset ini memiliki nilai yang lengkap (non-null).\n",
    "\n",
    "**2. Tipe data yang tidak tepat:**\n",
    "Semua kolom sudah memiliki tipe data yang sesuai untuk analisis.\n",
    "\n",
    "**3. Data Duplikasi:**\n",
    "Tidak terdapat data duplikasi. Pemeriksaan duplikasi menunjukkan bahwa tidak ada baris yang terduplikasi dalam dataset ini (Jumlah duplikasi: 0)."
   ]
  },
  {
   "cell_type": "markdown",
   "id": "0a614378-ac91-47e9-957d-c5cf847d269b",
   "metadata": {},
   "source": [
    "**7. Customers**"
   ]
  },
  {
   "cell_type": "code",
   "execution_count": 23,
   "id": "a7fde9b9-3759-4536-89fe-ca31709a035a",
   "metadata": {},
   "outputs": [
    {
     "name": "stdout",
     "output_type": "stream",
     "text": [
      "<class 'pandas.core.frame.DataFrame'>\n",
      "RangeIndex: 99441 entries, 0 to 99440\n",
      "Data columns (total 5 columns):\n",
      " #   Column                    Non-Null Count  Dtype \n",
      "---  ------                    --------------  ----- \n",
      " 0   customer_id               99441 non-null  object\n",
      " 1   customer_unique_id        99441 non-null  object\n",
      " 2   customer_zip_code_prefix  99441 non-null  int64 \n",
      " 3   customer_city             99441 non-null  object\n",
      " 4   customer_state            99441 non-null  object\n",
      "dtypes: int64(1), object(4)\n",
      "memory usage: 3.8+ MB\n"
     ]
    },
    {
     "data": {
      "text/plain": [
       "customer_id                 0\n",
       "customer_unique_id          0\n",
       "customer_zip_code_prefix    0\n",
       "customer_city               0\n",
       "customer_state              0\n",
       "dtype: int64"
      ]
     },
     "execution_count": 23,
     "metadata": {},
     "output_type": "execute_result"
    }
   ],
   "source": [
    "customers.info()\n",
    "customers.isna().sum()"
   ]
  },
  {
   "cell_type": "code",
   "execution_count": 24,
   "id": "7babee75-4c38-4fd4-84ca-eedbf3e21407",
   "metadata": {},
   "outputs": [
    {
     "name": "stdout",
     "output_type": "stream",
     "text": [
      "Jumlah duplikasi:  0\n"
     ]
    }
   ],
   "source": [
    "print(\"Jumlah duplikasi: \", customers.duplicated().sum())"
   ]
  },
  {
   "cell_type": "markdown",
   "id": "0b9310bf-5a19-4afb-bf15-58a277cefc65",
   "metadata": {},
   "source": [
    "**Insight:**\n",
    "\n",
    "**1. Missing Values:**\n",
    "Tidak ada data yang hilang, semua kolom dalam dataset ini memiliki nilai yang lengkap (non-null).\n",
    "\n",
    "**2. Tipe data yang tidak tepat:**\n",
    "Semua kolom sudah memiliki tipe data yang sesuai untuk analisis.\n",
    "\n",
    "**3. Data Duplikasi:**\n",
    "Tidak terdapat data duplikasi. Pemeriksaan duplikasi menunjukkan bahwa tidak ada baris yang terduplikasi dalam dataset ini (Jumlah duplikasi: 0)."
   ]
  },
  {
   "cell_type": "markdown",
   "id": "9a129373-1ba3-4110-8fb1-ad67069d94d0",
   "metadata": {},
   "source": [
    "**8. Sellers**"
   ]
  },
  {
   "cell_type": "code",
   "execution_count": 25,
   "id": "b6c513b6-9cd2-4c87-b6ae-ba84d81af24b",
   "metadata": {},
   "outputs": [
    {
     "name": "stdout",
     "output_type": "stream",
     "text": [
      "<class 'pandas.core.frame.DataFrame'>\n",
      "RangeIndex: 3095 entries, 0 to 3094\n",
      "Data columns (total 4 columns):\n",
      " #   Column                  Non-Null Count  Dtype \n",
      "---  ------                  --------------  ----- \n",
      " 0   seller_id               3095 non-null   object\n",
      " 1   seller_zip_code_prefix  3095 non-null   int64 \n",
      " 2   seller_city             3095 non-null   object\n",
      " 3   seller_state            3095 non-null   object\n",
      "dtypes: int64(1), object(3)\n",
      "memory usage: 96.8+ KB\n"
     ]
    },
    {
     "data": {
      "text/plain": [
       "seller_id                 0\n",
       "seller_zip_code_prefix    0\n",
       "seller_city               0\n",
       "seller_state              0\n",
       "dtype: int64"
      ]
     },
     "execution_count": 25,
     "metadata": {},
     "output_type": "execute_result"
    }
   ],
   "source": [
    "sellers.info()\n",
    "sellers.isna().sum()"
   ]
  },
  {
   "cell_type": "code",
   "execution_count": 26,
   "id": "d98024a1-77b1-4ebc-9cff-39d4ba47096b",
   "metadata": {},
   "outputs": [
    {
     "name": "stdout",
     "output_type": "stream",
     "text": [
      "Jumlah duplikasi:  0\n"
     ]
    }
   ],
   "source": [
    "print(\"Jumlah duplikasi: \", sellers.duplicated().sum())"
   ]
  },
  {
   "cell_type": "markdown",
   "id": "d7198eab-401c-4573-b7ea-59c95d259d5c",
   "metadata": {},
   "source": [
    "**Insight:**\n",
    "\n",
    "**1. Missing Values:**\n",
    "Tidak ada data yang hilang, semua kolom dalam dataset ini memiliki nilai yang lengkap (non-null).\n",
    "\n",
    "**2. Tipe data yang tidak tepat:**\n",
    "Semua kolom sudah memiliki tipe data yang sesuai untuk analisis.\n",
    "\n",
    "**3. Data Duplikasi:**\n",
    "Tidak terdapat data duplikasi. Pemeriksaan duplikasi menunjukkan bahwa tidak ada baris yang terduplikasi dalam dataset ini (Jumlah duplikasi: 0)."
   ]
  },
  {
   "cell_type": "markdown",
   "id": "636d66de-3a30-4f12-b52b-99e6be91741d",
   "metadata": {},
   "source": [
    "### - Cleaning Data"
   ]
  },
  {
   "cell_type": "markdown",
   "id": "1dbb15c6-3aaa-42f4-a6f8-8b27be97a70a",
   "metadata": {},
   "source": [
    "**Mengubah Tipe Data pada Order**"
   ]
  },
  {
   "cell_type": "code",
   "execution_count": 27,
   "id": "24f52a6a-65c9-43b3-bca7-151c26a28d13",
   "metadata": {},
   "outputs": [
    {
     "name": "stdout",
     "output_type": "stream",
     "text": [
      "<class 'pandas.core.frame.DataFrame'>\n",
      "RangeIndex: 99441 entries, 0 to 99440\n",
      "Data columns (total 8 columns):\n",
      " #   Column                         Non-Null Count  Dtype         \n",
      "---  ------                         --------------  -----         \n",
      " 0   order_id                       99441 non-null  object        \n",
      " 1   customer_id                    99441 non-null  object        \n",
      " 2   order_status                   99441 non-null  object        \n",
      " 3   order_purchase_timestamp       99441 non-null  datetime64[ns]\n",
      " 4   order_approved_at              99281 non-null  datetime64[ns]\n",
      " 5   order_delivered_carrier_date   97658 non-null  datetime64[ns]\n",
      " 6   order_delivered_customer_date  96476 non-null  datetime64[ns]\n",
      " 7   order_estimated_delivery_date  99441 non-null  datetime64[ns]\n",
      "dtypes: datetime64[ns](5), object(3)\n",
      "memory usage: 6.1+ MB\n"
     ]
    }
   ],
   "source": [
    "datetime_columns = [\"order_purchase_timestamp\", \"order_approved_at\",\"order_delivered_carrier_date\",\"order_delivered_customer_date\",\"order_estimated_delivery_date\"]\n",
    " \n",
    "for column in datetime_columns:\n",
    "  orders[column] = pd.to_datetime(orders[column])\n",
    "\n",
    "orders.info()"
   ]
  },
  {
   "cell_type": "markdown",
   "id": "687be6b5-1d0b-492f-854f-aa6e1b75f64e",
   "metadata": {},
   "source": [
    "**Mengubah Tipe Data pada Order Items**"
   ]
  },
  {
   "cell_type": "code",
   "execution_count": 28,
   "id": "935cb70a-5be6-4e7e-8627-4e676be3ac7a",
   "metadata": {},
   "outputs": [
    {
     "name": "stdout",
     "output_type": "stream",
     "text": [
      "<class 'pandas.core.frame.DataFrame'>\n",
      "RangeIndex: 112650 entries, 0 to 112649\n",
      "Data columns (total 7 columns):\n",
      " #   Column               Non-Null Count   Dtype         \n",
      "---  ------               --------------   -----         \n",
      " 0   order_id             112650 non-null  object        \n",
      " 1   order_item_id        112650 non-null  int64         \n",
      " 2   product_id           112650 non-null  object        \n",
      " 3   seller_id            112650 non-null  object        \n",
      " 4   shipping_limit_date  112650 non-null  datetime64[ns]\n",
      " 5   price                112650 non-null  float64       \n",
      " 6   freight_value        112650 non-null  float64       \n",
      "dtypes: datetime64[ns](1), float64(2), int64(1), object(3)\n",
      "memory usage: 6.0+ MB\n"
     ]
    }
   ],
   "source": [
    "order_items['shipping_limit_date'] = pd.to_datetime(order_items['shipping_limit_date'], errors='coerce')\n",
    "order_items.info()"
   ]
  },
  {
   "cell_type": "markdown",
   "id": "3238553e-a739-4386-9bbe-72f967187000",
   "metadata": {},
   "source": [
    "**Mengubah Tipe Data pada Order Reviews**"
   ]
  },
  {
   "cell_type": "code",
   "execution_count": 29,
   "id": "b56bc9f0-3ef3-4b21-b871-9caeab1b0a23",
   "metadata": {},
   "outputs": [
    {
     "name": "stdout",
     "output_type": "stream",
     "text": [
      "<class 'pandas.core.frame.DataFrame'>\n",
      "RangeIndex: 99224 entries, 0 to 99223\n",
      "Data columns (total 7 columns):\n",
      " #   Column                   Non-Null Count  Dtype         \n",
      "---  ------                   --------------  -----         \n",
      " 0   review_id                99224 non-null  object        \n",
      " 1   order_id                 99224 non-null  object        \n",
      " 2   review_score             99224 non-null  int64         \n",
      " 3   review_comment_title     11568 non-null  object        \n",
      " 4   review_comment_message   40977 non-null  object        \n",
      " 5   review_creation_date     99224 non-null  datetime64[ns]\n",
      " 6   review_answer_timestamp  99224 non-null  datetime64[ns]\n",
      "dtypes: datetime64[ns](2), int64(1), object(4)\n",
      "memory usage: 5.3+ MB\n"
     ]
    }
   ],
   "source": [
    "datetime_columns = [\"review_creation_date\",\"review_answer_timestamp\"]\n",
    " \n",
    "for column in datetime_columns:\n",
    "  order_reviews[column] = pd.to_datetime(order_reviews[column])\n",
    "\n",
    "order_reviews.info()"
   ]
  },
  {
   "cell_type": "markdown",
   "id": "5c1ccd21-b552-4dcb-90b3-80bc71b8562e",
   "metadata": {},
   "source": [
    "**Memeriksa Distribusi Nilai Pengiriman pada Order Items**"
   ]
  },
  {
   "cell_type": "code",
   "execution_count": 30,
   "id": "0529a7fa-ceaf-4dfa-b7ee-774465db1b2e",
   "metadata": {},
   "outputs": [
    {
     "data": {
      "text/html": [
       "<div>\n",
       "<style scoped>\n",
       "    .dataframe tbody tr th:only-of-type {\n",
       "        vertical-align: middle;\n",
       "    }\n",
       "\n",
       "    .dataframe tbody tr th {\n",
       "        vertical-align: top;\n",
       "    }\n",
       "\n",
       "    .dataframe thead th {\n",
       "        text-align: right;\n",
       "    }\n",
       "</style>\n",
       "<table border=\"1\" class=\"dataframe\">\n",
       "  <thead>\n",
       "    <tr style=\"text-align: right;\">\n",
       "      <th></th>\n",
       "      <th>order_id</th>\n",
       "      <th>order_item_id</th>\n",
       "      <th>product_id</th>\n",
       "      <th>seller_id</th>\n",
       "      <th>shipping_limit_date</th>\n",
       "      <th>price</th>\n",
       "      <th>freight_value</th>\n",
       "    </tr>\n",
       "  </thead>\n",
       "  <tbody>\n",
       "    <tr>\n",
       "      <th>114</th>\n",
       "      <td>00404fa7a687c8c44ca69d42695aae73</td>\n",
       "      <td>1</td>\n",
       "      <td>53b36df67ebb7c41585e8d54d6772e08</td>\n",
       "      <td>7d13fca15225358621be4086e1eb0964</td>\n",
       "      <td>2018-05-15 04:31:26</td>\n",
       "      <td>99.9</td>\n",
       "      <td>0.0</td>\n",
       "    </tr>\n",
       "    <tr>\n",
       "      <th>258</th>\n",
       "      <td>00a870c6c06346e85335524935c600c0</td>\n",
       "      <td>1</td>\n",
       "      <td>aca2eb7d00ea1a7b8ebd4e68314663af</td>\n",
       "      <td>955fee9216a65b617aa5c0531780ce60</td>\n",
       "      <td>2018-05-14 00:14:29</td>\n",
       "      <td>69.9</td>\n",
       "      <td>0.0</td>\n",
       "    </tr>\n",
       "    <tr>\n",
       "      <th>483</th>\n",
       "      <td>011c899816ea29773525bd3322dbb6aa</td>\n",
       "      <td>1</td>\n",
       "      <td>53b36df67ebb7c41585e8d54d6772e08</td>\n",
       "      <td>7d13fca15225358621be4086e1eb0964</td>\n",
       "      <td>2018-05-07 05:30:45</td>\n",
       "      <td>99.9</td>\n",
       "      <td>0.0</td>\n",
       "    </tr>\n",
       "    <tr>\n",
       "      <th>508</th>\n",
       "      <td>012b3f6ab7776a8ab3443a4ad7bef2e6</td>\n",
       "      <td>1</td>\n",
       "      <td>422879e10f46682990de24d770e7f83d</td>\n",
       "      <td>1f50f920176fa81dab994f9023523100</td>\n",
       "      <td>2018-05-09 21:30:50</td>\n",
       "      <td>53.9</td>\n",
       "      <td>0.0</td>\n",
       "    </tr>\n",
       "    <tr>\n",
       "      <th>509</th>\n",
       "      <td>012b3f6ab7776a8ab3443a4ad7bef2e6</td>\n",
       "      <td>2</td>\n",
       "      <td>422879e10f46682990de24d770e7f83d</td>\n",
       "      <td>1f50f920176fa81dab994f9023523100</td>\n",
       "      <td>2018-05-09 21:30:50</td>\n",
       "      <td>53.9</td>\n",
       "      <td>0.0</td>\n",
       "    </tr>\n",
       "    <tr>\n",
       "      <th>...</th>\n",
       "      <td>...</td>\n",
       "      <td>...</td>\n",
       "      <td>...</td>\n",
       "      <td>...</td>\n",
       "      <td>...</td>\n",
       "      <td>...</td>\n",
       "      <td>...</td>\n",
       "    </tr>\n",
       "    <tr>\n",
       "      <th>111094</th>\n",
       "      <td>fc698f330ec7fb74859071cc6cb29772</td>\n",
       "      <td>1</td>\n",
       "      <td>422879e10f46682990de24d770e7f83d</td>\n",
       "      <td>1f50f920176fa81dab994f9023523100</td>\n",
       "      <td>2018-04-25 02:31:57</td>\n",
       "      <td>53.9</td>\n",
       "      <td>0.0</td>\n",
       "    </tr>\n",
       "    <tr>\n",
       "      <th>111497</th>\n",
       "      <td>fd4907109f6bac23f07064af84bec02d</td>\n",
       "      <td>1</td>\n",
       "      <td>7a10781637204d8d10485c71a6108a2e</td>\n",
       "      <td>4869f7a5dfa277a7dca6462dcf3b52b2</td>\n",
       "      <td>2018-04-30 11:31:32</td>\n",
       "      <td>219.0</td>\n",
       "      <td>0.0</td>\n",
       "    </tr>\n",
       "    <tr>\n",
       "      <th>111649</th>\n",
       "      <td>fd95e4b85ebbb81853d4a6be3d61432b</td>\n",
       "      <td>1</td>\n",
       "      <td>53b36df67ebb7c41585e8d54d6772e08</td>\n",
       "      <td>4869f7a5dfa277a7dca6462dcf3b52b2</td>\n",
       "      <td>2018-05-04 11:10:31</td>\n",
       "      <td>106.9</td>\n",
       "      <td>0.0</td>\n",
       "    </tr>\n",
       "    <tr>\n",
       "      <th>112182</th>\n",
       "      <td>fee19a0dc7358b6962a611cecf6a37b4</td>\n",
       "      <td>1</td>\n",
       "      <td>f1c7f353075ce59d8a6f3cf58f419c9c</td>\n",
       "      <td>37be5a7c751166fbc5f8ccba4119e043</td>\n",
       "      <td>2017-09-07 22:06:31</td>\n",
       "      <td>195.0</td>\n",
       "      <td>0.0</td>\n",
       "    </tr>\n",
       "    <tr>\n",
       "      <th>112607</th>\n",
       "      <td>ffe73fc1d73e03fdb50e63903ddfe882</td>\n",
       "      <td>1</td>\n",
       "      <td>53b36df67ebb7c41585e8d54d6772e08</td>\n",
       "      <td>4869f7a5dfa277a7dca6462dcf3b52b2</td>\n",
       "      <td>2018-04-23 13:15:15</td>\n",
       "      <td>112.9</td>\n",
       "      <td>0.0</td>\n",
       "    </tr>\n",
       "  </tbody>\n",
       "</table>\n",
       "<p>383 rows × 7 columns</p>\n",
       "</div>"
      ],
      "text/plain": [
       "                                order_id  order_item_id  \\\n",
       "114     00404fa7a687c8c44ca69d42695aae73              1   \n",
       "258     00a870c6c06346e85335524935c600c0              1   \n",
       "483     011c899816ea29773525bd3322dbb6aa              1   \n",
       "508     012b3f6ab7776a8ab3443a4ad7bef2e6              1   \n",
       "509     012b3f6ab7776a8ab3443a4ad7bef2e6              2   \n",
       "...                                  ...            ...   \n",
       "111094  fc698f330ec7fb74859071cc6cb29772              1   \n",
       "111497  fd4907109f6bac23f07064af84bec02d              1   \n",
       "111649  fd95e4b85ebbb81853d4a6be3d61432b              1   \n",
       "112182  fee19a0dc7358b6962a611cecf6a37b4              1   \n",
       "112607  ffe73fc1d73e03fdb50e63903ddfe882              1   \n",
       "\n",
       "                              product_id                         seller_id  \\\n",
       "114     53b36df67ebb7c41585e8d54d6772e08  7d13fca15225358621be4086e1eb0964   \n",
       "258     aca2eb7d00ea1a7b8ebd4e68314663af  955fee9216a65b617aa5c0531780ce60   \n",
       "483     53b36df67ebb7c41585e8d54d6772e08  7d13fca15225358621be4086e1eb0964   \n",
       "508     422879e10f46682990de24d770e7f83d  1f50f920176fa81dab994f9023523100   \n",
       "509     422879e10f46682990de24d770e7f83d  1f50f920176fa81dab994f9023523100   \n",
       "...                                  ...                               ...   \n",
       "111094  422879e10f46682990de24d770e7f83d  1f50f920176fa81dab994f9023523100   \n",
       "111497  7a10781637204d8d10485c71a6108a2e  4869f7a5dfa277a7dca6462dcf3b52b2   \n",
       "111649  53b36df67ebb7c41585e8d54d6772e08  4869f7a5dfa277a7dca6462dcf3b52b2   \n",
       "112182  f1c7f353075ce59d8a6f3cf58f419c9c  37be5a7c751166fbc5f8ccba4119e043   \n",
       "112607  53b36df67ebb7c41585e8d54d6772e08  4869f7a5dfa277a7dca6462dcf3b52b2   \n",
       "\n",
       "       shipping_limit_date  price  freight_value  \n",
       "114    2018-05-15 04:31:26   99.9            0.0  \n",
       "258    2018-05-14 00:14:29   69.9            0.0  \n",
       "483    2018-05-07 05:30:45   99.9            0.0  \n",
       "508    2018-05-09 21:30:50   53.9            0.0  \n",
       "509    2018-05-09 21:30:50   53.9            0.0  \n",
       "...                    ...    ...            ...  \n",
       "111094 2018-04-25 02:31:57   53.9            0.0  \n",
       "111497 2018-04-30 11:31:32  219.0            0.0  \n",
       "111649 2018-05-04 11:10:31  106.9            0.0  \n",
       "112182 2017-09-07 22:06:31  195.0            0.0  \n",
       "112607 2018-04-23 13:15:15  112.9            0.0  \n",
       "\n",
       "[383 rows x 7 columns]"
      ]
     },
     "execution_count": 30,
     "metadata": {},
     "output_type": "execute_result"
    }
   ],
   "source": [
    "order_items[order_items.freight_value == order_items.freight_value.min()]"
   ]
  },
  {
   "cell_type": "markdown",
   "id": "40aad27b-d954-4712-8d26-b0cdf38d88c5",
   "metadata": {},
   "source": [
    "Terdapat 383 data yang memiliki freight_value 0. Dilihat dari banyaknya data, sepertinya memang pelanggan menggunakan voucher. "
   ]
  },
  {
   "cell_type": "markdown",
   "id": "1bd67b47-4c6a-4618-850e-ea0b72bca401",
   "metadata": {},
   "source": [
    "**Memeriksa Distribusi payment_value pada Order Payments**"
   ]
  },
  {
   "cell_type": "code",
   "execution_count": 31,
   "id": "5a21df05-1176-4217-8ce8-817116efbd9b",
   "metadata": {},
   "outputs": [
    {
     "data": {
      "text/html": [
       "<div>\n",
       "<style scoped>\n",
       "    .dataframe tbody tr th:only-of-type {\n",
       "        vertical-align: middle;\n",
       "    }\n",
       "\n",
       "    .dataframe tbody tr th {\n",
       "        vertical-align: top;\n",
       "    }\n",
       "\n",
       "    .dataframe thead th {\n",
       "        text-align: right;\n",
       "    }\n",
       "</style>\n",
       "<table border=\"1\" class=\"dataframe\">\n",
       "  <thead>\n",
       "    <tr style=\"text-align: right;\">\n",
       "      <th></th>\n",
       "      <th>order_id</th>\n",
       "      <th>payment_sequential</th>\n",
       "      <th>payment_type</th>\n",
       "      <th>payment_installments</th>\n",
       "      <th>payment_value</th>\n",
       "    </tr>\n",
       "  </thead>\n",
       "  <tbody>\n",
       "    <tr>\n",
       "      <th>19922</th>\n",
       "      <td>8bcbe01d44d147f901cd3192671144db</td>\n",
       "      <td>4</td>\n",
       "      <td>voucher</td>\n",
       "      <td>1</td>\n",
       "      <td>0.0</td>\n",
       "    </tr>\n",
       "    <tr>\n",
       "      <th>36822</th>\n",
       "      <td>fa65dad1b0e818e3ccc5cb0e39231352</td>\n",
       "      <td>14</td>\n",
       "      <td>voucher</td>\n",
       "      <td>1</td>\n",
       "      <td>0.0</td>\n",
       "    </tr>\n",
       "    <tr>\n",
       "      <th>43744</th>\n",
       "      <td>6ccb433e00daae1283ccc956189c82ae</td>\n",
       "      <td>4</td>\n",
       "      <td>voucher</td>\n",
       "      <td>1</td>\n",
       "      <td>0.0</td>\n",
       "    </tr>\n",
       "    <tr>\n",
       "      <th>51280</th>\n",
       "      <td>4637ca194b6387e2d538dc89b124b0ee</td>\n",
       "      <td>1</td>\n",
       "      <td>not_defined</td>\n",
       "      <td>1</td>\n",
       "      <td>0.0</td>\n",
       "    </tr>\n",
       "    <tr>\n",
       "      <th>57411</th>\n",
       "      <td>00b1cb0320190ca0daa2c88b35206009</td>\n",
       "      <td>1</td>\n",
       "      <td>not_defined</td>\n",
       "      <td>1</td>\n",
       "      <td>0.0</td>\n",
       "    </tr>\n",
       "    <tr>\n",
       "      <th>62674</th>\n",
       "      <td>45ed6e85398a87c253db47c2d9f48216</td>\n",
       "      <td>3</td>\n",
       "      <td>voucher</td>\n",
       "      <td>1</td>\n",
       "      <td>0.0</td>\n",
       "    </tr>\n",
       "    <tr>\n",
       "      <th>77885</th>\n",
       "      <td>fa65dad1b0e818e3ccc5cb0e39231352</td>\n",
       "      <td>13</td>\n",
       "      <td>voucher</td>\n",
       "      <td>1</td>\n",
       "      <td>0.0</td>\n",
       "    </tr>\n",
       "    <tr>\n",
       "      <th>94427</th>\n",
       "      <td>c8c528189310eaa44a745b8d9d26908b</td>\n",
       "      <td>1</td>\n",
       "      <td>not_defined</td>\n",
       "      <td>1</td>\n",
       "      <td>0.0</td>\n",
       "    </tr>\n",
       "    <tr>\n",
       "      <th>100766</th>\n",
       "      <td>b23878b3e8eb4d25a158f57d96331b18</td>\n",
       "      <td>4</td>\n",
       "      <td>voucher</td>\n",
       "      <td>1</td>\n",
       "      <td>0.0</td>\n",
       "    </tr>\n",
       "  </tbody>\n",
       "</table>\n",
       "</div>"
      ],
      "text/plain": [
       "                                order_id  payment_sequential payment_type  \\\n",
       "19922   8bcbe01d44d147f901cd3192671144db                   4      voucher   \n",
       "36822   fa65dad1b0e818e3ccc5cb0e39231352                  14      voucher   \n",
       "43744   6ccb433e00daae1283ccc956189c82ae                   4      voucher   \n",
       "51280   4637ca194b6387e2d538dc89b124b0ee                   1  not_defined   \n",
       "57411   00b1cb0320190ca0daa2c88b35206009                   1  not_defined   \n",
       "62674   45ed6e85398a87c253db47c2d9f48216                   3      voucher   \n",
       "77885   fa65dad1b0e818e3ccc5cb0e39231352                  13      voucher   \n",
       "94427   c8c528189310eaa44a745b8d9d26908b                   1  not_defined   \n",
       "100766  b23878b3e8eb4d25a158f57d96331b18                   4      voucher   \n",
       "\n",
       "        payment_installments  payment_value  \n",
       "19922                      1            0.0  \n",
       "36822                      1            0.0  \n",
       "43744                      1            0.0  \n",
       "51280                      1            0.0  \n",
       "57411                      1            0.0  \n",
       "62674                      1            0.0  \n",
       "77885                      1            0.0  \n",
       "94427                      1            0.0  \n",
       "100766                     1            0.0  "
      ]
     },
     "execution_count": 31,
     "metadata": {},
     "output_type": "execute_result"
    }
   ],
   "source": [
    "order_payments[order_payments.payment_value == order_payments.payment_value.min()]"
   ]
  },
  {
   "cell_type": "markdown",
   "id": "5422a4e3-569f-49ed-9214-7269e5b7c9fa",
   "metadata": {},
   "source": [
    "- Terdapat 9 transaksi memiliki nilai payment_value sebesar 0.0, yang dapat disebabkan oleh penggunaan voucher atau karena jenis pembayaran yang not_defined. Hal ini menunjukkan bahwa transaksi tersebut mungkin dibiayai sepenuhnya oleh kupon atau diskon tanpa perlu ada pembayaran tambahan dari pelanggan.\n",
    "- Transaksi dengan payment_value nol di berbagai tipe pembayaran, terutama not_defined, mengindikasikan kemungkinan adanya kesalahan data atau transaksi yang tidak sepenuhnya teridentifikasi. Perlu ada pemeriksaan lebih lanjut dan validasi sistem untuk memastikan bahwa data pembayaran sesuai dengan aturan transaksi."
   ]
  },
  {
   "cell_type": "markdown",
   "id": "9cad6795-16ae-4db3-ba55-517eb25d599a",
   "metadata": {},
   "source": [
    "## Exploratory Data Analysis (EDA)"
   ]
  },
  {
   "cell_type": "markdown",
   "id": "d19c3727-bc46-406d-accb-daa2f8673921",
   "metadata": {},
   "source": [
    "**Mengeksplorasi Data Orders**"
   ]
  },
  {
   "cell_type": "markdown",
   "id": "85603480-3903-4705-8eb1-0a4e412ae9d7",
   "metadata": {},
   "source": [
    "1. Distribusi Status Pemesanan"
   ]
  },
  {
   "cell_type": "code",
   "execution_count": 32,
   "id": "d0cfcbb9-417f-4330-bc71-190974de47d6",
   "metadata": {},
   "outputs": [
    {
     "data": {
      "text/plain": [
       "order_status\n",
       "delivered      96478\n",
       "shipped         1107\n",
       "canceled         625\n",
       "unavailable      609\n",
       "invoiced         314\n",
       "processing       301\n",
       "created            5\n",
       "approved           2\n",
       "Name: count, dtype: int64"
      ]
     },
     "execution_count": 32,
     "metadata": {},
     "output_type": "execute_result"
    }
   ],
   "source": [
    "orders['order_status'].value_counts()"
   ]
  },
  {
   "cell_type": "markdown",
   "id": "6a8e1799-704c-46dd-9e4b-7026d699f9c8",
   "metadata": {},
   "source": [
    "**Insight**\n",
    "- Tingkat Keberhasilan Pengiriman yang Tinggi\n",
    "\n",
    "Sebagian besar pesanan (96,478 atau sekitar 97%) telah berhasil dikirimkan dengan status \"delivered\". Ini menunjukkan bahwa sistem pengiriman dan pemenuhan pesanan memiliki kinerja yang baik, dengan tingkat keberhasilan pengiriman yang sangat tinggi.\n",
    "\n",
    "- Tingkat Pembatalan Rendah\n",
    "\n",
    "Jumlah pesanan yang dibatalkan (625 atau sekitar 0,6%) relatif kecil dibandingkan dengan total pesanan yang dikirimkan. Ini menunjukkan bahwa pelanggan umumnya puas dengan produk dan layanan, sehingga tingkat pembatalannya rendah.\n",
    "\n",
    "- Produk Tidak Tersedia\n",
    "   \n",
    "Ada 609 pesanan yang berstatus \"unavailable\", menunjukkan bahwa beberapa pelanggan memesan produk yang stoknya mungkin habis atau tidak tersedia. Ini bisa menjadi area untuk evaluasi stok atau koordinasi yang lebih baik dengan pemasok untuk mengurangi kejadian ini."
   ]
  },
  {
   "cell_type": "markdown",
   "id": "43b8003c-322c-4746-881c-75aa5aa573fc",
   "metadata": {},
   "source": [
    "2. Waktu Pengiriman"
   ]
  },
  {
   "cell_type": "code",
   "execution_count": 33,
   "id": "26f4068f-50b6-4a2e-8b24-b476c6078e3d",
   "metadata": {},
   "outputs": [
    {
     "data": {
      "text/html": [
       "<div>\n",
       "<style scoped>\n",
       "    .dataframe tbody tr th:only-of-type {\n",
       "        vertical-align: middle;\n",
       "    }\n",
       "\n",
       "    .dataframe tbody tr th {\n",
       "        vertical-align: top;\n",
       "    }\n",
       "\n",
       "    .dataframe thead th {\n",
       "        text-align: right;\n",
       "    }\n",
       "</style>\n",
       "<table border=\"1\" class=\"dataframe\">\n",
       "  <thead>\n",
       "    <tr style=\"text-align: right;\">\n",
       "      <th></th>\n",
       "      <th>order_purchase_timestamp</th>\n",
       "      <th>order_delivered_customer_date</th>\n",
       "      <th>order_estimated_delivery_date</th>\n",
       "    </tr>\n",
       "  </thead>\n",
       "  <tbody>\n",
       "    <tr>\n",
       "      <th>count</th>\n",
       "      <td>99441</td>\n",
       "      <td>96476</td>\n",
       "      <td>99441</td>\n",
       "    </tr>\n",
       "    <tr>\n",
       "      <th>mean</th>\n",
       "      <td>2017-12-31 08:43:12.776581120</td>\n",
       "      <td>2018-01-14 12:09:19.035542272</td>\n",
       "      <td>2018-01-24 03:08:37.730111232</td>\n",
       "    </tr>\n",
       "    <tr>\n",
       "      <th>min</th>\n",
       "      <td>2016-09-04 21:15:19</td>\n",
       "      <td>2016-10-11 13:46:32</td>\n",
       "      <td>2016-09-30 00:00:00</td>\n",
       "    </tr>\n",
       "    <tr>\n",
       "      <th>25%</th>\n",
       "      <td>2017-09-12 14:46:19</td>\n",
       "      <td>2017-09-25 22:07:22.249999872</td>\n",
       "      <td>2017-10-03 00:00:00</td>\n",
       "    </tr>\n",
       "    <tr>\n",
       "      <th>50%</th>\n",
       "      <td>2018-01-18 23:04:36</td>\n",
       "      <td>2018-02-02 19:28:10.500000</td>\n",
       "      <td>2018-02-15 00:00:00</td>\n",
       "    </tr>\n",
       "    <tr>\n",
       "      <th>75%</th>\n",
       "      <td>2018-05-04 15:42:16</td>\n",
       "      <td>2018-05-15 22:48:52.249999872</td>\n",
       "      <td>2018-05-25 00:00:00</td>\n",
       "    </tr>\n",
       "    <tr>\n",
       "      <th>max</th>\n",
       "      <td>2018-10-17 17:30:18</td>\n",
       "      <td>2018-10-17 13:22:46</td>\n",
       "      <td>2018-11-12 00:00:00</td>\n",
       "    </tr>\n",
       "  </tbody>\n",
       "</table>\n",
       "</div>"
      ],
      "text/plain": [
       "            order_purchase_timestamp  order_delivered_customer_date  \\\n",
       "count                          99441                          96476   \n",
       "mean   2017-12-31 08:43:12.776581120  2018-01-14 12:09:19.035542272   \n",
       "min              2016-09-04 21:15:19            2016-10-11 13:46:32   \n",
       "25%              2017-09-12 14:46:19  2017-09-25 22:07:22.249999872   \n",
       "50%              2018-01-18 23:04:36     2018-02-02 19:28:10.500000   \n",
       "75%              2018-05-04 15:42:16  2018-05-15 22:48:52.249999872   \n",
       "max              2018-10-17 17:30:18            2018-10-17 13:22:46   \n",
       "\n",
       "       order_estimated_delivery_date  \n",
       "count                          99441  \n",
       "mean   2018-01-24 03:08:37.730111232  \n",
       "min              2016-09-30 00:00:00  \n",
       "25%              2017-10-03 00:00:00  \n",
       "50%              2018-02-15 00:00:00  \n",
       "75%              2018-05-25 00:00:00  \n",
       "max              2018-11-12 00:00:00  "
      ]
     },
     "execution_count": 33,
     "metadata": {},
     "output_type": "execute_result"
    }
   ],
   "source": [
    "orders[['order_purchase_timestamp', 'order_delivered_customer_date', 'order_estimated_delivery_date']].describe()"
   ]
  },
  {
   "cell_type": "markdown",
   "id": "f86fa325-68b2-4257-bbae-b04545625469",
   "metadata": {},
   "source": [
    "**Insight:**\n",
    "\n",
    "- Rata-rata Waktu Pengiriman Aktual vs Estimasi\n",
    "\n",
    "Rata-rata waktu pengiriman aktual (2018-01-14) lebih cepat dari estimasi pengiriman (2018-01-24), menunjukkan bahwa pengiriman sering kali tiba lebih cepat dari perkiraan. Hal ini sangat bagus yang akan berdampak pada peningkatan kepuasan pelanggan karena pesanan tiba lebih cepat dari yang diharapkan.\n",
    "\n",
    "- Perbandingan Waktu Pengiriman Rata-rata dan Median\n",
    "  \n",
    "Median waktu pengiriman aktual (2018-02-02) dan estimasi (2018-02-15) menunjukkan bahwa separuh pesanan diterima pelanggan dalam waktu dua minggu setelah pemesanan, lebih cepat dari perkiraan. Ini menunjukkan keandalan dalam kecepatan pengiriman yang konsisten di lebih dari setengah pesanan.\n",
    "\n",
    "- Tren Musiman dalam Pembelian dan Pengiriman\n",
    "\n",
    "Kuartil menunjukkan bahwa banyak pesanan dilakukan di awal tahun dan pertengahan tahun (25% berada di sekitar bulan September dan 75% di sekitar bulan Mei). Hal ini dapat memberikan informasi mengenai tren musiman dalam pembelian, yang bisa bermanfaat dalam mengelola stok dan tenaga kerja pada waktu-waktu puncak."
   ]
  },
  {
   "cell_type": "markdown",
   "id": "40408e43-a11e-491a-af91-1fb103bf952a",
   "metadata": {},
   "source": [
    "3. Keterlambatan Pengiriman"
   ]
  },
  {
   "cell_type": "code",
   "execution_count": 34,
   "id": "7b38f764-5cee-4ffa-897d-cbb3cb223e80",
   "metadata": {},
   "outputs": [
    {
     "data": {
      "text/html": [
       "<div>\n",
       "<style scoped>\n",
       "    .dataframe tbody tr th:only-of-type {\n",
       "        vertical-align: middle;\n",
       "    }\n",
       "\n",
       "    .dataframe tbody tr th {\n",
       "        vertical-align: top;\n",
       "    }\n",
       "\n",
       "    .dataframe thead th {\n",
       "        text-align: right;\n",
       "    }\n",
       "</style>\n",
       "<table border=\"1\" class=\"dataframe\">\n",
       "  <thead>\n",
       "    <tr style=\"text-align: right;\">\n",
       "      <th></th>\n",
       "      <th>order_id</th>\n",
       "      <th>customer_id</th>\n",
       "      <th>order_status</th>\n",
       "      <th>order_purchase_timestamp</th>\n",
       "      <th>order_approved_at</th>\n",
       "      <th>order_delivered_carrier_date</th>\n",
       "      <th>order_delivered_customer_date</th>\n",
       "      <th>order_estimated_delivery_date</th>\n",
       "      <th>delivery_delay</th>\n",
       "    </tr>\n",
       "  </thead>\n",
       "  <tbody>\n",
       "    <tr>\n",
       "      <th>0</th>\n",
       "      <td>e481f51cbdc54678b7cc49136f2d6af7</td>\n",
       "      <td>9ef432eb6251297304e76186b10a928d</td>\n",
       "      <td>delivered</td>\n",
       "      <td>2017-10-02 10:56:33</td>\n",
       "      <td>2017-10-02 11:07:15</td>\n",
       "      <td>2017-10-04 19:55:00</td>\n",
       "      <td>2017-10-10 21:25:13</td>\n",
       "      <td>2017-10-18</td>\n",
       "      <td>-8.0</td>\n",
       "    </tr>\n",
       "    <tr>\n",
       "      <th>1</th>\n",
       "      <td>53cdb2fc8bc7dce0b6741e2150273451</td>\n",
       "      <td>b0830fb4747a6c6d20dea0b8c802d7ef</td>\n",
       "      <td>delivered</td>\n",
       "      <td>2018-07-24 20:41:37</td>\n",
       "      <td>2018-07-26 03:24:27</td>\n",
       "      <td>2018-07-26 14:31:00</td>\n",
       "      <td>2018-08-07 15:27:45</td>\n",
       "      <td>2018-08-13</td>\n",
       "      <td>-6.0</td>\n",
       "    </tr>\n",
       "    <tr>\n",
       "      <th>2</th>\n",
       "      <td>47770eb9100c2d0c44946d9cf07ec65d</td>\n",
       "      <td>41ce2a54c0b03bf3443c3d931a367089</td>\n",
       "      <td>delivered</td>\n",
       "      <td>2018-08-08 08:38:49</td>\n",
       "      <td>2018-08-08 08:55:23</td>\n",
       "      <td>2018-08-08 13:50:00</td>\n",
       "      <td>2018-08-17 18:06:29</td>\n",
       "      <td>2018-09-04</td>\n",
       "      <td>-18.0</td>\n",
       "    </tr>\n",
       "    <tr>\n",
       "      <th>3</th>\n",
       "      <td>949d5b44dbf5de918fe9c16f97b45f8a</td>\n",
       "      <td>f88197465ea7920adcdbec7375364d82</td>\n",
       "      <td>delivered</td>\n",
       "      <td>2017-11-18 19:28:06</td>\n",
       "      <td>2017-11-18 19:45:59</td>\n",
       "      <td>2017-11-22 13:39:59</td>\n",
       "      <td>2017-12-02 00:28:42</td>\n",
       "      <td>2017-12-15</td>\n",
       "      <td>-13.0</td>\n",
       "    </tr>\n",
       "    <tr>\n",
       "      <th>4</th>\n",
       "      <td>ad21c59c0840e6cb83a9ceb5573f8159</td>\n",
       "      <td>8ab97904e6daea8866dbdbc4fb7aad2c</td>\n",
       "      <td>delivered</td>\n",
       "      <td>2018-02-13 21:18:39</td>\n",
       "      <td>2018-02-13 22:20:29</td>\n",
       "      <td>2018-02-14 19:46:34</td>\n",
       "      <td>2018-02-16 18:17:02</td>\n",
       "      <td>2018-02-26</td>\n",
       "      <td>-10.0</td>\n",
       "    </tr>\n",
       "  </tbody>\n",
       "</table>\n",
       "</div>"
      ],
      "text/plain": [
       "                           order_id                       customer_id  \\\n",
       "0  e481f51cbdc54678b7cc49136f2d6af7  9ef432eb6251297304e76186b10a928d   \n",
       "1  53cdb2fc8bc7dce0b6741e2150273451  b0830fb4747a6c6d20dea0b8c802d7ef   \n",
       "2  47770eb9100c2d0c44946d9cf07ec65d  41ce2a54c0b03bf3443c3d931a367089   \n",
       "3  949d5b44dbf5de918fe9c16f97b45f8a  f88197465ea7920adcdbec7375364d82   \n",
       "4  ad21c59c0840e6cb83a9ceb5573f8159  8ab97904e6daea8866dbdbc4fb7aad2c   \n",
       "\n",
       "  order_status order_purchase_timestamp   order_approved_at  \\\n",
       "0    delivered      2017-10-02 10:56:33 2017-10-02 11:07:15   \n",
       "1    delivered      2018-07-24 20:41:37 2018-07-26 03:24:27   \n",
       "2    delivered      2018-08-08 08:38:49 2018-08-08 08:55:23   \n",
       "3    delivered      2017-11-18 19:28:06 2017-11-18 19:45:59   \n",
       "4    delivered      2018-02-13 21:18:39 2018-02-13 22:20:29   \n",
       "\n",
       "  order_delivered_carrier_date order_delivered_customer_date  \\\n",
       "0          2017-10-04 19:55:00           2017-10-10 21:25:13   \n",
       "1          2018-07-26 14:31:00           2018-08-07 15:27:45   \n",
       "2          2018-08-08 13:50:00           2018-08-17 18:06:29   \n",
       "3          2017-11-22 13:39:59           2017-12-02 00:28:42   \n",
       "4          2018-02-14 19:46:34           2018-02-16 18:17:02   \n",
       "\n",
       "  order_estimated_delivery_date  delivery_delay  \n",
       "0                    2017-10-18            -8.0  \n",
       "1                    2018-08-13            -6.0  \n",
       "2                    2018-09-04           -18.0  \n",
       "3                    2017-12-15           -13.0  \n",
       "4                    2018-02-26           -10.0  "
      ]
     },
     "execution_count": 34,
     "metadata": {},
     "output_type": "execute_result"
    }
   ],
   "source": [
    "orders['delivery_delay'] = (orders['order_delivered_customer_date'] - orders['order_estimated_delivery_date']).dt.days\n",
    "orders['delivery_delay'].describe()\n",
    "orders.head()"
   ]
  },
  {
   "cell_type": "markdown",
   "id": "4d56b5a8-3c76-44ef-a40e-9928e130eaf7",
   "metadata": {},
   "source": [
    "**Insight:**\n",
    "\n",
    "- Rata-rata Pengiriman Lebih Cepat dari Estimasi\n",
    "\n",
    "Rata-rata delivery_delay adalah -11,88 hari, menunjukkan bahwa sebagian besar pesanan dikirimkan sekitar 12 hari lebih cepat dari estimasi. Ini menandakan kelebihan dalam sistem pengiriman, di mana pengiriman umumnya tiba lebih cepat dari yang dijanjikan.\n",
    "\n",
    "- Sebagian Besar Pengiriman Tiba Lebih Cepat\n",
    "\n",
    "Pada 50% pesanan (median), pengiriman datang 12 hari lebih awal dari estimasi, sementara pada 75% pesanan, pengiriman terjadi 7 hari lebih awal. Hanya pada 25% pesanan yang mengalami penundaan kurang dari 17 hari lebih cepat dari estimasi. Ini menunjukkan bahwa mayoritas pesanan dikirim lebih awal atau tepat waktu.\n",
    "\n",
    "- Rentang Pengiriman Ekstrim\n",
    "\n",
    "Terdapat beberapa outlier dalam data, dengan min delay -147 hari dan max delay 188 hari. Kasus ini menunjukkan ada beberapa pengiriman yang sangat terlambat atau sangat awal dibanding estimasi. Outlier ini mungkin diakibatkan oleh kendala logistik, error dalam estimasi, atau kasus khusus (seperti pre-order atau backorder)."
   ]
  },
  {
   "cell_type": "code",
   "execution_count": 35,
   "id": "2cff33ad-e141-420e-9daf-516932224d02",
   "metadata": {},
   "outputs": [
    {
     "data": {
      "text/html": [
       "<div>\n",
       "<style scoped>\n",
       "    .dataframe tbody tr th:only-of-type {\n",
       "        vertical-align: middle;\n",
       "    }\n",
       "\n",
       "    .dataframe tbody tr th {\n",
       "        vertical-align: top;\n",
       "    }\n",
       "\n",
       "    .dataframe thead th {\n",
       "        text-align: right;\n",
       "    }\n",
       "</style>\n",
       "<table border=\"1\" class=\"dataframe\">\n",
       "  <thead>\n",
       "    <tr style=\"text-align: right;\">\n",
       "      <th></th>\n",
       "      <th>order_id</th>\n",
       "      <th>customer_id</th>\n",
       "      <th>order_status</th>\n",
       "      <th>order_purchase_timestamp</th>\n",
       "      <th>order_approved_at</th>\n",
       "      <th>order_delivered_carrier_date</th>\n",
       "      <th>order_delivered_customer_date</th>\n",
       "      <th>order_estimated_delivery_date</th>\n",
       "      <th>delivery_delay</th>\n",
       "      <th>year_month</th>\n",
       "    </tr>\n",
       "  </thead>\n",
       "  <tbody>\n",
       "    <tr>\n",
       "      <th>0</th>\n",
       "      <td>e481f51cbdc54678b7cc49136f2d6af7</td>\n",
       "      <td>9ef432eb6251297304e76186b10a928d</td>\n",
       "      <td>delivered</td>\n",
       "      <td>2017-10-02 10:56:33</td>\n",
       "      <td>2017-10-02 11:07:15</td>\n",
       "      <td>2017-10-04 19:55:00</td>\n",
       "      <td>2017-10-10 21:25:13</td>\n",
       "      <td>2017-10-18</td>\n",
       "      <td>-8.0</td>\n",
       "      <td>2017-10</td>\n",
       "    </tr>\n",
       "    <tr>\n",
       "      <th>1</th>\n",
       "      <td>53cdb2fc8bc7dce0b6741e2150273451</td>\n",
       "      <td>b0830fb4747a6c6d20dea0b8c802d7ef</td>\n",
       "      <td>delivered</td>\n",
       "      <td>2018-07-24 20:41:37</td>\n",
       "      <td>2018-07-26 03:24:27</td>\n",
       "      <td>2018-07-26 14:31:00</td>\n",
       "      <td>2018-08-07 15:27:45</td>\n",
       "      <td>2018-08-13</td>\n",
       "      <td>-6.0</td>\n",
       "      <td>2018-07</td>\n",
       "    </tr>\n",
       "    <tr>\n",
       "      <th>2</th>\n",
       "      <td>47770eb9100c2d0c44946d9cf07ec65d</td>\n",
       "      <td>41ce2a54c0b03bf3443c3d931a367089</td>\n",
       "      <td>delivered</td>\n",
       "      <td>2018-08-08 08:38:49</td>\n",
       "      <td>2018-08-08 08:55:23</td>\n",
       "      <td>2018-08-08 13:50:00</td>\n",
       "      <td>2018-08-17 18:06:29</td>\n",
       "      <td>2018-09-04</td>\n",
       "      <td>-18.0</td>\n",
       "      <td>2018-08</td>\n",
       "    </tr>\n",
       "    <tr>\n",
       "      <th>3</th>\n",
       "      <td>949d5b44dbf5de918fe9c16f97b45f8a</td>\n",
       "      <td>f88197465ea7920adcdbec7375364d82</td>\n",
       "      <td>delivered</td>\n",
       "      <td>2017-11-18 19:28:06</td>\n",
       "      <td>2017-11-18 19:45:59</td>\n",
       "      <td>2017-11-22 13:39:59</td>\n",
       "      <td>2017-12-02 00:28:42</td>\n",
       "      <td>2017-12-15</td>\n",
       "      <td>-13.0</td>\n",
       "      <td>2017-11</td>\n",
       "    </tr>\n",
       "    <tr>\n",
       "      <th>4</th>\n",
       "      <td>ad21c59c0840e6cb83a9ceb5573f8159</td>\n",
       "      <td>8ab97904e6daea8866dbdbc4fb7aad2c</td>\n",
       "      <td>delivered</td>\n",
       "      <td>2018-02-13 21:18:39</td>\n",
       "      <td>2018-02-13 22:20:29</td>\n",
       "      <td>2018-02-14 19:46:34</td>\n",
       "      <td>2018-02-16 18:17:02</td>\n",
       "      <td>2018-02-26</td>\n",
       "      <td>-10.0</td>\n",
       "      <td>2018-02</td>\n",
       "    </tr>\n",
       "  </tbody>\n",
       "</table>\n",
       "</div>"
      ],
      "text/plain": [
       "                           order_id                       customer_id  \\\n",
       "0  e481f51cbdc54678b7cc49136f2d6af7  9ef432eb6251297304e76186b10a928d   \n",
       "1  53cdb2fc8bc7dce0b6741e2150273451  b0830fb4747a6c6d20dea0b8c802d7ef   \n",
       "2  47770eb9100c2d0c44946d9cf07ec65d  41ce2a54c0b03bf3443c3d931a367089   \n",
       "3  949d5b44dbf5de918fe9c16f97b45f8a  f88197465ea7920adcdbec7375364d82   \n",
       "4  ad21c59c0840e6cb83a9ceb5573f8159  8ab97904e6daea8866dbdbc4fb7aad2c   \n",
       "\n",
       "  order_status order_purchase_timestamp   order_approved_at  \\\n",
       "0    delivered      2017-10-02 10:56:33 2017-10-02 11:07:15   \n",
       "1    delivered      2018-07-24 20:41:37 2018-07-26 03:24:27   \n",
       "2    delivered      2018-08-08 08:38:49 2018-08-08 08:55:23   \n",
       "3    delivered      2017-11-18 19:28:06 2017-11-18 19:45:59   \n",
       "4    delivered      2018-02-13 21:18:39 2018-02-13 22:20:29   \n",
       "\n",
       "  order_delivered_carrier_date order_delivered_customer_date  \\\n",
       "0          2017-10-04 19:55:00           2017-10-10 21:25:13   \n",
       "1          2018-07-26 14:31:00           2018-08-07 15:27:45   \n",
       "2          2018-08-08 13:50:00           2018-08-17 18:06:29   \n",
       "3          2017-11-22 13:39:59           2017-12-02 00:28:42   \n",
       "4          2018-02-14 19:46:34           2018-02-16 18:17:02   \n",
       "\n",
       "  order_estimated_delivery_date  delivery_delay year_month  \n",
       "0                    2017-10-18            -8.0    2017-10  \n",
       "1                    2018-08-13            -6.0    2018-07  \n",
       "2                    2018-09-04           -18.0    2018-08  \n",
       "3                    2017-12-15           -13.0    2017-11  \n",
       "4                    2018-02-26           -10.0    2018-02  "
      ]
     },
     "execution_count": 35,
     "metadata": {},
     "output_type": "execute_result"
    }
   ],
   "source": [
    "# Menambahkan kolom tahun-bulan untuk agregasi bulanan\n",
    "orders['year_month'] = orders['order_purchase_timestamp'].dt.to_period('M')\n",
    "orders.head()"
   ]
  },
  {
   "cell_type": "markdown",
   "id": "c64f8142-4236-4e2d-b087-340183ac86f1",
   "metadata": {},
   "source": [
    "**Eskplorasi Data Order Items**"
   ]
  },
  {
   "cell_type": "markdown",
   "id": "d7e8a57c-58ee-4439-b20d-f12e4d1d51bc",
   "metadata": {},
   "source": [
    "1. Harga dan Biaya Pengiriman"
   ]
  },
  {
   "cell_type": "code",
   "execution_count": 36,
   "id": "f96edd47-0591-4c66-8205-0fb90dc244d2",
   "metadata": {},
   "outputs": [
    {
     "data": {
      "text/html": [
       "<div>\n",
       "<style scoped>\n",
       "    .dataframe tbody tr th:only-of-type {\n",
       "        vertical-align: middle;\n",
       "    }\n",
       "\n",
       "    .dataframe tbody tr th {\n",
       "        vertical-align: top;\n",
       "    }\n",
       "\n",
       "    .dataframe thead th {\n",
       "        text-align: right;\n",
       "    }\n",
       "</style>\n",
       "<table border=\"1\" class=\"dataframe\">\n",
       "  <thead>\n",
       "    <tr style=\"text-align: right;\">\n",
       "      <th></th>\n",
       "      <th>price</th>\n",
       "      <th>freight_value</th>\n",
       "    </tr>\n",
       "  </thead>\n",
       "  <tbody>\n",
       "    <tr>\n",
       "      <th>count</th>\n",
       "      <td>112650.000000</td>\n",
       "      <td>112650.000000</td>\n",
       "    </tr>\n",
       "    <tr>\n",
       "      <th>mean</th>\n",
       "      <td>120.653739</td>\n",
       "      <td>19.990320</td>\n",
       "    </tr>\n",
       "    <tr>\n",
       "      <th>std</th>\n",
       "      <td>183.633928</td>\n",
       "      <td>15.806405</td>\n",
       "    </tr>\n",
       "    <tr>\n",
       "      <th>min</th>\n",
       "      <td>0.850000</td>\n",
       "      <td>0.000000</td>\n",
       "    </tr>\n",
       "    <tr>\n",
       "      <th>25%</th>\n",
       "      <td>39.900000</td>\n",
       "      <td>13.080000</td>\n",
       "    </tr>\n",
       "    <tr>\n",
       "      <th>50%</th>\n",
       "      <td>74.990000</td>\n",
       "      <td>16.260000</td>\n",
       "    </tr>\n",
       "    <tr>\n",
       "      <th>75%</th>\n",
       "      <td>134.900000</td>\n",
       "      <td>21.150000</td>\n",
       "    </tr>\n",
       "    <tr>\n",
       "      <th>max</th>\n",
       "      <td>6735.000000</td>\n",
       "      <td>409.680000</td>\n",
       "    </tr>\n",
       "  </tbody>\n",
       "</table>\n",
       "</div>"
      ],
      "text/plain": [
       "               price  freight_value\n",
       "count  112650.000000  112650.000000\n",
       "mean      120.653739      19.990320\n",
       "std       183.633928      15.806405\n",
       "min         0.850000       0.000000\n",
       "25%        39.900000      13.080000\n",
       "50%        74.990000      16.260000\n",
       "75%       134.900000      21.150000\n",
       "max      6735.000000     409.680000"
      ]
     },
     "execution_count": 36,
     "metadata": {},
     "output_type": "execute_result"
    }
   ],
   "source": [
    "order_items[['price', 'freight_value']].describe()\n"
   ]
  },
  {
   "cell_type": "markdown",
   "id": "615328b0-360e-4cac-914b-fa5bf2367229",
   "metadata": {},
   "source": [
    "**Insight:**\n",
    "\n",
    "- Rata-rata Harga Produk dan Biaya Pengiriman\n",
    "\n",
    "Rata-rata harga produk adalah sekitar 120,65, sedangkan rata-rata biaya pengiriman adalah sekitar 19,99. Hal ini menunjukkan bahwa biaya pengiriman sekitar 16,5% dari harga rata-rata produk. Rasio ini bisa menjadi patokan untuk menentukan apakah biaya pengiriman cukup seimbang dengan harga produk.\n",
    "\n",
    "- Variasi Harga Produk\n",
    "\n",
    "Harga produk memiliki standar deviasi yang tinggi (183,63), dengan harga minimum 0,85 dan maksimum 6735. Rentang harga ini menunjukkan bahwa terdapat variasi yang signifikan, dengan beberapa produk bernilai sangat tinggi yang bisa memengaruhi rata-rata.\n",
    "\n",
    "- Biaya Pengiriman Relatif Rendah dan Stabil\n",
    "\n",
    "Sebagian besar biaya pengiriman berkisar antara 13,08 (kuartil pertama) dan 21,15 (kuartil ketiga), dengan standar deviasi 15,81 yang lebih rendah dibandingkan harga produk. Ini menunjukkan bahwa biaya pengiriman relatif stabil meskipun terdapat beberapa outlier (biaya pengiriman maksimum 409,68), yang mungkin disebabkan oleh faktor seperti lokasi yang jauh atau ukuran produk yang besar.\n",
    "\n",
    "- Peluang Penentuan Harga yang Beragam\n",
    "\n",
    "Dengan harga median produk sebesar 74,99 dan biaya pengiriman median 16,26, mayoritas produk yang dijual cenderung berada pada rentang harga terjangkau, sementara hanya sebagian kecil yang memiliki harga tinggi (di atas kuartil ketiga, 134,90). Untuk meningkatkan penjualan, perusahaan bisa menawarkan produk di rentang harga yang lebih terjangkau atau mempromosikan produk dengan harga di bawah median untuk pasar yang lebih sensitif terhadap harga.\n",
    "\n",
    "- Produk dengan Biaya Pengiriman Tinggi\n",
    "  \n",
    "Adanya biaya pengiriman maksimum 409,68 mengindikasikan beberapa produk tertentu mungkin memiliki karakteristik khusus (misalnya, ukuran atau berat yang besar) yang menyebabkan biaya kirim tinggi. Analisis lebih lanjut bisa dilakukan untuk melihat apakah produk-produk ini mengalami permintaan rendah dan apakah ada cara untuk mengurangi biaya pengiriman atau subsidi biaya untuk menarik lebih banyak pembeli."
   ]
  },
  {
   "cell_type": "markdown",
   "id": "976a4fe6-4a27-481a-ae04-2fb2fd9aee6b",
   "metadata": {},
   "source": [
    "2. Distribusi Jumlah Item per Order"
   ]
  },
  {
   "cell_type": "code",
   "execution_count": 37,
   "id": "07d3287d-b7c5-403f-8d2b-41ebdd561028",
   "metadata": {},
   "outputs": [
    {
     "data": {
      "text/plain": [
       "count       21.000000\n",
       "mean      5364.285714\n",
       "std      21486.317763\n",
       "min          1.000000\n",
       "25%          3.000000\n",
       "50%         17.000000\n",
       "75%        256.000000\n",
       "max      98666.000000\n",
       "Name: count, dtype: float64"
      ]
     },
     "execution_count": 37,
     "metadata": {},
     "output_type": "execute_result"
    }
   ],
   "source": [
    "order_items['order_item_id'].value_counts().describe()\n"
   ]
  },
  {
   "cell_type": "markdown",
   "id": "6a305856-9a47-4365-91d1-0f843e985d2a",
   "metadata": {},
   "source": [
    "**Insight:**\n",
    "\n",
    "- Jumlah Item per Order yang Sangat Bervariasi\n",
    "  \n",
    "Rata-rata jumlah item per order adalah 5,364. Ini menunjukkan adanya variasi yang sangat besar dalam jumlah item yang dipesan per order, dengan beberapa pesanan berisi jumlah item yang sangat besar. Standar deviasi yang tinggi (21,486) mencerminkan variabili-tas yang besar ini.\n",
    "\n",
    "- Outlier dengan Banyak Item\n",
    "\n",
    "Nilai maksimum jumlah item dalam satu order adalah 98,666, yang merupakan outlier yang sangat besar. Ini menunjukkan bahwa ada beberapa order yang berisi ribuan atau bahkan puluhan ribu item. Order dengan jumlah item sangat besar ini bisa berasal dari pembelian grosir atau pembelian dalam jumlah besar.\n",
    "\n",
    "- Mayoritas Order dengan Jumlah Item yang Relatif Kecil\n",
    "\n",
    "Kuartil pertama (3 item) dan kuartil ketiga (256 item) menunjukkan bahwa sebagian besar pesanan berisi antara 3 dan 256 item. Ini menunjukkan bahwa mayoritas pesanan adalah dalam jumlah item yang moderat, dengan sebagian kecil yang membeli dalam jumlah besar.\n",
    "\n",
    "- Distribusi yang Cenderung Positif\n",
    "\n",
    "Karena rata-rata jumlah item per order lebih tinggi daripada median (17), distribusi data cenderung memiliki ekor panjang ke kanan, di mana sebagian kecil order memiliki jumlah item yang sangat banyak.\n",
    "\n",
    "- Potensi untuk Pembelian Grosir atau Korporat\n",
    "\n",
    "Mengingat adanya pesanan dengan jumlah item yang sangat besar (maksimum 98,666 item), ini dapat mengindikasikan adanya pembelian grosir atau pembelian untuk keperluan bisnis. Perusahaan bisa mengeksplorasi lebih lanjut untuk menawarkan diskon atau program loyalitas khusus untuk pelanggan yang membeli dalam jumlah besar."
   ]
  },
  {
   "cell_type": "markdown",
   "id": "57f1b2c6-aff4-4b5f-97d2-b5fc69d8971a",
   "metadata": {},
   "source": [
    "**Eksplorasi Data Order Payments**"
   ]
  },
  {
   "cell_type": "markdown",
   "id": "f52a62c8-72cb-4123-8d03-bea2b8dbf8b3",
   "metadata": {},
   "source": [
    "1. Distribusi Metode Pembayaran"
   ]
  },
  {
   "cell_type": "code",
   "execution_count": 38,
   "id": "93cbefbe-de2a-4cd9-9f11-21f5e5c7868a",
   "metadata": {},
   "outputs": [
    {
     "data": {
      "text/plain": [
       "payment_type\n",
       "credit_card    76795\n",
       "boleto         19784\n",
       "voucher         5775\n",
       "debit_card      1529\n",
       "not_defined        3\n",
       "Name: count, dtype: int64"
      ]
     },
     "execution_count": 38,
     "metadata": {},
     "output_type": "execute_result"
    }
   ],
   "source": [
    "order_payments['payment_type'].value_counts()"
   ]
  },
  {
   "cell_type": "markdown",
   "id": "4178d0e1-0f3e-4b96-b471-03e17936aa57",
   "metadata": {},
   "source": [
    "**Insight:**\n",
    "\n",
    "- Metode Pembayaran Paling Populer: Kartu Kredit\n",
    "\n",
    "Metode pembayaran yang paling banyak digunakan adalah kartu kredit, dengan 76.795 transaksi (sekitar 70,5% dari total transaksi). Ini menunjukkan bahwa sebagian besar pelanggan lebih memilih menggunakan kartu kredit untuk berbelanja, yang mungkin disebabkan oleh kenyamanan, kecepatan, dan fleksibilitas yang ditawarkan oleh metode pembayaran ini.\n",
    "\n",
    "- Boleto sebagai Pilihan Pembayaran Kedua Terpopuler\n",
    "  \n",
    "Metode pembayaran kedua yang paling banyak digunakan adalah boleto (sekitar 17.5% dari total transaksi), dengan 19.784 transaksi. Boleto adalah metode pembayaran yang populer di Brasil dan biasanya digunakan oleh pelanggan yang tidak memiliki akses ke kartu kredit atau lebih memilih pembayaran tunai melalui tiket bank.\n",
    "\n",
    "- Voucher dan Kartu Debit Mengikuti di Belakang\n",
    "  \n",
    "Voucher dan kartu debit masing-masing menyumbang 5.775 dan 1.529 transaksi. Meskipun ini merupakan metode pembayaran yang lebih sedikit digunakan, mereka tetap menjadi pilihan yang relevan bagi beberapa pelanggan, terutama mereka yang ingin menggunakan saldo yang telah dibayar sebelumnya (voucher) atau menghindari utang (debit).\n",
    "\n",
    "- Kasus Pembayaran yang Tidak Didefinisikan\n",
    "  \n",
    "Ada 3 transaksi dengan status not_defined, yang menunjukkan adanya transaksi di mana metode pembayaran belum tercatat atau terdeteksi dengan jelas. Meskipun jumlahnya sangat kecil, ini bisa menjadi area untuk perbaikan dalam proses pencatatan data transaksi.\n",
    "\n",
    "- Strategi Pemasaran Berdasarkan Preferensi Pembayaran\n",
    "  \n",
    "Mengingat dominasi kartu kredit sebagai metode pembayaran utama, perusahaan dapat menargetkan promosi atau diskon khusus untuk pelanggan yang membayar dengan kartu kredit. Sementara itu, metode pembayaran alternatif seperti boleto dan voucher dapat ditingkatkan dengan menawarkan lebih banyak fleksibilitas untuk pelanggan yang lebih suka menggunakan metode tersebut."
   ]
  },
  {
   "cell_type": "markdown",
   "id": "d841029a-6297-4e4a-93c5-79dacb9d69cb",
   "metadata": {},
   "source": [
    "2. Distribusi Jumlah Pembayaran dan Cicilan"
   ]
  },
  {
   "cell_type": "code",
   "execution_count": 39,
   "id": "efc3e1db-8c63-4519-a9fc-10a4166d53d0",
   "metadata": {},
   "outputs": [
    {
     "data": {
      "text/html": [
       "<div>\n",
       "<style scoped>\n",
       "    .dataframe tbody tr th:only-of-type {\n",
       "        vertical-align: middle;\n",
       "    }\n",
       "\n",
       "    .dataframe tbody tr th {\n",
       "        vertical-align: top;\n",
       "    }\n",
       "\n",
       "    .dataframe thead th {\n",
       "        text-align: right;\n",
       "    }\n",
       "</style>\n",
       "<table border=\"1\" class=\"dataframe\">\n",
       "  <thead>\n",
       "    <tr style=\"text-align: right;\">\n",
       "      <th></th>\n",
       "      <th>payment_value</th>\n",
       "      <th>payment_installments</th>\n",
       "    </tr>\n",
       "  </thead>\n",
       "  <tbody>\n",
       "    <tr>\n",
       "      <th>count</th>\n",
       "      <td>103886.000000</td>\n",
       "      <td>103886.000000</td>\n",
       "    </tr>\n",
       "    <tr>\n",
       "      <th>mean</th>\n",
       "      <td>154.100380</td>\n",
       "      <td>2.853349</td>\n",
       "    </tr>\n",
       "    <tr>\n",
       "      <th>std</th>\n",
       "      <td>217.494064</td>\n",
       "      <td>2.687051</td>\n",
       "    </tr>\n",
       "    <tr>\n",
       "      <th>min</th>\n",
       "      <td>0.000000</td>\n",
       "      <td>0.000000</td>\n",
       "    </tr>\n",
       "    <tr>\n",
       "      <th>25%</th>\n",
       "      <td>56.790000</td>\n",
       "      <td>1.000000</td>\n",
       "    </tr>\n",
       "    <tr>\n",
       "      <th>50%</th>\n",
       "      <td>100.000000</td>\n",
       "      <td>1.000000</td>\n",
       "    </tr>\n",
       "    <tr>\n",
       "      <th>75%</th>\n",
       "      <td>171.837500</td>\n",
       "      <td>4.000000</td>\n",
       "    </tr>\n",
       "    <tr>\n",
       "      <th>max</th>\n",
       "      <td>13664.080000</td>\n",
       "      <td>24.000000</td>\n",
       "    </tr>\n",
       "  </tbody>\n",
       "</table>\n",
       "</div>"
      ],
      "text/plain": [
       "       payment_value  payment_installments\n",
       "count  103886.000000         103886.000000\n",
       "mean      154.100380              2.853349\n",
       "std       217.494064              2.687051\n",
       "min         0.000000              0.000000\n",
       "25%        56.790000              1.000000\n",
       "50%       100.000000              1.000000\n",
       "75%       171.837500              4.000000\n",
       "max     13664.080000             24.000000"
      ]
     },
     "execution_count": 39,
     "metadata": {},
     "output_type": "execute_result"
    }
   ],
   "source": [
    "order_payments[['payment_value', 'payment_installments']].describe()\n"
   ]
  },
  {
   "cell_type": "markdown",
   "id": "b8feef19-409b-4a11-85b8-297f8213e794",
   "metadata": {},
   "source": [
    "**Insight:**\n",
    "\n",
    "1. Distribusi Jumlah Pembayaran (payment_value)\n",
    "   \n",
    "- Rata-rata Pembayaran: Rata-rata nilai pembayaran adalah 154,10, namun dengan standar deviasi yang tinggi (217,49), ini menunjukkan adanya variasi yang cukup besar dalam jumlah pembayaran. Beberapa pembayaran sangat tinggi, yang menyebabkan perbedaan besar antara rata-rata dan pembayaran nominal.\n",
    "  \n",
    "- Rentang Pembayaran: Nilai pembayaran berkisar dari 0 (kemungkinan untuk transaksi yang gagal atau belum terbayar) hingga 13.664,08, yang menunjukkan adanya beberapa transaksi yang sangat besar. Ini mungkin menunjukkan adanya pembelian dalam jumlah besar atau pembelian produk dengan harga sangat tinggi.\n",
    "  \n",
    "2. Distribusi Cicilan Pembayaran (payment_installments)\n",
    "\n",
    "- Rata-rata Cicilan: Rata-rata cicilan pembayaran adalah 2,85 kali, yang menunjukkan bahwa kebanyakan pembeli memilih pembayaran dengan beberapa kali cicilan. Hal ini menunjukkan kecenderungan konsumen untuk membayar dengan cara yang lebih fleksibel daripada membayar sekaligus.\n",
    "  \n",
    "- Jumlah Cicilan Minimum dan Maksimum: Cicilan bervariasi dari 0 (mungkin menunjukkan pembayaran penuh tanpa cicilan) hingga 24 cicilan. Cicilan yang sangat banyak bisa terjadi pada pembelian yang sangat besar, dimana pembeli memilih untuk membayar dalam jangka waktu yang lebih lama.\n",
    "- Kuartil:\n",
    "25% transaksi dilakukan dalam 1 cicilan, yang menunjukkan bahwa sebagian besar konsumen cenderung memilih untuk membayar dalam 1 kali cicilan.\n",
    "50% transaksi (median) juga melakukan pembayaran dalam 1 cicilan.\n",
    "75% transaksi menggunakan 4 cicilan, yang menunjukkan bahwa pembelian dengan cicilan lebih banyak cenderung terjadi pada sebagian kecil konsumen yang membeli dengan nilai lebih tinggi.\n",
    "  \n",
    "3. Peluang untuk Penargetan Promosi Berdasarkan Pembayaran\n",
    "\n",
    "- Pembayaran Tinggi dan Pembelian Besar: Transaksi dengan jumlah pembayaran tinggi (maksimum 13.664,08) menunjukkan adanya pembelian besar. Perusahaan bisa mempertimbangkan untuk memberikan tawaran cicilan lebih banyak atau bunga rendah untuk transaksi besar ini.\n",
    "  \n",
    "- Cicilan sebagai Fitur Menarik: Karena banyak konsumen yang memilih untuk membayar dalam cicilan (rata-rata 2,85 kali), menawarkan lebih banyak opsi cicilan atau kebijakan bunga yang lebih rendah dapat meningkatkan daya tarik bagi pembeli yang lebih memilih pembagian pembayaran.\n",
    "\n",
    "4. Kemungkinan Pembayaran dengan Cicilan Lebih dari 1\n",
    "\n",
    "- Dengan banyak transaksi yang menggunakan lebih dari satu cicilan, bisa jadi ada potensi untuk mempromosikan pembayaran cicilan dengan jumlah lebih besar atau menawarkan diskon atau keuntungan untuk transaksi dengan cicilan lebih banyak.\n",
    "  \n",
    "- Evaluasi Pembayaran Tanpa Cicilan: Terdapat transaksi yang dilakukan dengan pembayaran penuh (non cicilan), yang mungkin menunjukkan bahwa beberapa pelanggan memilih untuk melakukan pembayaran langsung. Penawaran diskon untuk pembayaran penuh bisa menjadi strategi untuk meningkatkan jumlah transaksi dengan pembayaran penuh.\n",
    "\n",
    "5. Peningkatan Pengalaman Pelanggan\n",
    "   \n",
    "- Menyediakan lebih banyak opsi cicilan atau pembagian pembayaran untuk meningkatkan aksesibilitas produk bagi konsumen yang memilih pembayaran bertahap.\n",
    "  \n",
    "- Memperkenalkan promosi yang terkait dengan cicilan (misalnya, tanpa bunga atau bunga rendah untuk cicilan lebih banyak) dapat menarik lebih banyak konsumen yang tertarik dengan fleksibilitas pembayaran."
   ]
  },
  {
   "cell_type": "markdown",
   "id": "9fc818da-f009-4dcf-a910-ed9ff02c8bb8",
   "metadata": {},
   "source": [
    "**Eksplorasi Data Order Reviews**"
   ]
  },
  {
   "cell_type": "markdown",
   "id": "7734068c-d3a0-4ef9-9cab-ded8b2bb55a3",
   "metadata": {},
   "source": [
    "1. Distribusi Skor Ulasan"
   ]
  },
  {
   "cell_type": "code",
   "execution_count": 40,
   "id": "dc802562-8051-46fd-92fb-2426bfd8480a",
   "metadata": {},
   "outputs": [
    {
     "data": {
      "text/plain": [
       "review_score\n",
       "5    57328\n",
       "4    19142\n",
       "1    11424\n",
       "3     8179\n",
       "2     3151\n",
       "Name: count, dtype: int64"
      ]
     },
     "execution_count": 40,
     "metadata": {},
     "output_type": "execute_result"
    }
   ],
   "source": [
    "order_reviews['review_score'].value_counts()"
   ]
  },
  {
   "cell_type": "markdown",
   "id": "d052ceda-a7e9-405f-a6a5-0df484b402a6",
   "metadata": {},
   "source": [
    "**Insight:**\n",
    "\n",
    "- Mayoritas Skor Ulasan Tinggi\n",
    "\n",
    "Sebagian besar pelanggan memberikan ulasan positif dengan skor 5.0 (57.328 ulasan) dan 4.0 (19.142 ulasan). Skor ini menunjukkan bahwa mayoritas pelanggan merasa puas atau sangat puas dengan pengalaman berbelanja mereka, yang merupakan indikasi bahwa layanan dan produk secara umum memenuhi atau melampaui ekspektasi pelanggan.\n",
    "\n",
    "- Skor Ulasan Rendah yang Signifikan\n",
    "\n",
    "Terdapat 11.424 ulasan dengan skor 1.0, yang menandakan adanya sejumlah besar pelanggan yang merasa tidak puas. Ulasan ini bisa berasal dari masalah dalam pengiriman, kualitas produk, atau pengalaman layanan pelanggan yang kurang memuaskan. Identifikasi penyebab utama dari ulasan rendah ini bisa menjadi kunci untuk meningkatkan kepuasan pelanggan di masa mendatang.\n",
    "\n",
    "- Distribusi Skor Sedang (2 dan 3)\n",
    "\n",
    "Sebagian kecil ulasan memiliki skor 2.0 (3.151 ulasan) dan 3.0 (8.179 ulasan). Pelanggan ini mungkin merasa bahwa pengalaman mereka cukup baik tetapi tidak sepenuhnya memuaskan. Analisis lebih lanjut terhadap ulasan dengan skor sedang ini dapat mengidentifikasi aspek yang bisa ditingkatkan untuk menaikkan skor dari “cukup puas” menjadi “sangat puas.”\n",
    "\n",
    "- Proporsi Skor Positif vs. Negatif\n",
    "\n",
    "Dengan skor 4.0 dan 5.0 sebagai ulasan positif dan skor 1.0 dan 2.0 sebagai ulasan negatif, jumlah ulasan positif secara keseluruhan (76.470) jauh lebih tinggi daripada ulasan negatif (14.575). Ini menunjukkan bahwa persepsi pelanggan terhadap pengalaman berbelanja secara keseluruhan adalah positif, namun ada peluang untuk mengurangi jumlah ulasan negatif lebih lanjut.\n",
    "\n",
    "- Peluang Peningkatan Berdasarkan Ulasan Negatif\n",
    "\n",
    "Mengingat jumlah ulasan dengan skor rendah, perusahaan dapat mempertimbangkan beberapa langkah untuk meningkatkan kepuasan pelanggan, seperti:\n",
    "\n",
    "**Peningkatan Proses Pengiriman:** Jika banyak ulasan rendah disebabkan oleh keterlambatan atau kerusakan selama pengiriman, peningkatan logistik bisa membantu.\n",
    "\n",
    "**Peningkatan Kualitas Produk dan Layanan Pelanggan:** Ulasan rendah dapat mencerminkan masalah kualitas produk atau interaksi layanan pelanggan yang kurang memuaskan. Melakukan evaluasi terhadap produk dan pelatihan layanan pelanggan dapat membantu meningkatkan kualitas secara keseluruhan."
   ]
  },
  {
   "cell_type": "markdown",
   "id": "eeb2925f-8529-4578-96a3-af68fcfdb2a5",
   "metadata": {},
   "source": [
    "**Eksplorasi Data Produk**"
   ]
  },
  {
   "cell_type": "markdown",
   "id": "811d08a4-856b-4b6f-8524-deb19f10b248",
   "metadata": {},
   "source": [
    "1. Rangkuman Statistik Produk"
   ]
  },
  {
   "cell_type": "code",
   "execution_count": 41,
   "id": "8ee48606-de9f-46bf-831b-341f99de3eb5",
   "metadata": {},
   "outputs": [
    {
     "data": {
      "text/html": [
       "<div>\n",
       "<style scoped>\n",
       "    .dataframe tbody tr th:only-of-type {\n",
       "        vertical-align: middle;\n",
       "    }\n",
       "\n",
       "    .dataframe tbody tr th {\n",
       "        vertical-align: top;\n",
       "    }\n",
       "\n",
       "    .dataframe thead th {\n",
       "        text-align: right;\n",
       "    }\n",
       "</style>\n",
       "<table border=\"1\" class=\"dataframe\">\n",
       "  <thead>\n",
       "    <tr style=\"text-align: right;\">\n",
       "      <th></th>\n",
       "      <th>product_id</th>\n",
       "      <th>product_category_name</th>\n",
       "      <th>product_name_lenght</th>\n",
       "      <th>product_description_lenght</th>\n",
       "      <th>product_photos_qty</th>\n",
       "      <th>product_weight_g</th>\n",
       "      <th>product_length_cm</th>\n",
       "      <th>product_height_cm</th>\n",
       "      <th>product_width_cm</th>\n",
       "    </tr>\n",
       "  </thead>\n",
       "  <tbody>\n",
       "    <tr>\n",
       "      <th>count</th>\n",
       "      <td>32951</td>\n",
       "      <td>32341</td>\n",
       "      <td>32341.000000</td>\n",
       "      <td>32341.000000</td>\n",
       "      <td>32341.000000</td>\n",
       "      <td>32949.000000</td>\n",
       "      <td>32949.000000</td>\n",
       "      <td>32949.000000</td>\n",
       "      <td>32949.000000</td>\n",
       "    </tr>\n",
       "    <tr>\n",
       "      <th>unique</th>\n",
       "      <td>32951</td>\n",
       "      <td>73</td>\n",
       "      <td>NaN</td>\n",
       "      <td>NaN</td>\n",
       "      <td>NaN</td>\n",
       "      <td>NaN</td>\n",
       "      <td>NaN</td>\n",
       "      <td>NaN</td>\n",
       "      <td>NaN</td>\n",
       "    </tr>\n",
       "    <tr>\n",
       "      <th>top</th>\n",
       "      <td>106392145fca363410d287a815be6de4</td>\n",
       "      <td>cama_mesa_banho</td>\n",
       "      <td>NaN</td>\n",
       "      <td>NaN</td>\n",
       "      <td>NaN</td>\n",
       "      <td>NaN</td>\n",
       "      <td>NaN</td>\n",
       "      <td>NaN</td>\n",
       "      <td>NaN</td>\n",
       "    </tr>\n",
       "    <tr>\n",
       "      <th>freq</th>\n",
       "      <td>1</td>\n",
       "      <td>3029</td>\n",
       "      <td>NaN</td>\n",
       "      <td>NaN</td>\n",
       "      <td>NaN</td>\n",
       "      <td>NaN</td>\n",
       "      <td>NaN</td>\n",
       "      <td>NaN</td>\n",
       "      <td>NaN</td>\n",
       "    </tr>\n",
       "    <tr>\n",
       "      <th>mean</th>\n",
       "      <td>NaN</td>\n",
       "      <td>NaN</td>\n",
       "      <td>48.476949</td>\n",
       "      <td>771.495285</td>\n",
       "      <td>2.188986</td>\n",
       "      <td>2276.472488</td>\n",
       "      <td>30.815078</td>\n",
       "      <td>16.937661</td>\n",
       "      <td>23.196728</td>\n",
       "    </tr>\n",
       "    <tr>\n",
       "      <th>std</th>\n",
       "      <td>NaN</td>\n",
       "      <td>NaN</td>\n",
       "      <td>10.245741</td>\n",
       "      <td>635.115225</td>\n",
       "      <td>1.736766</td>\n",
       "      <td>4282.038731</td>\n",
       "      <td>16.914458</td>\n",
       "      <td>13.637554</td>\n",
       "      <td>12.079047</td>\n",
       "    </tr>\n",
       "    <tr>\n",
       "      <th>min</th>\n",
       "      <td>NaN</td>\n",
       "      <td>NaN</td>\n",
       "      <td>5.000000</td>\n",
       "      <td>4.000000</td>\n",
       "      <td>1.000000</td>\n",
       "      <td>0.000000</td>\n",
       "      <td>7.000000</td>\n",
       "      <td>2.000000</td>\n",
       "      <td>6.000000</td>\n",
       "    </tr>\n",
       "    <tr>\n",
       "      <th>25%</th>\n",
       "      <td>NaN</td>\n",
       "      <td>NaN</td>\n",
       "      <td>42.000000</td>\n",
       "      <td>339.000000</td>\n",
       "      <td>1.000000</td>\n",
       "      <td>300.000000</td>\n",
       "      <td>18.000000</td>\n",
       "      <td>8.000000</td>\n",
       "      <td>15.000000</td>\n",
       "    </tr>\n",
       "    <tr>\n",
       "      <th>50%</th>\n",
       "      <td>NaN</td>\n",
       "      <td>NaN</td>\n",
       "      <td>51.000000</td>\n",
       "      <td>595.000000</td>\n",
       "      <td>1.000000</td>\n",
       "      <td>700.000000</td>\n",
       "      <td>25.000000</td>\n",
       "      <td>13.000000</td>\n",
       "      <td>20.000000</td>\n",
       "    </tr>\n",
       "    <tr>\n",
       "      <th>75%</th>\n",
       "      <td>NaN</td>\n",
       "      <td>NaN</td>\n",
       "      <td>57.000000</td>\n",
       "      <td>972.000000</td>\n",
       "      <td>3.000000</td>\n",
       "      <td>1900.000000</td>\n",
       "      <td>38.000000</td>\n",
       "      <td>21.000000</td>\n",
       "      <td>30.000000</td>\n",
       "    </tr>\n",
       "    <tr>\n",
       "      <th>max</th>\n",
       "      <td>NaN</td>\n",
       "      <td>NaN</td>\n",
       "      <td>76.000000</td>\n",
       "      <td>3992.000000</td>\n",
       "      <td>20.000000</td>\n",
       "      <td>40425.000000</td>\n",
       "      <td>105.000000</td>\n",
       "      <td>105.000000</td>\n",
       "      <td>118.000000</td>\n",
       "    </tr>\n",
       "  </tbody>\n",
       "</table>\n",
       "</div>"
      ],
      "text/plain": [
       "                              product_id product_category_name  \\\n",
       "count                              32951                 32341   \n",
       "unique                             32951                    73   \n",
       "top     106392145fca363410d287a815be6de4       cama_mesa_banho   \n",
       "freq                                   1                  3029   \n",
       "mean                                 NaN                   NaN   \n",
       "std                                  NaN                   NaN   \n",
       "min                                  NaN                   NaN   \n",
       "25%                                  NaN                   NaN   \n",
       "50%                                  NaN                   NaN   \n",
       "75%                                  NaN                   NaN   \n",
       "max                                  NaN                   NaN   \n",
       "\n",
       "        product_name_lenght  product_description_lenght  product_photos_qty  \\\n",
       "count          32341.000000                32341.000000        32341.000000   \n",
       "unique                  NaN                         NaN                 NaN   \n",
       "top                     NaN                         NaN                 NaN   \n",
       "freq                    NaN                         NaN                 NaN   \n",
       "mean              48.476949                  771.495285            2.188986   \n",
       "std               10.245741                  635.115225            1.736766   \n",
       "min                5.000000                    4.000000            1.000000   \n",
       "25%               42.000000                  339.000000            1.000000   \n",
       "50%               51.000000                  595.000000            1.000000   \n",
       "75%               57.000000                  972.000000            3.000000   \n",
       "max               76.000000                 3992.000000           20.000000   \n",
       "\n",
       "        product_weight_g  product_length_cm  product_height_cm  \\\n",
       "count       32949.000000       32949.000000       32949.000000   \n",
       "unique               NaN                NaN                NaN   \n",
       "top                  NaN                NaN                NaN   \n",
       "freq                 NaN                NaN                NaN   \n",
       "mean         2276.472488          30.815078          16.937661   \n",
       "std          4282.038731          16.914458          13.637554   \n",
       "min             0.000000           7.000000           2.000000   \n",
       "25%           300.000000          18.000000           8.000000   \n",
       "50%           700.000000          25.000000          13.000000   \n",
       "75%          1900.000000          38.000000          21.000000   \n",
       "max         40425.000000         105.000000         105.000000   \n",
       "\n",
       "        product_width_cm  \n",
       "count       32949.000000  \n",
       "unique               NaN  \n",
       "top                  NaN  \n",
       "freq                 NaN  \n",
       "mean           23.196728  \n",
       "std            12.079047  \n",
       "min             6.000000  \n",
       "25%            15.000000  \n",
       "50%            20.000000  \n",
       "75%            30.000000  \n",
       "max           118.000000  "
      ]
     },
     "execution_count": 41,
     "metadata": {},
     "output_type": "execute_result"
    }
   ],
   "source": [
    "products.describe(include=\"all\")"
   ]
  },
  {
   "cell_type": "markdown",
   "id": "c57f3db1-317f-4181-834f-b6c8b0058051",
   "metadata": {},
   "source": [
    "**Insight:**\n",
    "\n",
    "- Jumlah dan Kategori Produk\n",
    "  \n",
    "Dataset mencakup 32.951 produk unik dalam 73 kategori berbeda. Kategori produk paling populer adalah \"cama_mesa_banho\" (yang berarti “tempat tidur, meja, dan mandi” dalam bahasa Portugis) dengan 3.029 produk. Banyaknya kategori dan produk menunjukkan keragaman dalam penawaran produk, yang penting untuk menjangkau berbagai segmen pelanggan.\n",
    "\n",
    "- Panjang Nama dan Deskripsi Produk\n",
    "\n",
    "**Panjang Nama Produk:** Rata-rata panjang nama produk adalah 48,48 karakter, dengan variasi panjang dari 5 hingga 76 karakter. Panjang nama yang bervariasi ini mungkin memengaruhi seberapa mudah pelanggan memahami produk.\n",
    "\n",
    "**Panjang Deskripsi Produk:** Rata-rata panjang deskripsi produk adalah 771,5 karakter, tetapi ada variasi yang cukup besar, dari 4 hingga 3.992 karakter. Deskripsi yang lebih panjang mungkin diperlukan untuk produk yang kompleks atau membutuhkan penjelasan tambahan.\n",
    "\n",
    "- Jumlah Foto Produk\n",
    "\n",
    "Rata-rata jumlah foto per produk adalah 2,19, namun sebagian besar produk hanya memiliki 1 foto (nilai minimum) dan terdapat beberapa produk dengan hingga 20 foto (nilai maksimum). **Mengingat pentingnya gambar produk dalam e-commerce, perusahaan dapat mempertimbangkan untuk menambahkan lebih banyak foto ke produk yang saat ini hanya memiliki 1 gambar untuk memberikan pengalaman visual yang lebih baik kepada pelanggan.**\n",
    "\n",
    "- Dimensi Produk\n",
    "\n",
    "**Dimensi Produk:**\n",
    "\n",
    "    - Panjang: Rata-rata panjang produk adalah 30,82 cm, dengan variasi dari 7 hingga 105 cm.\n",
    "    \n",
    "    - Tinggi: Rata-rata tinggi produk adalah 16,94 cm, dengan nilai minimum 2 cm dan maksimum 105 cm.\n",
    "    \n",
    "    - Lebar: Rata-rata lebar produk adalah 23,20 cm, dengan variasi dari 6 hingga 118 cm.\n",
    "\n",
    "Perbedaan dimensi ini dapat memengaruhi cara penyimpanan dan pengiriman produk. Produk yang sangat besar atau berat dapat memerlukan penanganan khusus, yang berpotensi memengaruhi biaya dan waktu pengiriman.\n",
    "\n",
    "- Potensi untuk Peningkatan Pengalaman Produk\n",
    "\n",
    "**Penambahan Foto:** Produk yang hanya memiliki 1 foto mungkin dapat lebih menarik bagi pelanggan dengan menambahkan lebih banyak gambar.\n",
    "\n",
    "**Konsistensi Panjang Nama dan Deskripsi:** Untuk produk yang memiliki deskripsi pendek atau kurang informatif, perusahaan dapat mempertimbangkan untuk memperpanjang deskripsi guna memberikan informasi yang lebih lengkap kepada pelanggan.\n",
    "\n",
    "**Validasi Data Berat:** Nilai berat 0 gram menunjukkan potensi kesalahan data yang perlu ditangani, agar informasi produk lebih akurat."
   ]
  },
  {
   "cell_type": "markdown",
   "id": "0aa082bf-3236-4072-8371-e1859bbd4e23",
   "metadata": {},
   "source": [
    "2. Distribusi Kategori Produk"
   ]
  },
  {
   "cell_type": "code",
   "execution_count": 42,
   "id": "1016c002-283c-422b-9016-de9e94fd423c",
   "metadata": {},
   "outputs": [
    {
     "data": {
      "text/plain": [
       "product_category_name\n",
       "cama_mesa_banho                  3029\n",
       "esporte_lazer                    2867\n",
       "moveis_decoracao                 2657\n",
       "beleza_saude                     2444\n",
       "utilidades_domesticas            2335\n",
       "                                 ... \n",
       "fashion_roupa_infanto_juvenil       5\n",
       "casa_conforto_2                     5\n",
       "pc_gamer                            3\n",
       "seguros_e_servicos                  2\n",
       "cds_dvds_musicais                   1\n",
       "Name: count, Length: 73, dtype: int64"
      ]
     },
     "execution_count": 42,
     "metadata": {},
     "output_type": "execute_result"
    }
   ],
   "source": [
    "products['product_category_name'].value_counts()"
   ]
  },
  {
   "cell_type": "markdown",
   "id": "17ef06c2-f126-499a-a928-bdd73823e105",
   "metadata": {},
   "source": [
    "**Insight:**\n",
    "\n",
    "- Kategori Produk Terpopuler\n",
    "\n",
    "Kategori produk yang paling banyak tersedia adalah **cama_mesa_banho** dengan 3.029 produk, diikuti oleh **esporte_lazer** (2.867 produk) dan **moveis_decoracao** (2.657 produk). Ini menunjukkan bahwa kategori seperti peralatan rumah tangga, olahraga, dan dekorasi merupakan segmen penting bagi perusahaan, dengan banyaknya produk untuk memenuhi permintaan yang bervariasi di setiap kategori.\n",
    "\n",
    "Beberapa kategori lain yang juga populer termasuk **beleza_saude** (kecantikan dan kesehatan) dengan 2.444 produk dan **utilidades_domesticas** (alat-alat rumah tangga) dengan 2.335 produk. Kategori ini kemungkinan besar menarik pelanggan yang membutuhkan produk sehari-hari atau alat untuk kegiatan domestik.\n",
    "\n",
    "- Potensi Ekspansi Produk di Kategori Populer\n",
    "\n",
    "Melihat banyaknya produk di kategori teratas, perusahaan dapat mempertimbangkan untuk memperluas atau memperkaya pilihan di kategori cama_mesa_banho, esporte_lazer, dan moveis_decoracao dengan menambah variasi produk atau fitur unik yang dapat menarik lebih banyak pelanggan.\n",
    "Kategori-kategori populer ini juga bisa menjadi fokus untuk kampanye pemasaran atau promosi khusus, mengingat bahwa kategori ini sudah memiliki banyak pilihan dan bisa menarik lebih banyak konsumen.\n",
    "\n",
    "- Evaluasi Kategori yang Kurang Populer\n",
    "\n",
    "Bagi kategori dengan produk terbatas, perusahaan dapat melakukan uji pasar atau riset untuk menentukan apakah perlu menambah produk dalam kategori tersebut. Jika permintaan ada, memperluas inventori di kategori pc_gamer atau fashion_roupa_infanto_juvenil mungkin memberikan peluang untuk menjangkau segmen pasar baru.\n",
    "Kategori niche, seperti seguros_e_servicos, bisa dijadikan sebagai tambahan nilai (add-on) atau ditawarkan sebagai layanan pelengkap kepada pelanggan yang mungkin tertarik, meskipun tidak menjadi fokus utama."
   ]
  },
  {
   "cell_type": "markdown",
   "id": "28379991-a24f-4525-8b08-88067e408d23",
   "metadata": {},
   "source": [
    "3. Produk dengan Deskripsi atau Foto Rendah"
   ]
  },
  {
   "cell_type": "code",
   "execution_count": 43,
   "id": "ace56974-ac83-48b9-b3a0-52e36b65b53f",
   "metadata": {},
   "outputs": [
    {
     "data": {
      "text/html": [
       "<div>\n",
       "<style scoped>\n",
       "    .dataframe tbody tr th:only-of-type {\n",
       "        vertical-align: middle;\n",
       "    }\n",
       "\n",
       "    .dataframe tbody tr th {\n",
       "        vertical-align: top;\n",
       "    }\n",
       "\n",
       "    .dataframe thead th {\n",
       "        text-align: right;\n",
       "    }\n",
       "</style>\n",
       "<table border=\"1\" class=\"dataframe\">\n",
       "  <thead>\n",
       "    <tr style=\"text-align: right;\">\n",
       "      <th></th>\n",
       "      <th>product_id</th>\n",
       "      <th>product_category_name</th>\n",
       "      <th>product_name_lenght</th>\n",
       "      <th>product_description_lenght</th>\n",
       "      <th>product_photos_qty</th>\n",
       "      <th>product_weight_g</th>\n",
       "      <th>product_length_cm</th>\n",
       "      <th>product_height_cm</th>\n",
       "      <th>product_width_cm</th>\n",
       "    </tr>\n",
       "  </thead>\n",
       "  <tbody>\n",
       "    <tr>\n",
       "      <th>3601</th>\n",
       "      <td>dd5a5e7b2b76089d6415070e8d6d5456</td>\n",
       "      <td>utilidades_domesticas</td>\n",
       "      <td>52.0</td>\n",
       "      <td>4.0</td>\n",
       "      <td>1.0</td>\n",
       "      <td>1450.0</td>\n",
       "      <td>27.0</td>\n",
       "      <td>29.0</td>\n",
       "      <td>26.0</td>\n",
       "    </tr>\n",
       "    <tr>\n",
       "      <th>8114</th>\n",
       "      <td>6d066313ce43d3ed9fdfa17b4fb69baa</td>\n",
       "      <td>bebes</td>\n",
       "      <td>31.0</td>\n",
       "      <td>4.0</td>\n",
       "      <td>2.0</td>\n",
       "      <td>855.0</td>\n",
       "      <td>36.0</td>\n",
       "      <td>23.0</td>\n",
       "      <td>28.0</td>\n",
       "    </tr>\n",
       "    <tr>\n",
       "      <th>10402</th>\n",
       "      <td>67f95d5d22a25ae3c8c0651319c7d355</td>\n",
       "      <td>utilidades_domesticas</td>\n",
       "      <td>55.0</td>\n",
       "      <td>4.0</td>\n",
       "      <td>2.0</td>\n",
       "      <td>681.0</td>\n",
       "      <td>39.0</td>\n",
       "      <td>7.0</td>\n",
       "      <td>28.0</td>\n",
       "    </tr>\n",
       "    <tr>\n",
       "      <th>21124</th>\n",
       "      <td>fbf7215badcb7ebd5b322b71a0733fb8</td>\n",
       "      <td>utilidades_domesticas</td>\n",
       "      <td>55.0</td>\n",
       "      <td>4.0</td>\n",
       "      <td>2.0</td>\n",
       "      <td>5534.0</td>\n",
       "      <td>73.0</td>\n",
       "      <td>16.0</td>\n",
       "      <td>45.0</td>\n",
       "    </tr>\n",
       "    <tr>\n",
       "      <th>21351</th>\n",
       "      <td>73f0291fe089e68d9d01418708e3f192</td>\n",
       "      <td>fashion_bolsas_e_acessorios</td>\n",
       "      <td>51.0</td>\n",
       "      <td>15.0</td>\n",
       "      <td>1.0</td>\n",
       "      <td>250.0</td>\n",
       "      <td>16.0</td>\n",
       "      <td>2.0</td>\n",
       "      <td>11.0</td>\n",
       "    </tr>\n",
       "    <tr>\n",
       "      <th>23474</th>\n",
       "      <td>519f998a3890d844a5f27a99c69d2c6a</td>\n",
       "      <td>utilidades_domesticas</td>\n",
       "      <td>43.0</td>\n",
       "      <td>4.0</td>\n",
       "      <td>1.0</td>\n",
       "      <td>1045.0</td>\n",
       "      <td>39.0</td>\n",
       "      <td>16.0</td>\n",
       "      <td>38.0</td>\n",
       "    </tr>\n",
       "    <tr>\n",
       "      <th>32255</th>\n",
       "      <td>0d17caa71904fab71aaa37e8a370dc8d</td>\n",
       "      <td>informatica_acessorios</td>\n",
       "      <td>49.0</td>\n",
       "      <td>8.0</td>\n",
       "      <td>1.0</td>\n",
       "      <td>825.0</td>\n",
       "      <td>30.0</td>\n",
       "      <td>16.0</td>\n",
       "      <td>16.0</td>\n",
       "    </tr>\n",
       "  </tbody>\n",
       "</table>\n",
       "</div>"
      ],
      "text/plain": [
       "                             product_id        product_category_name  \\\n",
       "3601   dd5a5e7b2b76089d6415070e8d6d5456        utilidades_domesticas   \n",
       "8114   6d066313ce43d3ed9fdfa17b4fb69baa                        bebes   \n",
       "10402  67f95d5d22a25ae3c8c0651319c7d355        utilidades_domesticas   \n",
       "21124  fbf7215badcb7ebd5b322b71a0733fb8        utilidades_domesticas   \n",
       "21351  73f0291fe089e68d9d01418708e3f192  fashion_bolsas_e_acessorios   \n",
       "23474  519f998a3890d844a5f27a99c69d2c6a        utilidades_domesticas   \n",
       "32255  0d17caa71904fab71aaa37e8a370dc8d       informatica_acessorios   \n",
       "\n",
       "       product_name_lenght  product_description_lenght  product_photos_qty  \\\n",
       "3601                  52.0                         4.0                 1.0   \n",
       "8114                  31.0                         4.0                 2.0   \n",
       "10402                 55.0                         4.0                 2.0   \n",
       "21124                 55.0                         4.0                 2.0   \n",
       "21351                 51.0                        15.0                 1.0   \n",
       "23474                 43.0                         4.0                 1.0   \n",
       "32255                 49.0                         8.0                 1.0   \n",
       "\n",
       "       product_weight_g  product_length_cm  product_height_cm  \\\n",
       "3601             1450.0               27.0               29.0   \n",
       "8114              855.0               36.0               23.0   \n",
       "10402             681.0               39.0                7.0   \n",
       "21124            5534.0               73.0               16.0   \n",
       "21351             250.0               16.0                2.0   \n",
       "23474            1045.0               39.0               16.0   \n",
       "32255             825.0               30.0               16.0   \n",
       "\n",
       "       product_width_cm  \n",
       "3601               26.0  \n",
       "8114               28.0  \n",
       "10402              28.0  \n",
       "21124              45.0  \n",
       "21351              11.0  \n",
       "23474              38.0  \n",
       "32255              16.0  "
      ]
     },
     "execution_count": 43,
     "metadata": {},
     "output_type": "execute_result"
    }
   ],
   "source": [
    "products[(products['product_description_lenght'] < 20) | (products['product_photos_qty'] < 1)]"
   ]
  },
  {
   "cell_type": "markdown",
   "id": "0cabec48-418c-4506-b02c-3c2b36ef0b75",
   "metadata": {},
   "source": [
    "**Insight:**\n",
    "\n",
    "- Deskripsi Produk yang Sangat Pendek\n",
    "  \n",
    "Beberapa produk dalam kategori seperti utilidades_domesticas dan bebes memiliki panjang deskripsi yang sangat pendek, hanya 4 karakter. Deskripsi yang terlalu singkat ini kemungkinan besar tidak memberikan informasi cukup bagi pelanggan untuk memahami produk, yang bisa mempengaruhi keputusan pembelian.\n",
    "\n",
    "- Jumlah Foto yang Minim\n",
    "  \n",
    "Sebagian besar produk hanya memiliki 1 atau 2 foto. Dalam kategori seperti utilidades_domesticas dan fashion_bolsas_e_acessorios, yang biasanya memerlukan visual lebih untuk menunjukkan detail dan kualitas produk, jumlah foto yang terbatas ini bisa menjadi kendala dalam menarik perhatian pelanggan.\n",
    "\n",
    "- Produk dalam Kategori Populer dengan Informasi Terbatas\n",
    "  \n",
    "Beberapa produk dengan deskripsi atau foto rendah berada di kategori populer, seperti utilidades_domesticas. Mengingat pentingnya kategori ini, kekurangan informasi pada produk tertentu mungkin memengaruhi performa kategori secara keseluruhan."
   ]
  },
  {
   "cell_type": "markdown",
   "id": "57c596bc-47a2-491b-9e6a-a8a581876e3b",
   "metadata": {},
   "source": [
    "4. Distribusi harga dan biaya pengiriman berdasarkan kategori produk"
   ]
  },
  {
   "cell_type": "code",
   "execution_count": 44,
   "id": "94001740-5c58-452c-927a-1bd8f680f931",
   "metadata": {},
   "outputs": [
    {
     "name": "stdout",
     "output_type": "stream",
     "text": [
      "                                    price  freight_value  order_item_id\n",
      "product_category_name                                                  \n",
      "cama_mesa_banho                 93.296327      18.415928          11115\n",
      "beleza_saude                   130.163531      18.879703           9670\n",
      "esporte_lazer                  114.344285      19.512500           8641\n",
      "moveis_decoracao                87.564494      20.728258           8334\n",
      "informatica_acessorios         116.513903      18.821781           7827\n",
      "...                                   ...            ...            ...\n",
      "cds_dvds_musicais               52.142857      16.070714             14\n",
      "la_cuisine                     146.785000      23.825000             14\n",
      "pc_gamer                       171.772222      14.841111              9\n",
      "fashion_roupa_infanto_juvenil   71.231250      11.938750              8\n",
      "seguros_e_servicos             141.645000      20.610000              2\n",
      "\n",
      "[73 rows x 3 columns]\n"
     ]
    }
   ],
   "source": [
    "# Gabungkan order_items dengan products berdasarkan product_id\n",
    "order_items_with_products = order_items.merge(products, on='product_id', how='left')\n",
    "\n",
    "# Gabungkan dengan orders untuk analisis waktu pembelian\n",
    "orders_items_products = order_items_with_products.merge(orders, on='order_id', how='left')\n",
    "\n",
    "price_freight_by_category = orders_items_products.groupby('product_category_name').agg({\n",
    "    'price': 'mean',\n",
    "    'freight_value': 'mean',\n",
    "    'order_item_id': 'count'  # jumlah item untuk melihat volume penjualan\n",
    "}).sort_values(by='order_item_id', ascending=False)\n",
    "\n",
    "print(price_freight_by_category)\n"
   ]
  },
  {
   "cell_type": "markdown",
   "id": "ad8b7490-45f6-4369-a37f-b6cb5a9b3f2c",
   "metadata": {},
   "source": [
    "**Insight:**\n",
    "\n",
    "- Kategori Populer dan Volume Penjualan\n",
    "\n",
    "Kategori **Cama, Mesa e Banho** memiliki jumlah item terjual paling banyak dengan 11.115 item, diikuti oleh **Beleza e Saúde** (9.670 item) dan **Esporte e Lazer** (8.641 item). Kategori-kategori ini memiliki volume penjualan tinggi, menunjukkan produk-produk ini populer di kalangan konsumen.\n",
    "Untuk kategori produk dengan volume penjualan tertinggi, biaya pengiriman cenderung cukup stabil di kisaran 18 hingga 20 unit (seperti \"cama_mesa_banho\" dan \"beleza_saude\").\n",
    "\n",
    "- Distribusi Harga dan Biaya Pengiriman per Kategori\n",
    "\n",
    "Rata-rata harga produk bervariasi, dengan beberapa kategori seperti **PC Gamer** memiliki harga rata-rata tertinggi (171.77), sementara kategori lain seperti **Cama, Mesa e Banho** lebih rendah di 93.29. Hal ini mencerminkan perbedaan segmentasi harga di berbagai kategori.\n",
    "Kategori dengan harga rata-rata tinggi juga tidak selalu memiliki biaya pengiriman yang tinggi. Misalnya, **PC Gamer** memiliki biaya pengiriman rata-rata yang rendah (14.84), sedangkan kategori **La Cuisin** dengan harga yang juga tinggi memiliki biaya pengiriman yang cukup mahal (23.82).\n",
    "\n",
    "- Hubungan antara Harga dan Biaya Pengiriman\n",
    "\n",
    "Secara umum, ada kecenderungan kategori dengan barang lebih mahal memiliki biaya pengiriman yang lebih tinggi, namun terdapat pengecualian. Beberapa kategori dengan harga tinggi, seperti **Fashion Roupa Infanto Juvenil** dan **PC Gamer**, memiliki biaya pengiriman yang relatif lebih rendah dari kategori lain dengan harga sebanding.\n",
    "Kategori yang lebih ringan atau lebih kecil mungkin memiliki biaya pengiriman lebih rendah meski harganya tinggi, misalnya **pc_gamer** atau **fashion_roupa_infanto_juvenil** yang biasanya lebih ringan daripada furnitur atau dekorasi."
   ]
  },
  {
   "cell_type": "markdown",
   "id": "24e44a49-4d92-468d-8e09-23058a320dd1",
   "metadata": {},
   "source": [
    "5. Menggabungkan Data Produk dan Kategori Produk dalam english"
   ]
  },
  {
   "cell_type": "code",
   "execution_count": 45,
   "id": "50f67fed-ee0b-47bc-9d41-8d08d76fc41b",
   "metadata": {},
   "outputs": [
    {
     "data": {
      "text/html": [
       "<div>\n",
       "<style scoped>\n",
       "    .dataframe tbody tr th:only-of-type {\n",
       "        vertical-align: middle;\n",
       "    }\n",
       "\n",
       "    .dataframe tbody tr th {\n",
       "        vertical-align: top;\n",
       "    }\n",
       "\n",
       "    .dataframe thead th {\n",
       "        text-align: right;\n",
       "    }\n",
       "</style>\n",
       "<table border=\"1\" class=\"dataframe\">\n",
       "  <thead>\n",
       "    <tr style=\"text-align: right;\">\n",
       "      <th></th>\n",
       "      <th>product_id</th>\n",
       "      <th>product_category_name</th>\n",
       "      <th>product_name_lenght</th>\n",
       "      <th>product_description_lenght</th>\n",
       "      <th>product_photos_qty</th>\n",
       "      <th>product_weight_g</th>\n",
       "      <th>product_length_cm</th>\n",
       "      <th>product_height_cm</th>\n",
       "      <th>product_width_cm</th>\n",
       "      <th>product_category_name_english</th>\n",
       "    </tr>\n",
       "  </thead>\n",
       "  <tbody>\n",
       "    <tr>\n",
       "      <th>0</th>\n",
       "      <td>1e9e8ef04dbcff4541ed26657ea517e5</td>\n",
       "      <td>perfumaria</td>\n",
       "      <td>40.0</td>\n",
       "      <td>287.0</td>\n",
       "      <td>1.0</td>\n",
       "      <td>225.0</td>\n",
       "      <td>16.0</td>\n",
       "      <td>10.0</td>\n",
       "      <td>14.0</td>\n",
       "      <td>perfumery</td>\n",
       "    </tr>\n",
       "    <tr>\n",
       "      <th>1</th>\n",
       "      <td>3aa071139cb16b67ca9e5dea641aaa2f</td>\n",
       "      <td>artes</td>\n",
       "      <td>44.0</td>\n",
       "      <td>276.0</td>\n",
       "      <td>1.0</td>\n",
       "      <td>1000.0</td>\n",
       "      <td>30.0</td>\n",
       "      <td>18.0</td>\n",
       "      <td>20.0</td>\n",
       "      <td>art</td>\n",
       "    </tr>\n",
       "    <tr>\n",
       "      <th>2</th>\n",
       "      <td>96bd76ec8810374ed1b65e291975717f</td>\n",
       "      <td>esporte_lazer</td>\n",
       "      <td>46.0</td>\n",
       "      <td>250.0</td>\n",
       "      <td>1.0</td>\n",
       "      <td>154.0</td>\n",
       "      <td>18.0</td>\n",
       "      <td>9.0</td>\n",
       "      <td>15.0</td>\n",
       "      <td>sports_leisure</td>\n",
       "    </tr>\n",
       "    <tr>\n",
       "      <th>3</th>\n",
       "      <td>cef67bcfe19066a932b7673e239eb23d</td>\n",
       "      <td>bebes</td>\n",
       "      <td>27.0</td>\n",
       "      <td>261.0</td>\n",
       "      <td>1.0</td>\n",
       "      <td>371.0</td>\n",
       "      <td>26.0</td>\n",
       "      <td>4.0</td>\n",
       "      <td>26.0</td>\n",
       "      <td>baby</td>\n",
       "    </tr>\n",
       "    <tr>\n",
       "      <th>4</th>\n",
       "      <td>9dc1a7de274444849c219cff195d0b71</td>\n",
       "      <td>utilidades_domesticas</td>\n",
       "      <td>37.0</td>\n",
       "      <td>402.0</td>\n",
       "      <td>4.0</td>\n",
       "      <td>625.0</td>\n",
       "      <td>20.0</td>\n",
       "      <td>17.0</td>\n",
       "      <td>13.0</td>\n",
       "      <td>housewares</td>\n",
       "    </tr>\n",
       "  </tbody>\n",
       "</table>\n",
       "</div>"
      ],
      "text/plain": [
       "                         product_id  product_category_name  \\\n",
       "0  1e9e8ef04dbcff4541ed26657ea517e5             perfumaria   \n",
       "1  3aa071139cb16b67ca9e5dea641aaa2f                  artes   \n",
       "2  96bd76ec8810374ed1b65e291975717f          esporte_lazer   \n",
       "3  cef67bcfe19066a932b7673e239eb23d                  bebes   \n",
       "4  9dc1a7de274444849c219cff195d0b71  utilidades_domesticas   \n",
       "\n",
       "   product_name_lenght  product_description_lenght  product_photos_qty  \\\n",
       "0                 40.0                       287.0                 1.0   \n",
       "1                 44.0                       276.0                 1.0   \n",
       "2                 46.0                       250.0                 1.0   \n",
       "3                 27.0                       261.0                 1.0   \n",
       "4                 37.0                       402.0                 4.0   \n",
       "\n",
       "   product_weight_g  product_length_cm  product_height_cm  product_width_cm  \\\n",
       "0             225.0               16.0               10.0              14.0   \n",
       "1            1000.0               30.0               18.0              20.0   \n",
       "2             154.0               18.0                9.0              15.0   \n",
       "3             371.0               26.0                4.0              26.0   \n",
       "4             625.0               20.0               17.0              13.0   \n",
       "\n",
       "  product_category_name_english  \n",
       "0                     perfumery  \n",
       "1                           art  \n",
       "2                sports_leisure  \n",
       "3                          baby  \n",
       "4                    housewares  "
      ]
     },
     "execution_count": 45,
     "metadata": {},
     "output_type": "execute_result"
    }
   ],
   "source": [
    "products_eng = products.merge(product_category,on='product_category_name', how='left')\n",
    "products_eng.head()"
   ]
  },
  {
   "cell_type": "markdown",
   "id": "ba1e1d92-763f-416e-b69d-2993bc1fd447",
   "metadata": {},
   "source": [
    "**Insight:**\n",
    "\n",
    "**Kesesuaian dengan Tren Global**\n",
    "\n",
    "Kategori yang diubah ke dalam bahasa Inggris dapat lebih mudah dihubungkan dengan tren global dan preferensi pelanggan, yang dapat membantu dalam pengembangan produk dan strategi pemasaran."
   ]
  },
  {
   "cell_type": "markdown",
   "id": "7614f23b-3f09-4820-a9f5-7311bdf49f88",
   "metadata": {},
   "source": [
    "6. Total Penjualan Produk berdasarkan deskripsi produk"
   ]
  },
  {
   "cell_type": "code",
   "execution_count": 46,
   "id": "76d90f18-86a0-4935-be68-778394999db1",
   "metadata": {},
   "outputs": [
    {
     "data": {
      "text/html": [
       "<div>\n",
       "<style scoped>\n",
       "    .dataframe tbody tr th:only-of-type {\n",
       "        vertical-align: middle;\n",
       "    }\n",
       "\n",
       "    .dataframe tbody tr th {\n",
       "        vertical-align: top;\n",
       "    }\n",
       "\n",
       "    .dataframe thead th {\n",
       "        text-align: right;\n",
       "    }\n",
       "</style>\n",
       "<table border=\"1\" class=\"dataframe\">\n",
       "  <thead>\n",
       "    <tr style=\"text-align: right;\">\n",
       "      <th></th>\n",
       "      <th>total_sales</th>\n",
       "      <th>product_description_lenght</th>\n",
       "      <th>product_photos_qty</th>\n",
       "    </tr>\n",
       "    <tr>\n",
       "      <th>product_id</th>\n",
       "      <th></th>\n",
       "      <th></th>\n",
       "      <th></th>\n",
       "    </tr>\n",
       "  </thead>\n",
       "  <tbody>\n",
       "    <tr>\n",
       "      <th>00066f42aeeb9f3007548bb9d3f33c38</th>\n",
       "      <td>1</td>\n",
       "      <td>596.0</td>\n",
       "      <td>6.0</td>\n",
       "    </tr>\n",
       "    <tr>\n",
       "      <th>00088930e925c41fd95ebfe695fd2655</th>\n",
       "      <td>1</td>\n",
       "      <td>752.0</td>\n",
       "      <td>4.0</td>\n",
       "    </tr>\n",
       "    <tr>\n",
       "      <th>0009406fd7479715e4bef61dd91f2462</th>\n",
       "      <td>1</td>\n",
       "      <td>266.0</td>\n",
       "      <td>2.0</td>\n",
       "    </tr>\n",
       "    <tr>\n",
       "      <th>000b8f95fcb9e0096488278317764d19</th>\n",
       "      <td>2</td>\n",
       "      <td>364.0</td>\n",
       "      <td>3.0</td>\n",
       "    </tr>\n",
       "    <tr>\n",
       "      <th>000d9be29b5207b54e86aa1b1ac54872</th>\n",
       "      <td>1</td>\n",
       "      <td>613.0</td>\n",
       "      <td>4.0</td>\n",
       "    </tr>\n",
       "  </tbody>\n",
       "</table>\n",
       "</div>"
      ],
      "text/plain": [
       "                                  total_sales  product_description_lenght  \\\n",
       "product_id                                                                  \n",
       "00066f42aeeb9f3007548bb9d3f33c38            1                       596.0   \n",
       "00088930e925c41fd95ebfe695fd2655            1                       752.0   \n",
       "0009406fd7479715e4bef61dd91f2462            1                       266.0   \n",
       "000b8f95fcb9e0096488278317764d19            2                       364.0   \n",
       "000d9be29b5207b54e86aa1b1ac54872            1                       613.0   \n",
       "\n",
       "                                  product_photos_qty  \n",
       "product_id                                            \n",
       "00066f42aeeb9f3007548bb9d3f33c38                 6.0  \n",
       "00088930e925c41fd95ebfe695fd2655                 4.0  \n",
       "0009406fd7479715e4bef61dd91f2462                 2.0  \n",
       "000b8f95fcb9e0096488278317764d19                 3.0  \n",
       "000d9be29b5207b54e86aa1b1ac54872                 4.0  "
      ]
     },
     "execution_count": 46,
     "metadata": {},
     "output_type": "execute_result"
    }
   ],
   "source": [
    "# Menggabungkan order_items dengan products untuk mendapatkan kolom deskripsi dan jumlah foto\n",
    "product_sales = order_items.merge(products_eng, on='product_id')\n",
    "\n",
    "# Mengelompokkan data berdasarkan product_id untuk mendapatkan total penjualan per produk\n",
    "product_sales_summary = product_sales.groupby('product_id').agg({\n",
    "    'order_item_id': 'count',  \n",
    "    'product_description_lenght': 'first',\n",
    "    'product_photos_qty': 'first'\n",
    "}).rename(columns={'order_item_id': 'total_sales'})\n",
    "product_sales_summary.head()"
   ]
  },
  {
   "cell_type": "markdown",
   "id": "467eba18-293e-4781-8941-532116c1bf7f",
   "metadata": {},
   "source": [
    "**Insight:**\n",
    "\n",
    "**1. Total Penjualan per Produk**\n",
    "Dengan mengelompokkan data berdasarkan product_id, kita dapat menghitung total penjualan untuk setiap produk. Ini memberikan gambaran tentang produk mana yang paling laris dan mana yang kurang diminati.\n",
    "\n",
    "**2. Deskripsi Produk**\n",
    "Kolom product_description_lenght memberikan informasi tentang panjang deskripsi produk. Produk dengan deskripsi yang lebih panjang mungkin memberikan informasi lebih banyak kepada pelanggan, yang dapat memengaruhi keputusan pembelian.\n",
    "\n",
    "**3. Jumlah Foto Produk**\n",
    "Kolom product_photos_qty menunjukkan jumlah foto yang tersedia untuk setiap produk. Produk dengan lebih banyak foto mungkin memiliki tingkat penjualan yang lebih tinggi, karena pelanggan cenderung lebih tertarik pada produk yang ditampilkan dengan baik.\n",
    "\n",
    "**4. Dimensi dan Berat Produk**\n",
    "Data tentang product_weight_g, product_length_cm, product_height_cm, dan product_width_cm dapat digunakan untuk analisis logistik. Misalnya, produk yang lebih berat atau lebih besar mungkin memiliki biaya pengiriman yang lebih tinggi, yang dapat memengaruhi harga dan daya tarik produk.\n",
    "\n",
    "**5. Kategorisasi Produk**\n",
    "Kolom product_category_name memberikan wawasan tentang kategori produk yang berbeda. Analisis kategori dapat membantu dalam memahami tren pasar dan preferensi pelanggan. Misalnya, kategori tertentu mungkin menunjukkan penjualan yang lebih tinggi dibandingkan yang lain.\n"
   ]
  },
  {
   "cell_type": "markdown",
   "id": "796d89e5-7965-4462-a5fb-d2c3f95c23ff",
   "metadata": {},
   "source": [
    "**Eksplorasi Data Customers**"
   ]
  },
  {
   "cell_type": "markdown",
   "id": "d8b36db0-d627-4713-a1e5-d76c33624e76",
   "metadata": {},
   "source": [
    "1. Rangkuman Statistik"
   ]
  },
  {
   "cell_type": "code",
   "execution_count": 47,
   "id": "f14353a4-8221-4185-b323-aedd3174ed6e",
   "metadata": {},
   "outputs": [
    {
     "data": {
      "text/html": [
       "<div>\n",
       "<style scoped>\n",
       "    .dataframe tbody tr th:only-of-type {\n",
       "        vertical-align: middle;\n",
       "    }\n",
       "\n",
       "    .dataframe tbody tr th {\n",
       "        vertical-align: top;\n",
       "    }\n",
       "\n",
       "    .dataframe thead th {\n",
       "        text-align: right;\n",
       "    }\n",
       "</style>\n",
       "<table border=\"1\" class=\"dataframe\">\n",
       "  <thead>\n",
       "    <tr style=\"text-align: right;\">\n",
       "      <th></th>\n",
       "      <th>customer_id</th>\n",
       "      <th>customer_unique_id</th>\n",
       "      <th>customer_zip_code_prefix</th>\n",
       "      <th>customer_city</th>\n",
       "      <th>customer_state</th>\n",
       "    </tr>\n",
       "  </thead>\n",
       "  <tbody>\n",
       "    <tr>\n",
       "      <th>count</th>\n",
       "      <td>99441</td>\n",
       "      <td>99441</td>\n",
       "      <td>99441.000000</td>\n",
       "      <td>99441</td>\n",
       "      <td>99441</td>\n",
       "    </tr>\n",
       "    <tr>\n",
       "      <th>unique</th>\n",
       "      <td>99441</td>\n",
       "      <td>96096</td>\n",
       "      <td>NaN</td>\n",
       "      <td>4119</td>\n",
       "      <td>27</td>\n",
       "    </tr>\n",
       "    <tr>\n",
       "      <th>top</th>\n",
       "      <td>274fa6071e5e17fe303b9748641082c8</td>\n",
       "      <td>8d50f5eadf50201ccdcedfb9e2ac8455</td>\n",
       "      <td>NaN</td>\n",
       "      <td>sao paulo</td>\n",
       "      <td>SP</td>\n",
       "    </tr>\n",
       "    <tr>\n",
       "      <th>freq</th>\n",
       "      <td>1</td>\n",
       "      <td>17</td>\n",
       "      <td>NaN</td>\n",
       "      <td>15540</td>\n",
       "      <td>41746</td>\n",
       "    </tr>\n",
       "    <tr>\n",
       "      <th>mean</th>\n",
       "      <td>NaN</td>\n",
       "      <td>NaN</td>\n",
       "      <td>35137.474583</td>\n",
       "      <td>NaN</td>\n",
       "      <td>NaN</td>\n",
       "    </tr>\n",
       "    <tr>\n",
       "      <th>std</th>\n",
       "      <td>NaN</td>\n",
       "      <td>NaN</td>\n",
       "      <td>29797.938996</td>\n",
       "      <td>NaN</td>\n",
       "      <td>NaN</td>\n",
       "    </tr>\n",
       "    <tr>\n",
       "      <th>min</th>\n",
       "      <td>NaN</td>\n",
       "      <td>NaN</td>\n",
       "      <td>1003.000000</td>\n",
       "      <td>NaN</td>\n",
       "      <td>NaN</td>\n",
       "    </tr>\n",
       "    <tr>\n",
       "      <th>25%</th>\n",
       "      <td>NaN</td>\n",
       "      <td>NaN</td>\n",
       "      <td>11347.000000</td>\n",
       "      <td>NaN</td>\n",
       "      <td>NaN</td>\n",
       "    </tr>\n",
       "    <tr>\n",
       "      <th>50%</th>\n",
       "      <td>NaN</td>\n",
       "      <td>NaN</td>\n",
       "      <td>24416.000000</td>\n",
       "      <td>NaN</td>\n",
       "      <td>NaN</td>\n",
       "    </tr>\n",
       "    <tr>\n",
       "      <th>75%</th>\n",
       "      <td>NaN</td>\n",
       "      <td>NaN</td>\n",
       "      <td>58900.000000</td>\n",
       "      <td>NaN</td>\n",
       "      <td>NaN</td>\n",
       "    </tr>\n",
       "    <tr>\n",
       "      <th>max</th>\n",
       "      <td>NaN</td>\n",
       "      <td>NaN</td>\n",
       "      <td>99990.000000</td>\n",
       "      <td>NaN</td>\n",
       "      <td>NaN</td>\n",
       "    </tr>\n",
       "  </tbody>\n",
       "</table>\n",
       "</div>"
      ],
      "text/plain": [
       "                             customer_id                customer_unique_id  \\\n",
       "count                              99441                             99441   \n",
       "unique                             99441                             96096   \n",
       "top     274fa6071e5e17fe303b9748641082c8  8d50f5eadf50201ccdcedfb9e2ac8455   \n",
       "freq                                   1                                17   \n",
       "mean                                 NaN                               NaN   \n",
       "std                                  NaN                               NaN   \n",
       "min                                  NaN                               NaN   \n",
       "25%                                  NaN                               NaN   \n",
       "50%                                  NaN                               NaN   \n",
       "75%                                  NaN                               NaN   \n",
       "max                                  NaN                               NaN   \n",
       "\n",
       "        customer_zip_code_prefix customer_city customer_state  \n",
       "count               99441.000000         99441          99441  \n",
       "unique                       NaN          4119             27  \n",
       "top                          NaN     sao paulo             SP  \n",
       "freq                         NaN         15540          41746  \n",
       "mean                35137.474583           NaN            NaN  \n",
       "std                 29797.938996           NaN            NaN  \n",
       "min                  1003.000000           NaN            NaN  \n",
       "25%                 11347.000000           NaN            NaN  \n",
       "50%                 24416.000000           NaN            NaN  \n",
       "75%                 58900.000000           NaN            NaN  \n",
       "max                 99990.000000           NaN            NaN  "
      ]
     },
     "execution_count": 47,
     "metadata": {},
     "output_type": "execute_result"
    }
   ],
   "source": [
    "customers.describe(include=\"all\")"
   ]
  },
  {
   "cell_type": "markdown",
   "id": "0e564681-d0f3-4e37-8b7c-9980ddc1f11c",
   "metadata": {},
   "source": [
    "**Insight:**\n",
    "\n",
    "- Jumlah Pelanggan Unik\n",
    "  \n",
    "Dataset memiliki 99.441 pelanggan yang masing-masing memiliki ID unik (tidak ada duplikasi pada customer_id). Namun, terdapat 96.096 ID unik dalam customer_unique_id, yang menunjukkan adanya sekitar 3.345 pelanggan dengan lebih dari satu customer_id. Hal ini bisa terjadi jika pelanggan melakukan beberapa transaksi atau jika ID pelanggan diperbarui pada beberapa kasus.\n",
    "\n",
    "\n",
    "- Kota Terpopuler\n",
    "\n",
    "Kota dengan jumlah pelanggan terbanyak adalah São Paulo dengan 15.540 pelanggan. São Paulo merupakan kota terbesar dan pusat bisnis di Brasil, sehingga tingginya jumlah pelanggan di kota ini sesuai dengan ekspektasi.\n",
    "\n",
    "- Negara Bagian Terpopuler\n",
    "\n",
    "Negara bagian yang paling dominan adalah SP (São Paulo), dengan 41.746 pelanggan. Negara bagian ini merupakan wilayah utama, diikuti oleh negara bagian lain dengan pelanggan yang lebih sedikit.\n",
    "\n",
    "- Distribusi Pelanggan Berdasarkan Negara Bagian\n",
    "\n",
    "Terdapat pelanggan dari 27 negara bagian di Brasil, menunjukkan jangkauan e-commerce yang cukup luas di seluruh negeri."
   ]
  },
  {
   "cell_type": "markdown",
   "id": "232802ab-4773-4be5-884f-f2a4df3afba8",
   "metadata": {},
   "source": [
    "2. Persebaran Pelanggan Berdasarkan Kota dan Negara Bagian"
   ]
  },
  {
   "cell_type": "code",
   "execution_count": 48,
   "id": "db988c68-38cf-4af7-aa5c-024f9c7079a3",
   "metadata": {},
   "outputs": [
    {
     "data": {
      "text/plain": [
       "customer_city\n",
       "sao paulo         15540\n",
       "rio de janeiro     6882\n",
       "belo horizonte     2773\n",
       "brasilia           2131\n",
       "curitiba           1521\n",
       "                  ...  \n",
       "agisse                1\n",
       "vieiras               1\n",
       "bertopolis            1\n",
       "abadiania             1\n",
       "xexeu                 1\n",
       "Name: customer_id, Length: 4119, dtype: int64"
      ]
     },
     "execution_count": 48,
     "metadata": {},
     "output_type": "execute_result"
    }
   ],
   "source": [
    "# Berdasarkan city\n",
    "customers.groupby(by=\"customer_city\").customer_id.nunique().sort_values(ascending=False)"
   ]
  },
  {
   "cell_type": "code",
   "execution_count": 49,
   "id": "72c254e9-fa4c-4828-8909-657ed78fad48",
   "metadata": {},
   "outputs": [
    {
     "data": {
      "text/plain": [
       "customer_state\n",
       "SP    41746\n",
       "RJ    12852\n",
       "MG    11635\n",
       "RS     5466\n",
       "PR     5045\n",
       "SC     3637\n",
       "BA     3380\n",
       "DF     2140\n",
       "ES     2033\n",
       "GO     2020\n",
       "PE     1652\n",
       "CE     1336\n",
       "PA      975\n",
       "MT      907\n",
       "MA      747\n",
       "MS      715\n",
       "PB      536\n",
       "PI      495\n",
       "RN      485\n",
       "AL      413\n",
       "SE      350\n",
       "TO      280\n",
       "RO      253\n",
       "AM      148\n",
       "AC       81\n",
       "AP       68\n",
       "RR       46\n",
       "Name: customer_id, dtype: int64"
      ]
     },
     "execution_count": 49,
     "metadata": {},
     "output_type": "execute_result"
    }
   ],
   "source": [
    "# Berdasarkan state\n",
    "customers.groupby(by=\"customer_state\").customer_id.nunique().sort_values(ascending=False)"
   ]
  },
  {
   "cell_type": "markdown",
   "id": "3a40db45-f11a-4ff1-a8dd-f16a66c48090",
   "metadata": {},
   "source": [
    "**Insight:**\n",
    "\n",
    "- Pusat Pelanggan Utama Berdasarkan Kota\n",
    "\n",
    "Kota dengan jumlah pelanggan terbanyak adalah São Paulo (15.540 pelanggan), diikuti oleh Rio de Janeiro (6.882 pelanggan), Belo Horizonte (2.773 pelanggan), dan Brasilia (2.131 pelanggan).\n",
    "Kota-kota besar seperti São Paulo, Rio de Janeiro, dan Belo Horizonte merupakan pusat ekonomi Brasil, sehingga memiliki jumlah pelanggan yang dominan. Kota ini kemungkinan besar memiliki pasar yang lebih matang dan aksesibilitas lebih baik untuk layanan e-commerce.\n",
    "Ada sekitar 4.119 kota dengan setidaknya satu pelanggan, menunjukkan bahwa pelanggan tersebar luas, meski di beberapa kota hanya terdapat 1 pelanggan.\n",
    "\n",
    "- Dominasi Negara Bagian Tertentu\n",
    "\n",
    "Berdasarkan negara bagian, São Paulo (SP) memimpin dengan 41.746 pelanggan, diikuti oleh Rio de Janeiro (RJ) dengan 12.852 pelanggan dan Minas Gerais (MG) dengan 11.635 pelanggan.\n",
    "Negara bagian seperti Rio Grande do Sul (RS), Paraná (PR), dan Santa Catarina (SC) juga memiliki jumlah pelanggan yang signifikan.\n",
    "Dominasi SP, RJ, dan MG menunjukkan bahwa sebagian besar pelanggan berasal dari wilayah tenggara Brasil, yang merupakan pusat urbanisasi dan ekonomi utama negara tersebut.\n",
    "\n",
    "- Sebaran Pelanggan di Seluruh Negara Bagian\n",
    "\n",
    "Meskipun terdapat dominasi dari negara bagian tenggara, ada pelanggan dari seluruh 27 negara bagian di Brasil, termasuk wilayah yang lebih terpencil seperti Roraima (RR) dengan 46 pelanggan dan Amapá (AP) dengan 68 pelanggan. Hal ini menunjukkan potensi penetrasi pasar di seluruh negeri, meskipun dengan intensitas yang bervariasi."
   ]
  },
  {
   "cell_type": "markdown",
   "id": "5893172c-5d45-4ca9-8bc4-f188e6d58fe4",
   "metadata": {},
   "source": [
    "**Eksplorasi Semua Data**"
   ]
  },
  {
   "cell_type": "code",
   "execution_count": 50,
   "id": "1a0801e8-869e-45b7-b27c-94867e55d1e9",
   "metadata": {},
   "outputs": [
    {
     "name": "stdout",
     "output_type": "stream",
     "text": [
      "<class 'pandas.core.frame.DataFrame'>\n",
      "RangeIndex: 118310 entries, 0 to 118309\n",
      "Data columns (total 39 columns):\n",
      " #   Column                         Non-Null Count   Dtype         \n",
      "---  ------                         --------------   -----         \n",
      " 0   order_id                       118310 non-null  object        \n",
      " 1   order_item_id                  118310 non-null  int64         \n",
      " 2   product_id                     118310 non-null  object        \n",
      " 3   seller_id                      118310 non-null  object        \n",
      " 4   shipping_limit_date            118310 non-null  datetime64[ns]\n",
      " 5   price                          118310 non-null  float64       \n",
      " 6   freight_value                  118310 non-null  float64       \n",
      " 7   product_category_name          116601 non-null  object        \n",
      " 8   product_name_lenght            116601 non-null  float64       \n",
      " 9   product_description_lenght     116601 non-null  float64       \n",
      " 10  product_photos_qty             116601 non-null  float64       \n",
      " 11  product_weight_g               118290 non-null  float64       \n",
      " 12  product_length_cm              118290 non-null  float64       \n",
      " 13  product_height_cm              118290 non-null  float64       \n",
      " 14  product_width_cm               118290 non-null  float64       \n",
      " 15  product_category_name_english  116576 non-null  object        \n",
      " 16  customer_id                    118310 non-null  object        \n",
      " 17  order_status                   118310 non-null  object        \n",
      " 18  order_purchase_timestamp       118310 non-null  datetime64[ns]\n",
      " 19  order_approved_at              118295 non-null  datetime64[ns]\n",
      " 20  order_delivered_carrier_date   117056 non-null  datetime64[ns]\n",
      " 21  order_delivered_customer_date  115722 non-null  datetime64[ns]\n",
      " 22  order_estimated_delivery_date  118310 non-null  datetime64[ns]\n",
      " 23  delivery_delay                 115722 non-null  float64       \n",
      " 24  year_month                     118310 non-null  period[M]     \n",
      " 25  payment_sequential             118307 non-null  float64       \n",
      " 26  payment_type                   118307 non-null  object        \n",
      " 27  payment_installments           118307 non-null  float64       \n",
      " 28  payment_value                  118307 non-null  float64       \n",
      " 29  review_id                      117332 non-null  object        \n",
      " 30  review_score                   117332 non-null  float64       \n",
      " 31  review_comment_title           13892 non-null   object        \n",
      " 32  review_comment_message         49682 non-null   object        \n",
      " 33  review_creation_date           117332 non-null  datetime64[ns]\n",
      " 34  review_answer_timestamp        117332 non-null  datetime64[ns]\n",
      " 35  customer_unique_id             118310 non-null  object        \n",
      " 36  customer_zip_code_prefix       118310 non-null  int64         \n",
      " 37  customer_city                  118310 non-null  object        \n",
      " 38  customer_state                 118310 non-null  object        \n",
      "dtypes: datetime64[ns](8), float64(14), int64(2), object(14), period[M](1)\n",
      "memory usage: 35.2+ MB\n"
     ]
    }
   ],
   "source": [
    "# Gabungkan hasil di atas dengan orders berdasarkan order_id\n",
    "orders_items_products = product_sales.merge(orders, on='order_id', how='left')\n",
    "\n",
    "# Gabungkan hasil di atas dengan order_payments berdasarkan order_id\n",
    "full_data = orders_items_products.merge(order_payments, on='order_id', how='left')\n",
    "\n",
    "# Jika perlu, gabungkan data ulasan pelanggan dengan orders\n",
    "full_data_with_reviews = full_data.merge(order_reviews, on='order_id', how='left')\n",
    "\n",
    "# Gabungkan data pelanggan dengan full_data_with_reviews berdasarkan customer_id\n",
    "final_data = full_data_with_reviews.merge(customers, on='customer_id', how='left')\n",
    "\n",
    "# Menampilkan contoh data hasil penggabungan\n",
    "final_data.head()\n",
    "final_data.info()"
   ]
  },
  {
   "cell_type": "code",
   "execution_count": 51,
   "id": "f84c5a5e-00ea-43d4-89c0-7da97be40394",
   "metadata": {},
   "outputs": [],
   "source": [
    "# Memilih kolom yang diperlukan\n",
    "columns_to_save = [\n",
    "    'order_id', 'customer_id', 'customer_state', 'product_id', \n",
    "    'product_category_name_english', 'price', 'freight_value', \n",
    "    'payment_type', 'payment_value', 'order_status', \n",
    "    'order_purchase_timestamp', 'order_delivered_customer_date', \n",
    "    'order_estimated_delivery_date', 'delivery_delay', 'review_score'\n",
    "]\n",
    "\n",
    "# Menyaring data dengan kolom yang telah dipilih\n",
    "full_data = final_data[columns_to_save]\n",
    "\n",
    "# Simpan hasil penggabungan ke dalam CSV\n",
    "full_data.to_csv('dashboard/full_data.csv', index=False)"
   ]
  },
  {
   "cell_type": "markdown",
   "id": "36baf9d9-6217-44b8-87d1-fc6fd96cdfd1",
   "metadata": {},
   "source": [
    "## Visualization Data"
   ]
  },
  {
   "cell_type": "markdown",
   "id": "2a24d07a-fe8f-434f-8ab1-1bd677986e06",
   "metadata": {},
   "source": [
    "1. Kategori produk mana yang paling laris atau paling banyak diminati pelanggan?"
   ]
  },
  {
   "cell_type": "code",
   "execution_count": 1,
   "id": "7b9b518f-b801-4075-acd2-19574a8d36e5",
   "metadata": {},
   "outputs": [
    {
     "ename": "NameError",
     "evalue": "name 'products_eng' is not defined",
     "output_type": "error",
     "traceback": [
      "\u001b[1;31m---------------------------------------------------------------------------\u001b[0m",
      "\u001b[1;31mNameError\u001b[0m                                 Traceback (most recent call last)",
      "Cell \u001b[1;32mIn[1], line 1\u001b[0m\n\u001b[1;32m----> 1\u001b[0m category_sales \u001b[38;5;241m=\u001b[39m \u001b[43mproducts_eng\u001b[49m[\u001b[38;5;124m'\u001b[39m\u001b[38;5;124mproduct_category_name_english\u001b[39m\u001b[38;5;124m'\u001b[39m]\u001b[38;5;241m.\u001b[39mvalue_counts()\u001b[38;5;241m.\u001b[39mhead(\u001b[38;5;241m10\u001b[39m)\n\u001b[0;32m      3\u001b[0m plt\u001b[38;5;241m.\u001b[39mfigure(figsize\u001b[38;5;241m=\u001b[39m(\u001b[38;5;241m12\u001b[39m, \u001b[38;5;241m6\u001b[39m))\n\u001b[0;32m      4\u001b[0m sns\u001b[38;5;241m.\u001b[39mbarplot(x\u001b[38;5;241m=\u001b[39mcategory_sales\u001b[38;5;241m.\u001b[39mvalues, y\u001b[38;5;241m=\u001b[39mcategory_sales\u001b[38;5;241m.\u001b[39mindex, palette\u001b[38;5;241m=\u001b[39m\u001b[38;5;124m'\u001b[39m\u001b[38;5;124mmagma\u001b[39m\u001b[38;5;124m'\u001b[39m)\n",
      "\u001b[1;31mNameError\u001b[0m: name 'products_eng' is not defined"
     ]
    }
   ],
   "source": [
    "category_sales = products_eng['product_category_name_english'].value_counts().head(10)\n",
    "\n",
    "plt.figure(figsize=(12, 6))\n",
    "sns.barplot(x=category_sales.values, y=category_sales.index, palette='magma')\n",
    "plt.title(\"Top 10 Product Categories with Highest Sales\")\n",
    "plt.xlabel(\"Sales Count\")\n",
    "plt.ylabel(\"Product Category (English)\")\n",
    "plt.show()"
   ]
  },
  {
   "cell_type": "markdown",
   "id": "2b6f1675-c5d7-43c7-83bf-55f28d05fccd",
   "metadata": {},
   "source": [
    "**Insight:**\n",
    "\n",
    "- Dominasi Kategori Produk:\n",
    "\n",
    "Kategori **bed_bath_table** mencatat penjualan tertinggi dengan angka yang signifikan, menunjukkan bahwa konsumen memiliki minat besar terhadap produk-produk yang berkaitan dengan kenyamanan tidur dan mandi. Ini dapat menjadi fokus utama dalam strategi pemasaran.\n",
    "\n",
    "- Variasi Kategori:\n",
    "\n",
    "Kategori **health_beauty** dan **sports_leisure** juga menunjukkan angka penjualan yang kuat, yang menandakan semakin meningkatnya kesadaran akan kesehatan dan aktivitas luar ruangan di kalangan konsumen. Mungkin bermanfaat untuk mempertimbangkan pemasaran produk baru dalam kategori-kategori ini.\n",
    "\n",
    "- Kebutuhan Fungsional:\n",
    "\n",
    "Kategori **furniture_decor** dan **computers_accessories** juga memiliki penjualan yang baik, menunjukkan bahwa konsumen tidak hanya berfokus pada kebutuhan dasar tetapi juga pada estetika dan teknologi dalam kehidupan sehari-hari mereka.\n",
    "\n",
    "- Kategori dengan Potensi Pertumbuhan:\n",
    "\n",
    "Kategori **watches_gifts** dan **garden_tools** menunjukkan penjualan yang lebih rendah dibandingkan kategori lain. Namun, ini bisa jadi kesempatan untuk strategi peningkatan penjualan, misalnya dengan promosi atau pengenalan produk baru yang menarik bagi konsumen.\n",
    "\n",
    "-  Konsistensi Permintaan:\n",
    "\n",
    "Kategori **housewares** dan **telephony** menunjukkan penjualan yang stabil, menyiratkan bahwa barang-barang rumah tangga dan aksesori telekomunikasi adalah kebutuhan yang terus dicari oleh konsumen."
   ]
  },
  {
   "cell_type": "markdown",
   "id": "5625d01b-a2f4-4176-afc4-e136ac2b8ce3",
   "metadata": {},
   "source": [
    "2. Kategori produk mana yang sangat kurang diminati pelanggan?"
   ]
  },
  {
   "cell_type": "code",
   "execution_count": 53,
   "id": "9ed87c29-785b-4d11-a2a1-358ba4a3bb13",
   "metadata": {},
   "outputs": [
    {
     "name": "stderr",
     "output_type": "stream",
     "text": [
      "C:\\Users\\ASUS\\AppData\\Local\\Temp\\ipykernel_10496\\2360179123.py:4: FutureWarning: \n",
      "\n",
      "Passing `palette` without assigning `hue` is deprecated and will be removed in v0.14.0. Assign the `y` variable to `hue` and set `legend=False` for the same effect.\n",
      "\n",
      "  sns.barplot(x=category_sales_bottom.values, y=category_sales_bottom.index, palette='coolwarm')\n"
     ]
    },
    {
     "data": {
      "image/png": "[encoded data removed]",
      "text/plain": [
       "<Figure size 1200x600 with 1 Axes>"
      ]
     },
     "metadata": {},
     "output_type": "display_data"
    }
   ],
   "source": [
    "\n",
    "category_sales_bottom = products_eng['product_category_name_english'].value_counts().tail(10)  # Mengambil 10 kategori terendah\n",
    "\n",
    "plt.figure(figsize=(12, 6))\n",
    "sns.barplot(x=category_sales_bottom.values, y=category_sales_bottom.index, palette='coolwarm')\n",
    "plt.title(\"Top 10 Kategori Produk dengan Penjualan Terendah\")\n",
    "plt.xlabel(\"Jumlah Penjualan\")\n",
    "plt.ylabel(\"Kategori Produk\")\n",
    "plt.show()"
   ]
  },
  {
   "cell_type": "markdown",
   "id": "7c15077f-94a1-4e05-aed2-b810bcb9b052",
   "metadata": {},
   "source": [
    "**Insight:**\n",
    "\n",
    "- Kategorial Penjualan Terendah:\n",
    "\n",
    "Kategori **security_and_services** memiliki jumlah penjualan terendah di antara kategori yang ditampilkan, menunjukkan bahwa konsumen mungkin kurang tertarik atau belum cukup memahami nilai tawaran dalam kategori ini.\n",
    "\n",
    "- Tren dalam Kategori:\n",
    "\n",
    "Kategori seperti **fashion_children_clothes** dan **la_cuisine** juga menunjukkan penjualan yang rendah, yang mungkin berarti ada peluang untuk memperbaiki pemasaran atau penawaran produk agar lebih relevan dengan kebutuhan dan keinginan konsumen.\n",
    "\n",
    "- Kategori Hiburan:\n",
    "\n",
    "Kategori **cds_dvds_musicals** dan **arts_and_craftsmanship** termasuk dalam kelompok dengan penjualan yang lebih rendah, yang bisa mencerminkan pergeseran dalam preferensi konsumen terhadap bentuk hiburan digital, seperti streaming.\n",
    "\n",
    "- Potensi Peningkatan:\n",
    "\n",
    "**furniture_mattress_and_upholstery** meskipun lebih baik dari kategori lain, tetap berada di atas rata-rata dalam grafik. Ini menunjukkan bahwa meskipun ada penjualan, ada ruang untuk pertimbangan lebih dalam pengembangan produk atau promosi untuk meningkatkan minat.\n",
    "\n",
    "- Kondisi Pasar:\n",
    "\n",
    "Kategori seperti **home_comfort_2** dan **flowers** meskipun penjualannya baik, menunjukkan bahwa ada beberapa potensi yang belum sepenuhnya dimanfaatkan dalam hal penjualan reguler, mungkin disebabkan oleh musiman atau tren yang sedang berlangsung."
   ]
  },
  {
   "cell_type": "markdown",
   "id": "169c255a-ad77-494b-b9e8-886355d75860",
   "metadata": {},
   "source": [
    "3. Apakah deskripsi produk dan jumlah foto berpengaruh pada tingkat penjualan?"
   ]
  },
  {
   "cell_type": "code",
   "execution_count": 54,
   "id": "c94275fa-2315-43eb-be68-482780cfc46b",
   "metadata": {},
   "outputs": [
    {
     "data": {
      "image/png": "[encoded data removed]",
      "text/plain": [
       "<Figure size 1400x600 with 2 Axes>"
      ]
     },
     "metadata": {},
     "output_type": "display_data"
    }
   ],
   "source": [
    "plt.figure(figsize=(14, 6))\n",
    "\n",
    "# Scatter plot: Panjang deskripsi vs. Total penjualan\n",
    "plt.subplot(1, 2, 1)\n",
    "sns.scatterplot(data=product_sales_summary, x='product_description_lenght', y='total_sales')\n",
    "plt.title('Hubungan Panjang Deskripsi dengan Total Penjualan')\n",
    "plt.xlabel('Panjang Deskripsi')\n",
    "plt.ylabel('Total Penjualan')\n",
    "\n",
    "# Scatter plot: Jumlah foto vs. Total penjualan\n",
    "plt.subplot(1, 2, 2)\n",
    "sns.scatterplot(data=product_sales_summary, x='product_photos_qty', y='total_sales')\n",
    "plt.title('Hubungan Jumlah Foto dengan Total Penjualan')\n",
    "plt.xlabel('Jumlah Foto')\n",
    "plt.ylabel('Total Penjualan')\n",
    "\n",
    "plt.tight_layout()\n",
    "plt.show()\n"
   ]
  },
  {
   "cell_type": "markdown",
   "id": "428dcee8-d1e7-4ba8-8181-13335ef08125",
   "metadata": {},
   "source": [
    "**Insight:**\n",
    "\n",
    "- Hubungan Panjang Deskripsi dengan Total Penjualan:\n",
    "\n",
    "Plot di sebelah kiri menunjukkan distribusi panjang deskripsi produk terhadap total penjualan. Tidak terlihat adanya pola yang jelas antara panjang deskripsi dan tingkat penjualan.Panjang deskripsi yang lebih panjang tidak selalu berkorelasi dengan total penjualan yang lebih tinggi. Sebagian besar penjualan produk berada pada rentang panjang deskripsi yang rendah hingga sedang.\n",
    "\n",
    "**Panjang deskripsi produk mungkin tidak memiliki pengaruh langsung terhadap penjualan. Fokus pada panjang deskripsi mungkin tidak menjadi prioritas utama dalam meningkatkan penjualan produk.**\n",
    "\n",
    "- Hubungan Jumlah Foto dengan Total Penjualan:\n",
    "\n",
    "Plot di sebelah kanan menunjukkan hubungan antara jumlah foto produk dengan total penjualan. Terlihat bahwa jumlah foto produk yang lebih banyak tidak berkorelasi dengan kenaikan penjualan secara konsisten. Sebagian besar penjualan terjadi pada produk dengan jumlah foto yang rendah hingga sedang (1–5 foto), sementara produk dengan jumlah foto yang lebih banyak tidak menunjukkan peningkatan signifikan dalam penjualan.\n",
    "\n",
    "**Menambahkan lebih banyak foto mungkin tidak selalu meningkatkan penjualan secara signifikan. Hal ini menunjukkan bahwa faktor lain seperti kualitas foto atau informasi visual yang relevan mungkin lebih penting daripada kuantitas foto.**"
   ]
  },
  {
   "cell_type": "markdown",
   "id": "a3d4ace0-82e2-495f-8294-5d5bc4dd1e45",
   "metadata": {},
   "source": [
    "4. Berapa banyak pesanan yang terlambat dari perkiraan waktu pengiriman?"
   ]
  },
  {
   "cell_type": "code",
   "execution_count": 55,
   "id": "d0ece275-6360-4418-94f2-06adf81e7fd9",
   "metadata": {},
   "outputs": [
    {
     "data": {
      "image/png": "[encoded data removed]",
      "text/plain": [
       "<Figure size 1200x600 with 1 Axes>"
      ]
     },
     "metadata": {},
     "output_type": "display_data"
    }
   ],
   "source": [
    "plt.figure(figsize=(12, 6))\n",
    "sns.histplot(orders['delivery_delay'], kde=True, color='coral')\n",
    "plt.title(\"Distribusi Keterlambatan Pengiriman\")\n",
    "plt.xlabel(\"Jumlah Hari Keterlambatan\")\n",
    "plt.ylabel(\"Jumlah Pesanan\")\n",
    "plt.show()\n"
   ]
  },
  {
   "cell_type": "markdown",
   "id": "3d070fc5-d691-4f6e-aa5a-a0c81d2174ae",
   "metadata": {},
   "source": [
    "**Insight:**\n",
    "\n",
    "Pada histogram ini, kita melihat distribusi jumlah hari keterlambatan pengiriman untuk berbagai pesanan. Sebagian besar pesanan berada di sekitar titik 0 hari keterlambatan, yang berarti pengiriman sebagian besar pesanan sesuai dengan waktu yang dijanjikan. Namun, terdapat beberapa pesanan yang mengalami keterlambatan signifikan, bahkan hingga lebih dari 50 hari. Demikian pula, terdapat beberapa pesanan yang dikirim lebih awal (dengan nilai negatif) hingga lebih dari 50 hari sebelum waktu yang diharapkan.\n",
    "**Insight utama adalah bahwa walaupun banyak pengiriman tepat waktu atau lebih awal, masih ada beberapa kasus keterlambatan yang cukup ekstrem, yang dapat berdampak pada kepuasan pelanggan.**"
   ]
  },
  {
   "cell_type": "markdown",
   "id": "02d2cdc4-8294-4c09-a083-e36ee4d06351",
   "metadata": {},
   "source": [
    "5. Apakah ada hubungan antara keterlambatan pengiriman dengan review negatif?"
   ]
  },
  {
   "cell_type": "code",
   "execution_count": 56,
   "id": "861b9516-50b8-49f8-b52b-dd00400740c8",
   "metadata": {},
   "outputs": [
    {
     "name": "stderr",
     "output_type": "stream",
     "text": [
      "C:\\Users\\ASUS\\AppData\\Local\\Temp\\ipykernel_10496\\2872180025.py:3: FutureWarning: \n",
      "\n",
      "Passing `palette` without assigning `hue` is deprecated and will be removed in v0.14.0. Assign the `x` variable to `hue` and set `legend=False` for the same effect.\n",
      "\n",
      "  sns.boxplot(data=orders_reviews, x='review_score', y='delivery_delay', palette='Set2')\n"
     ]
    },
    {
     "data": {
      "image/png": "[encoded data removed]",
      "text/plain": [
       "<Figure size 1200x600 with 1 Axes>"
      ]
     },
     "metadata": {},
     "output_type": "display_data"
    }
   ],
   "source": [
    "orders_reviews = orders.merge(order_reviews, on='order_id', how='left')\n",
    "plt.figure(figsize=(12, 6))\n",
    "sns.boxplot(data=orders_reviews, x='review_score', y='delivery_delay', palette='Set2')\n",
    "plt.title(\"Keterlambatan Pengiriman Berdasarkan Skor Ulasan\")\n",
    "plt.xlabel(\"Skor Ulasan\")\n",
    "plt.ylabel(\"Jumlah Hari Keterlambatan\")\n",
    "plt.show()"
   ]
  },
  {
   "cell_type": "markdown",
   "id": "88e30cb0-1e73-4e0c-9499-31db6d36338d",
   "metadata": {},
   "source": [
    "**Insight:**\n",
    "\n",
    "  Pada box plot ini, kita bisa melihat hubungan antara jumlah hari keterlambatan dan skor ulasan yang diberikan oleh pelanggan.\n",
    "Secara umum, tidak ada perubahan besar dalam median keterlambatan pengiriman di setiap kelompok skor ulasan (1 hingga 5). Ini menunjukkan bahwa keterlambatan pengiriman mungkin tidak selalu berhubungan langsung dengan skor ulasan yang diberikan.\n",
    "Namun, ada beberapa outlier di setiap kelompok skor, terutama pada skor rendah (1 dan 2), yang menunjukkan bahwa pesanan yang mengalami keterlambatan lebih dari 50 hari lebih sering dikaitkan dengan ulasan yang lebih rendah.\n",
    "**Hal ini dapat dikatakan bahwa pengiriman tepat waktu mungkin tidak cukup untuk mendapatkan skor ulasan tinggi. Mungkin ada faktor lain seperti kualitas produk atau layanan yang mempengaruhi skor ulasan pelanggan.**"
   ]
  },
  {
   "cell_type": "markdown",
   "id": "ffc544de-4a42-431c-bc8e-8ccc183df12e",
   "metadata": {},
   "source": [
    "6. Metode pembayaran mana yang paling sering digunakan pelanggan?"
   ]
  },
  {
   "cell_type": "code",
   "execution_count": 57,
   "id": "c439bc50-d9b7-480b-a3c6-a4f1876c9bff",
   "metadata": {},
   "outputs": [
    {
     "name": "stderr",
     "output_type": "stream",
     "text": [
      "C:\\Users\\ASUS\\AppData\\Local\\Temp\\ipykernel_10496\\3591984336.py:3: FutureWarning: \n",
      "\n",
      "Passing `palette` without assigning `hue` is deprecated and will be removed in v0.14.0. Assign the `x` variable to `hue` and set `legend=False` for the same effect.\n",
      "\n",
      "  sns.countplot(data=order_payments, x='payment_type', palette='coolwarm', order=order_payments['payment_type'].value_counts().index)\n"
     ]
    },
    {
     "data": {
      "image/png": "[encoded data removed]",
      "text/plain": [
       "<Figure size 1000x600 with 1 Axes>"
      ]
     },
     "metadata": {},
     "output_type": "display_data"
    }
   ],
   "source": [
    "# Bar plot metode pembayaran\n",
    "plt.figure(figsize=(10, 6))\n",
    "sns.countplot(data=order_payments, x='payment_type', palette='coolwarm', order=order_payments['payment_type'].value_counts().index)\n",
    "plt.title(\"Distribusi Metode Pembayaran\")\n",
    "plt.xlabel(\"Metode Pembayaran\")\n",
    "plt.ylabel(\"Jumlah Transaksi\")\n",
    "plt.show()\n"
   ]
  },
  {
   "cell_type": "markdown",
   "id": "a3bddb47-b46e-4a4c-8aeb-eefdecefbbc6",
   "metadata": {},
   "source": [
    "**Insight:**\n",
    "\n",
    "Penggunaan metode pembayaran lebih didominasi oleh **credit card**, dengan jumlah transaksi jauh lebih tinggi dibandingkan metode lainnya seperti boleto dan voucher. **Hal ini menunjukkan preferensi konsumen terhadap pembayaran yang cepat dan mudah, yang mungkin juga berkaitan dengan kecepatan proses transaksi.**\n",
    "  "
   ]
  },
  {
   "cell_type": "markdown",
   "id": "5a6c6789-e236-43ae-8489-e254a51bd14d",
   "metadata": {},
   "source": [
    "7. Apakah penggunaan metode pembayaran kredit atau cicilan memengaruhi nilai transaksi?"
   ]
  },
  {
   "cell_type": "code",
   "execution_count": 58,
   "id": "ed66bc41-480f-45fa-b8fe-0983463b6286",
   "metadata": {},
   "outputs": [
    {
     "data": {
      "image/png": "[encoded data removed]",
      "text/plain": [
       "<Figure size 1200x600 with 1 Axes>"
      ]
     },
     "metadata": {},
     "output_type": "display_data"
    }
   ],
   "source": [
    "\n",
    "# Scatter plot cicilan vs nilai pembayaran\n",
    "plt.figure(figsize=(12, 6))\n",
    "sns.scatterplot(data=order_payments, x='payment_installments', y='payment_value', hue='payment_type', palette='Spectral', alpha=0.7)\n",
    "plt.title(\"Jumlah Cicilan vs Nilai Pembayaran\")\n",
    "plt.xlabel(\"Jumlah Cicilan\")\n",
    "plt.ylabel(\"Nilai Pembayaran (payment_value)\")\n",
    "plt.show()"
   ]
  },
  {
   "cell_type": "markdown",
   "id": "ebc21a45-e566-4d45-a790-a68b15faeacf",
   "metadata": {},
   "source": [
    "**Insight:**\n",
    "\n",
    "Terdapat variabilitas yang tinggi pada nilai pembayaran dengan jumlah cicilan yang berbeda. Catatan pembayarannya menunjukkan bahwa meskipun ada beberapa nilai tinggi, sebagian besar nilai pembayaran terdistribusi pada jumlah cicilan rendah. **Ini bisa menunjukkan bahwa banyak konsumen memilih cicilan dengan nilai pembayaran yang lebih rendah.**"
   ]
  },
  {
   "cell_type": "markdown",
   "id": "98f5276b-68ed-47f4-9b5f-7d21cbd98364",
   "metadata": {},
   "source": [
    "8.  Bagaimana distribusi skor ulasan?"
   ]
  },
  {
   "cell_type": "code",
   "execution_count": 59,
   "id": "9a2f1a79-e251-485c-bc8c-6a385d941c21",
   "metadata": {},
   "outputs": [
    {
     "name": "stderr",
     "output_type": "stream",
     "text": [
      "C:\\Users\\ASUS\\AppData\\Local\\Temp\\ipykernel_10496\\1086578504.py:2: FutureWarning: \n",
      "\n",
      "Passing `palette` without assigning `hue` is deprecated and will be removed in v0.14.0. Assign the `x` variable to `hue` and set `legend=False` for the same effect.\n",
      "\n",
      "  sns.countplot(data=order_reviews, x='review_score', palette='plasma')\n"
     ]
    },
    {
     "data": {
      "image/png": "[encoded data removed]",
      "text/plain": [
       "<Figure size 1000x600 with 1 Axes>"
      ]
     },
     "metadata": {},
     "output_type": "display_data"
    }
   ],
   "source": [
    "plt.figure(figsize=(10, 6))\n",
    "sns.countplot(data=order_reviews, x='review_score', palette='plasma')\n",
    "plt.title(\"Distribusi Skor Ulasan Pelanggan\")\n",
    "plt.xlabel(\"Skor Ulasan\")\n",
    "plt.ylabel(\"Jumlah Ulasan\")\n",
    "plt.show()"
   ]
  },
  {
   "cell_type": "markdown",
   "id": "c7a9b255-806b-4b2e-baa6-2f6d966c36e9",
   "metadata": {},
   "source": [
    "**Insight:**\n",
    "\n",
    "Skor ulasan pelanggan menunjukkan kecenderungan positif, dengan jumlah ulasan paling banyak di skor 5, diikuti oleh 4. **Ini menandakan kepuasan yang tinggi di antara pelanggan, di mana sebagian besar merasa puas dengan produk atau layanan yang diberikan.**"
   ]
  },
  {
   "cell_type": "markdown",
   "id": "51e55c3c-810d-4fce-ab3e-d7568c2e8bec",
   "metadata": {},
   "source": [
    "9. Apakah harga produk dan biaya pengiriman memengaruhi keputusan pembelian pelanggan?"
   ]
  },
  {
   "cell_type": "code",
   "execution_count": 60,
   "id": "e9831b94-4cab-4bc9-bddc-4c0f9a159db5",
   "metadata": {},
   "outputs": [
    {
     "data": {
      "image/png": "[encoded data removed]",
      "text/plain": [
       "<Figure size 1200x600 with 1 Axes>"
      ]
     },
     "metadata": {},
     "output_type": "display_data"
    }
   ],
   "source": [
    "plt.figure(figsize=(12, 6))\n",
    "sns.scatterplot(data=order_items.merge(products, on='product_id'), x='price', y='freight_value', alpha=0.7)\n",
    "plt.title(\"Harga Produk vs Biaya Pengiriman\")\n",
    "plt.xlabel(\"Harga Produk\")\n",
    "plt.ylabel(\"Biaya Pengiriman\")\n",
    "plt.show()"
   ]
  },
  {
   "cell_type": "markdown",
   "id": "f8c99ee7-6502-44f8-acf2-499490295058",
   "metadata": {},
   "source": [
    "**Insight:**\n",
    "\n",
    "**Terdapat kecenderungan bahwa produk dengan harga yang lebih rendah juga memiliki biaya pengiriman yang lebih rendah.** Namun, ada beberapa titik data dengan biaya pengiriman yang tinggi untuk produk berharga rendah, yang mungkin menarik perhatian untuk analisis lebih lanjut terkait biaya pengiriman."
   ]
  },
  {
   "cell_type": "markdown",
   "id": "8714b84e-79ca-4c7b-aa95-e85eb962b2af",
   "metadata": {},
   "source": [
    "10. Apakah terdapat pola pembelian khusus di wilayah tertentu yang dapat memengaruhi strategi pemasaran regional?"
   ]
  },
  {
   "cell_type": "code",
   "execution_count": 61,
   "id": "1b56a09b-9dd2-4acf-b963-76f06e71e33e",
   "metadata": {},
   "outputs": [
    {
     "name": "stderr",
     "output_type": "stream",
     "text": [
      "C:\\Users\\ASUS\\AppData\\Local\\Temp\\ipykernel_10496\\182593981.py:3: FutureWarning: \n",
      "\n",
      "Passing `palette` without assigning `hue` is deprecated and will be removed in v0.14.0. Assign the `y` variable to `hue` and set `legend=False` for the same effect.\n",
      "\n",
      "  sns.countplot(data=customers, y='customer_state', order=customers['customer_state'].value_counts().index, palette='viridis')\n"
     ]
    },
    {
     "data": {
      "image/png": "[encoded data removed]",
      "text/plain": [
       "<Figure size 1200x600 with 1 Axes>"
      ]
     },
     "metadata": {},
     "output_type": "display_data"
    }
   ],
   "source": [
    "# Bar plot distribusi pelanggan berdasarkan negara bagian\n",
    "plt.figure(figsize=(12, 6))\n",
    "sns.countplot(data=customers, y='customer_state', order=customers['customer_state'].value_counts().index, palette='viridis')\n",
    "plt.title(\"Distribusi Pelanggan Berdasarkan Negara Bagian\")\n",
    "plt.xlabel(\"Jumlah Pelanggan\")\n",
    "plt.ylabel(\"Negara Bagian\")\n",
    "plt.show()"
   ]
  },
  {
   "cell_type": "markdown",
   "id": "dee1267c-c2ef-4325-99ee-b6ab17d2c922",
   "metadata": {},
   "source": [
    "**Insight:**\n",
    "\n",
    "State **SP** dan **RJ** memiliki jumlah pelanggan yang jauh lebih banyak dibandingkan dengan lainnya. **Hal ini mungkin karena kepadatan penduduk atau tingkat urbanisasi yang lebih tinggi di wilayah tersebut, menunjukkan potensi pasar yang lebih besar.**"
   ]
  },
  {
   "cell_type": "markdown",
   "id": "bb158dbe-5a9a-4999-9d6f-44af0f0fab97",
   "metadata": {},
   "source": [
    "11. Bagaimana tren penjualan dari waktu ke waktu?"
   ]
  },
  {
   "cell_type": "code",
   "execution_count": 62,
   "id": "00e9c836-1e97-45db-b1ec-4139e8258e8d",
   "metadata": {},
   "outputs": [
    {
     "data": {
      "image/png": "[encoded data removed]",
      "text/plain": [
       "<Figure size 1400x600 with 1 Axes>"
      ]
     },
     "metadata": {},
     "output_type": "display_data"
    }
   ],
   "source": [
    "\n",
    "# Menghitung jumlah penjualan bulanan\n",
    "monthly_sales = orders.groupby('year_month').size()\n",
    "\n",
    "# Visualisasi trend penjualan bulanan\n",
    "plt.figure(figsize=(14, 6))\n",
    "monthly_sales.plot(kind='line', marker='o', color='b')\n",
    "plt.title(\"Trend Penjualan Bulanan\")\n",
    "plt.xlabel(\"Tahun-Bulan\")\n",
    "plt.ylabel(\"Jumlah Penjualan\")\n",
    "plt.xticks(rotation=45)\n",
    "plt.grid(True)\n",
    "plt.show()\n"
   ]
  },
  {
   "cell_type": "markdown",
   "id": "d0ec133b-32c0-4610-8261-8ab593ac2060",
   "metadata": {},
   "source": [
    "**Insight:**\n",
    "\n",
    "- Pertumbuhan Penjualan yang Stabil:\n",
    "\n",
    "Terdapat tren pertumbuhan yang stabil dari bulan Oktober 2017 hingga Juni 2018, di mana jumlah penjualan menunjukkan peningkatan yang konsisten. **Ini menunjukkan bahwa produk atau layanan yang ditawarkan semakin diterima oleh pasar.**\n",
    "\n",
    "- Puncak Penjualan:\n",
    "\n",
    "Penjualan mencapai puncaknya pada sekitar bulan Juni 2018, dengan jumlah penjualan tertinggi mendekati 6.000 unit. **Ini mungkin bertepatan dengan strategi pemasaran tertentu, peluncuran produk baru, atau kampanye promosi yang efektif.**\n",
    "\n",
    "- Penurunan Pasca-Puncak:\n",
    "\n",
    "Setelah mencapai puncak, terlihat adanya penurunan signifikan dalam penjualan yang terjadi sekitar Juli 2018. **Penurunan ini bisa disebabkan oleh beberapa faktor, seperti berakhirnya kampanye promosi, musiman, atau meningkatnya persaingan di pasar.**\n",
    "\n",
    "- Fluktuasi yang Konsisten:\n",
    "\n",
    "Setelah penurunan, penjualan tampak lebih fluktuatif dengan sejumlah kenaikan dan penurunan yang kurang signifikan, mencerminkan ketidakstabilan yang mungkin terkait dengan perubahan permintaan konsumen atau kondisi pasar.\n",
    "\n",
    "- Kondisi Bulan Terakhir:\n",
    "\n",
    "Pada Oktober 2018, terjadi penurunan tajam dalam penjualan. **Ini mungkin menunjukkan adanya masalah yang mempengaruhi permintaan, seperti pergeseran preferensi konsumen, masalah dalam distribusi, atau faktor eksternal seperti kondisi ekonomi.**\n",
    "\n",
    "- Pola Musiman yang Terlihat:\n",
    "\n",
    "Kenaikan penjualan yang terlihat menjelang puncak pada Juni 2018 mungkin menunjukkan adanya musim tertentu yang meningkatkan minat konsumen, seperti liburan atau acara khusus yang mendorong orang untuk membeli lebih banyak produk."
   ]
  },
  {
   "cell_type": "markdown",
   "id": "31042613-270d-4713-92a0-00b347076c8c",
   "metadata": {},
   "source": [
    "## Conclusion"
   ]
  },
  {
   "cell_type": "markdown",
   "id": "3495e634-b9b2-46ea-8ee5-1a41a353a127",
   "metadata": {},
   "source": [
    "Berdasarkan pertanyaan bisnis yang telah dijawab, berikut adalah kesimpulan utama:\n",
    "\n",
    "1. **Kategori Produk yang Paling Laris:**\n",
    "   - Produk dalam kategori **bed_bath_table** menjadi yang paling diminati, mencerminkan kebutuhan kenyamanan rumah tangga yang tinggi.\n",
    "   - Kategori lain seperti **health_beauty** dan **sports_leisure** menunjukkan potensi besar untuk pertumbuhan karena konsumen semakin sadar akan kesehatan dan aktivitas luar ruangan.\n",
    "\n",
    "2. **Kategori Kurang Diminati:**\n",
    "   - **Security_and_services** memiliki penjualan terendah. Ini mungkin karena persepsi nilai yang kurang atau kurangnya promosi yang efektif.\n",
    "   - Beberapa kategori seperti **fashion_children_clothes** dapat diarahkan ulang dengan kampanye pemasaran yang lebih kuat untuk meningkatkan penjualan.\n",
    "\n",
    "3. **Pengaruh Deskripsi dan Foto Produk:**\n",
    "   - Panjang deskripsi produk dan jumlah foto tidak memiliki hubungan langsung yang signifikan dengan tingkat penjualan.\n",
    "   - Fokus harus beralih ke kualitas informasi yang disampaikan, bukan sekadar kuantitas.\n",
    "\n",
    "4. **Keterlambatan Pengiriman:**\n",
    "   - Meskipun sebagian besar pengiriman tepat waktu, keterlambatan yang signifikan memengaruhi beberapa pesanan, berpotensi merusak pengalaman pelanggan.\n",
    "   - Ini adalah area penting untuk peningkatan operasional logistik.\n",
    "\n",
    "5. **Keterkaitan dengan Review Negatif:**\n",
    "   - Keterlambatan pengiriman tidak selalu menghasilkan ulasan negatif, tetapi keterlambatan ekstrem dapat menyebabkan skor rendah.\n",
    "   - Faktor lain seperti kualitas produk atau layanan juga memainkan peran besar.\n",
    "\n",
    "6. **Metode Pembayaran Favorit:**\n",
    "   - **Credit card** adalah metode pembayaran yang paling sering digunakan, menunjukkan bahwa pelanggan mengutamakan kenyamanan dan kecepatan.\n",
    "\n",
    "7. **Pengaruh Pembayaran Kredit/Cicilan:**\n",
    "   - Pelanggan cenderung memilih cicilan dengan nilai rendah, menandakan sensitivitas terhadap jumlah pembayaran bulanan.\n",
    "\n",
    "8. **Distribusi Skor Ulasan:**\n",
    "   - Mayoritas pelanggan memberikan skor tinggi (4 dan 5), menunjukkan tingkat kepuasan yang baik secara keseluruhan.\n",
    "\n",
    "9. **Harga dan Biaya Pengiriman:**\n",
    "   - Produk dengan harga rendah cenderung memiliki biaya pengiriman yang rendah. Namun, anomali seperti biaya pengiriman tinggi untuk produk murah perlu diselidiki lebih lanjut.\n",
    "\n",
    "10. **Pola Pembelian Regional:**\n",
    "    - Wilayah seperti **SP** dan **RJ** memiliki jumlah pembelian tertinggi, yang mencerminkan potensi pasar yang lebih besar di area tersebut.\n",
    "\n",
    "11. **Tren Penjualan dari Waktu ke Waktu:**\n",
    "    - Penjualan menunjukkan tren naik hingga puncak pada Juni 2018, kemungkinan besar dipengaruhi oleh kampanye promosi atau momen musiman tertentu.\n",
    "    - Penurunan tajam setelah puncak mengindikasikan perlunya strategi pemasaran lanjutan untuk mempertahankan momentum.\n"
   ]
  },
  {
   "cell_type": "markdown",
   "id": "f46bd269-1afd-459a-b49f-893cf2d5a4b8",
   "metadata": {},
   "source": [
    "## Rekomendasi Strategi Bisnis\n",
    "1. **Optimalisasi Produk:**\n",
    "   - Fokus pemasaran pada kategori **bed_bath_table**, sambil mengembangkan promosi untuk kategori yang kurang diminati seperti **security_and_services**.\n",
    "   \n",
    "2. **Perbaikan Layanan Pengiriman:**\n",
    "   - Mengatasi keterlambatan pengiriman ekstrem untuk meningkatkan pengalaman pelanggan dan mencegah ulasan negatif.\n",
    "\n",
    "3. **Strategi Regional:**\n",
    "   - Maksimalkan potensi di wilayah **SP** dan **RJ** dengan kampanye yang disesuaikan dengan kebutuhan konsumen lokal.\n",
    "\n",
    "4. **Peningkatan Kualitas Visual Produk:**\n",
    "   - Tingkatkan kualitas foto dan deskripsi tanpa menambah jumlah secara berlebihan.\n",
    "\n",
    "5. **Fleksibilitas Pembayaran:**\n",
    "   - Promosikan opsi cicilan yang fleksibel untuk menarik lebih banyak konsumen.\n",
    "\n",
    "6. **Pemanfaatan Tren Penjualan:**\n",
    "   - Lakukan analisis lebih dalam untuk memahami faktor pendorong penjualan tinggi pada Juni 2018 dan tiru strategi serupa di periode lain.\n"
   ]
  }
 ],
 "metadata": {
  "kernelspec": {
   "display_name": "Python 3 (ipykernel)",
   "language": "python",
   "name": "python3"
  },
  "language_info": {
   "codemirror_mode": {
    "name": "ipython",
    "version": 3
   },
   "file_extension": ".py",
   "mimetype": "text/x-python",
   "name": "python",
   "nbconvert_exporter": "python",
   "pygments_lexer": "ipython3",
   "version": "3.12.7"
  }
 },
 "nbformat": 4,
 "nbformat_minor": 5
}
